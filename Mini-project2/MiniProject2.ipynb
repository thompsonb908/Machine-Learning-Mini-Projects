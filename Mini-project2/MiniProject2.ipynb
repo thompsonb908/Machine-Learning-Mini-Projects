{
 "cells": [
  {
   "cell_type": "markdown",
   "metadata": {},
   "source": [
    "# Implementing a two layer neural network from scratch\n",
    "\n",
    "The goal of this exercise is to learn step by step the different elements of a simple two layer network\n",
    "\n",
    "**Steps:**\n",
    "\n",
    "- setup the network, namely define the number of layers and units per layer\n",
    "- initialize the parameters (w's and b's)\n",
    "- Use tanh as the activation function of the hidden layer, and sigmoid for the output layer\n",
    "- Compute the cross entropy loss \n",
    "- Implement forward and backward propagation\n"
   ]
  },
  {
   "cell_type": "markdown",
   "metadata": {},
   "source": [
    "## 1 - Packages ##\n",
    "\n",
    "Let's first import all the packages that you will need during this assignment.\n",
    "- [numpy](www.numpy.org) is the fundamental package for scientific computing with Python.\n",
    "- [sklearn](http://scikit-learn.org/stable/) provides simple and efficient tools for data mining and data analysis. \n",
    "- [matplotlib](http://matplotlib.org) is a library for plotting graphs in Python.\n",
    "- testCases provides some test examples to assess the correctness of your functions\n",
    "- planar_utils provide various useful functions used in this assignment"
   ]
  },
  {
   "cell_type": "code",
   "execution_count": 156,
   "metadata": {},
   "outputs": [],
   "source": [
    "# Package imports\n",
    "import numpy as np\n",
    "import matplotlib.pyplot as plt\n",
    "from testCases_v2 import *\n",
    "import sklearn\n",
    "import sklearn.datasets\n",
    "import sklearn.linear_model\n",
    "\n",
    "from planar_utils import plot_decision_boundary, sigmoid, load_planar_dataset, load_extra_datasets\n",
    "\n",
    "%matplotlib inline\n",
    "\n",
    "np.random.seed(1) # set a seed so that the results are consistent\n",
    "\n"
   ]
  },
  {
   "cell_type": "markdown",
   "metadata": {},
   "source": [
    "## 2 - Dataset ##\n",
    "\n",
    "First, let's get the dataset you will work on. The following code will load a \"flower\" 2-class dataset into variables `X` and `Y`."
   ]
  },
  {
   "cell_type": "code",
   "execution_count": 157,
   "metadata": {},
   "outputs": [],
   "source": [
    "X, Y = load_planar_dataset()"
   ]
  },
  {
   "cell_type": "code",
   "execution_count": 158,
   "metadata": {},
   "outputs": [
    {
     "output_type": "display_data",
     "data": {
      "text/plain": "<Figure size 432x288 with 1 Axes>",
      "image/svg+xml": "<?xml version=\"1.0\" encoding=\"utf-8\" standalone=\"no\"?>\n<!DOCTYPE svg PUBLIC \"-//W3C//DTD SVG 1.1//EN\"\n  \"http://www.w3.org/Graphics/SVG/1.1/DTD/svg11.dtd\">\n<!-- Created with matplotlib (https://matplotlib.org/) -->\n<svg height=\"248.518125pt\" version=\"1.1\" viewBox=\"0 0 370.942187 248.518125\" width=\"370.942187pt\" xmlns=\"http://www.w3.org/2000/svg\" xmlns:xlink=\"http://www.w3.org/1999/xlink\">\n <defs>\n  <style type=\"text/css\">\n*{stroke-linecap:butt;stroke-linejoin:round;}\n  </style>\n </defs>\n <g id=\"figure_1\">\n  <g id=\"patch_1\">\n   <path d=\"M 0 248.518125 \nL 370.942187 248.518125 \nL 370.942187 0 \nL 0 0 \nz\n\" style=\"fill:none;\"/>\n  </g>\n  <g id=\"axes_1\">\n   <g id=\"patch_2\">\n    <path d=\"M 28.942188 224.64 \nL 363.742188 224.64 \nL 363.742188 7.2 \nL 28.942188 7.2 \nz\n\" style=\"fill:#ffffff;\"/>\n   </g>\n   <g id=\"PathCollection_1\">\n    <defs>\n     <path d=\"M 0 3.162278 \nC 0.838646 3.162278 1.643056 2.82908 2.236068 2.236068 \nC 2.82908 1.643056 3.162278 0.838646 3.162278 0 \nC 3.162278 -0.838646 2.82908 -1.643056 2.236068 -2.236068 \nC 1.643056 -2.82908 0.838646 -3.162278 0 -3.162278 \nC -0.838646 -3.162278 -1.643056 -2.82908 -2.236068 -2.236068 \nC -2.82908 -1.643056 -3.162278 -0.838646 -3.162278 0 \nC -3.162278 0.838646 -2.82908 1.643056 -2.236068 2.236068 \nC -1.643056 2.82908 -0.838646 3.162278 0 3.162278 \nz\n\" id=\"C0_0_d170711ccb\"/>\n    </defs>\n    <g clip-path=\"url(#p5e99f4f868)\">\n     <use style=\"fill:#9e0142;stroke:#9e0142;\" x=\"242.911229\" xlink:href=\"#C0_0_d170711ccb\" y=\"28.699071\"/>\n    </g>\n    <g clip-path=\"url(#p5e99f4f868)\">\n     <use style=\"fill:#9e0142;stroke:#9e0142;\" x=\"204.605217\" xlink:href=\"#C0_0_d170711ccb\" y=\"152.113417\"/>\n    </g>\n    <g clip-path=\"url(#p5e99f4f868)\">\n     <use style=\"fill:#9e0142;stroke:#9e0142;\" x=\"202.280528\" xlink:href=\"#C0_0_d170711ccb\" y=\"147.179669\"/>\n    </g>\n    <g clip-path=\"url(#p5e99f4f868)\">\n     <use style=\"fill:#9e0142;stroke:#9e0142;\" x=\"211.582233\" xlink:href=\"#C0_0_d170711ccb\" y=\"166.31842\"/>\n    </g>\n    <g clip-path=\"url(#p5e99f4f868)\">\n     <use style=\"fill:#9e0142;stroke:#9e0142;\" x=\"224.218829\" xlink:href=\"#C0_0_d170711ccb\" y=\"45.460942\"/>\n    </g>\n    <g clip-path=\"url(#p5e99f4f868)\">\n     <use style=\"fill:#9e0142;stroke:#9e0142;\" x=\"258.157264\" xlink:href=\"#C0_0_d170711ccb\" y=\"214.401532\"/>\n    </g>\n    <g clip-path=\"url(#p5e99f4f868)\">\n     <use style=\"fill:#9e0142;stroke:#9e0142;\" x=\"255.15031\" xlink:href=\"#C0_0_d170711ccb\" y=\"36.837395\"/>\n    </g>\n    <g clip-path=\"url(#p5e99f4f868)\">\n     <use style=\"fill:#9e0142;stroke:#9e0142;\" x=\"200.121558\" xlink:href=\"#C0_0_d170711ccb\" y=\"136.785867\"/>\n    </g>\n    <g clip-path=\"url(#p5e99f4f868)\">\n     <use style=\"fill:#9e0142;stroke:#9e0142;\" x=\"216.176198\" xlink:href=\"#C0_0_d170711ccb\" y=\"55.492869\"/>\n    </g>\n    <g clip-path=\"url(#p5e99f4f868)\">\n     <use style=\"fill:#9e0142;stroke:#9e0142;\" x=\"204.861117\" xlink:href=\"#C0_0_d170711ccb\" y=\"71.760931\"/>\n    </g>\n    <g clip-path=\"url(#p5e99f4f868)\">\n     <use style=\"fill:#9e0142;stroke:#9e0142;\" x=\"259.762136\" xlink:href=\"#C0_0_d170711ccb\" y=\"31.710176\"/>\n    </g>\n    <g clip-path=\"url(#p5e99f4f868)\">\n     <use style=\"fill:#9e0142;stroke:#9e0142;\" x=\"229.571883\" xlink:href=\"#C0_0_d170711ccb\" y=\"199.885728\"/>\n    </g>\n    <g clip-path=\"url(#p5e99f4f868)\">\n     <use style=\"fill:#9e0142;stroke:#9e0142;\" x=\"208.377649\" xlink:href=\"#C0_0_d170711ccb\" y=\"64.579872\"/>\n    </g>\n    <g clip-path=\"url(#p5e99f4f868)\">\n     <use style=\"fill:#9e0142;stroke:#9e0142;\" x=\"207.275785\" xlink:href=\"#C0_0_d170711ccb\" y=\"71.696693\"/>\n    </g>\n    <g clip-path=\"url(#p5e99f4f868)\">\n     <use style=\"fill:#9e0142;stroke:#9e0142;\" x=\"256.672977\" xlink:href=\"#C0_0_d170711ccb\" y=\"35.370659\"/>\n    </g>\n    <g clip-path=\"url(#p5e99f4f868)\">\n     <use style=\"fill:#9e0142;stroke:#9e0142;\" x=\"199.024339\" xlink:href=\"#C0_0_d170711ccb\" y=\"105.748966\"/>\n    </g>\n    <g clip-path=\"url(#p5e99f4f868)\">\n     <use style=\"fill:#9e0142;stroke:#9e0142;\" x=\"223.72285\" xlink:href=\"#C0_0_d170711ccb\" y=\"40.404226\"/>\n    </g>\n    <g clip-path=\"url(#p5e99f4f868)\">\n     <use style=\"fill:#9e0142;stroke:#9e0142;\" x=\"203.238542\" xlink:href=\"#C0_0_d170711ccb\" y=\"83.477366\"/>\n    </g>\n    <g clip-path=\"url(#p5e99f4f868)\">\n     <use style=\"fill:#9e0142;stroke:#9e0142;\" x=\"240.287377\" xlink:href=\"#C0_0_d170711ccb\" y=\"23.551627\"/>\n    </g>\n    <g clip-path=\"url(#p5e99f4f868)\">\n     <use style=\"fill:#9e0142;stroke:#9e0142;\" x=\"257.952444\" xlink:href=\"#C0_0_d170711ccb\" y=\"26.38083\"/>\n    </g>\n    <g clip-path=\"url(#p5e99f4f868)\">\n     <use style=\"fill:#9e0142;stroke:#9e0142;\" x=\"204.888906\" xlink:href=\"#C0_0_d170711ccb\" y=\"72.61565\"/>\n    </g>\n    <g clip-path=\"url(#p5e99f4f868)\">\n     <use style=\"fill:#9e0142;stroke:#9e0142;\" x=\"261.957051\" xlink:href=\"#C0_0_d170711ccb\" y=\"48.573905\"/>\n    </g>\n    <g clip-path=\"url(#p5e99f4f868)\">\n     <use style=\"fill:#9e0142;stroke:#9e0142;\" x=\"267.901865\" xlink:href=\"#C0_0_d170711ccb\" y=\"36.522999\"/>\n    </g>\n    <g clip-path=\"url(#p5e99f4f868)\">\n     <use style=\"fill:#9e0142;stroke:#9e0142;\" x=\"261.916386\" xlink:href=\"#C0_0_d170711ccb\" y=\"31.322452\"/>\n    </g>\n    <g clip-path=\"url(#p5e99f4f868)\">\n     <use style=\"fill:#9e0142;stroke:#9e0142;\" x=\"255.445227\" xlink:href=\"#C0_0_d170711ccb\" y=\"55.285395\"/>\n    </g>\n    <g clip-path=\"url(#p5e99f4f868)\">\n     <use style=\"fill:#9e0142;stroke:#9e0142;\" x=\"234.857879\" xlink:href=\"#C0_0_d170711ccb\" y=\"23.876542\"/>\n    </g>\n    <g clip-path=\"url(#p5e99f4f868)\">\n     <use style=\"fill:#9e0142;stroke:#9e0142;\" x=\"252.020985\" xlink:href=\"#C0_0_d170711ccb\" y=\"27.967469\"/>\n    </g>\n    <g clip-path=\"url(#p5e99f4f868)\">\n     <use style=\"fill:#9e0142;stroke:#9e0142;\" x=\"226.229604\" xlink:href=\"#C0_0_d170711ccb\" y=\"40.009557\"/>\n    </g>\n    <g clip-path=\"url(#p5e99f4f868)\">\n     <use style=\"fill:#9e0142;stroke:#9e0142;\" x=\"251.923912\" xlink:href=\"#C0_0_d170711ccb\" y=\"28.721605\"/>\n    </g>\n    <g clip-path=\"url(#p5e99f4f868)\">\n     <use style=\"fill:#9e0142;stroke:#9e0142;\" x=\"258.971503\" xlink:href=\"#C0_0_d170711ccb\" y=\"52.121873\"/>\n    </g>\n    <g clip-path=\"url(#p5e99f4f868)\">\n     <use style=\"fill:#9e0142;stroke:#9e0142;\" x=\"245.730796\" xlink:href=\"#C0_0_d170711ccb\" y=\"25.271828\"/>\n    </g>\n    <g clip-path=\"url(#p5e99f4f868)\">\n     <use style=\"fill:#9e0142;stroke:#9e0142;\" x=\"257.244815\" xlink:href=\"#C0_0_d170711ccb\" y=\"25.552298\"/>\n    </g>\n    <g clip-path=\"url(#p5e99f4f868)\">\n     <use style=\"fill:#9e0142;stroke:#9e0142;\" x=\"252.381779\" xlink:href=\"#C0_0_d170711ccb\" y=\"22.335643\"/>\n    </g>\n    <g clip-path=\"url(#p5e99f4f868)\">\n     <use style=\"fill:#9e0142;stroke:#9e0142;\" x=\"252.502937\" xlink:href=\"#C0_0_d170711ccb\" y=\"17.438468\"/>\n    </g>\n    <g clip-path=\"url(#p5e99f4f868)\">\n     <use style=\"fill:#9e0142;stroke:#9e0142;\" x=\"255.330803\" xlink:href=\"#C0_0_d170711ccb\" y=\"26.584558\"/>\n    </g>\n    <g clip-path=\"url(#p5e99f4f868)\">\n     <use style=\"fill:#9e0142;stroke:#9e0142;\" x=\"256.306814\" xlink:href=\"#C0_0_d170711ccb\" y=\"52.93278\"/>\n    </g>\n    <g clip-path=\"url(#p5e99f4f868)\">\n     <use style=\"fill:#9e0142;stroke:#9e0142;\" x=\"243.845745\" xlink:href=\"#C0_0_d170711ccb\" y=\"31.374899\"/>\n    </g>\n    <g clip-path=\"url(#p5e99f4f868)\">\n     <use style=\"fill:#9e0142;stroke:#9e0142;\" x=\"246.830035\" xlink:href=\"#C0_0_d170711ccb\" y=\"71.787191\"/>\n    </g>\n    <g clip-path=\"url(#p5e99f4f868)\">\n     <use style=\"fill:#9e0142;stroke:#9e0142;\" x=\"125.76272\" xlink:href=\"#C0_0_d170711ccb\" y=\"152.398398\"/>\n    </g>\n    <g clip-path=\"url(#p5e99f4f868)\">\n     <use style=\"fill:#9e0142;stroke:#9e0142;\" x=\"213.244769\" xlink:href=\"#C0_0_d170711ccb\" y=\"105.81939\"/>\n    </g>\n    <g clip-path=\"url(#p5e99f4f868)\">\n     <use style=\"fill:#9e0142;stroke:#9e0142;\" x=\"254.366127\" xlink:href=\"#C0_0_d170711ccb\" y=\"60.518436\"/>\n    </g>\n    <g clip-path=\"url(#p5e99f4f868)\">\n     <use style=\"fill:#9e0142;stroke:#9e0142;\" x=\"260.759553\" xlink:href=\"#C0_0_d170711ccb\" y=\"33.738902\"/>\n    </g>\n    <g clip-path=\"url(#p5e99f4f868)\">\n     <use style=\"fill:#9e0142;stroke:#9e0142;\" x=\"262.59752\" xlink:href=\"#C0_0_d170711ccb\" y=\"39.805137\"/>\n    </g>\n    <g clip-path=\"url(#p5e99f4f868)\">\n     <use style=\"fill:#9e0142;stroke:#9e0142;\" x=\"92.059152\" xlink:href=\"#C0_0_d170711ccb\" y=\"160.336431\"/>\n    </g>\n    <g clip-path=\"url(#p5e99f4f868)\">\n     <use style=\"fill:#9e0142;stroke:#9e0142;\" x=\"226.343434\" xlink:href=\"#C0_0_d170711ccb\" y=\"94.163757\"/>\n    </g>\n    <g clip-path=\"url(#p5e99f4f868)\">\n     <use style=\"fill:#9e0142;stroke:#9e0142;\" x=\"260.528106\" xlink:href=\"#C0_0_d170711ccb\" y=\"52.930513\"/>\n    </g>\n    <g clip-path=\"url(#p5e99f4f868)\">\n     <use style=\"fill:#9e0142;stroke:#9e0142;\" x=\"212.387443\" xlink:href=\"#C0_0_d170711ccb\" y=\"106.411246\"/>\n    </g>\n    <g clip-path=\"url(#p5e99f4f868)\">\n     <use style=\"fill:#9e0142;stroke:#9e0142;\" x=\"62.146258\" xlink:href=\"#C0_0_d170711ccb\" y=\"155.926961\"/>\n    </g>\n    <g clip-path=\"url(#p5e99f4f868)\">\n     <use style=\"fill:#9e0142;stroke:#9e0142;\" x=\"211.70332\" xlink:href=\"#C0_0_d170711ccb\" y=\"107.197897\"/>\n    </g>\n    <g clip-path=\"url(#p5e99f4f868)\">\n     <use style=\"fill:#9e0142;stroke:#9e0142;\" x=\"144.323672\" xlink:href=\"#C0_0_d170711ccb\" y=\"145.23514\"/>\n    </g>\n    <g clip-path=\"url(#p5e99f4f868)\">\n     <use style=\"fill:#9e0142;stroke:#9e0142;\" x=\"171.490964\" xlink:href=\"#C0_0_d170711ccb\" y=\"132.120756\"/>\n    </g>\n    <g clip-path=\"url(#p5e99f4f868)\">\n     <use style=\"fill:#9e0142;stroke:#9e0142;\" x=\"219.444263\" xlink:href=\"#C0_0_d170711ccb\" y=\"100.553073\"/>\n    </g>\n    <g clip-path=\"url(#p5e99f4f868)\">\n     <use style=\"fill:#9e0142;stroke:#9e0142;\" x=\"245.346793\" xlink:href=\"#C0_0_d170711ccb\" y=\"69.313403\"/>\n    </g>\n    <g clip-path=\"url(#p5e99f4f868)\">\n     <use style=\"fill:#9e0142;stroke:#9e0142;\" x=\"218.393918\" xlink:href=\"#C0_0_d170711ccb\" y=\"102.243497\"/>\n    </g>\n    <g clip-path=\"url(#p5e99f4f868)\">\n     <use style=\"fill:#9e0142;stroke:#9e0142;\" x=\"192.515578\" xlink:href=\"#C0_0_d170711ccb\" y=\"119.971356\"/>\n    </g>\n    <g clip-path=\"url(#p5e99f4f868)\">\n     <use style=\"fill:#9e0142;stroke:#9e0142;\" x=\"107.142281\" xlink:href=\"#C0_0_d170711ccb\" y=\"156.925924\"/>\n    </g>\n    <g clip-path=\"url(#p5e99f4f868)\">\n     <use style=\"fill:#9e0142;stroke:#9e0142;\" x=\"102.351649\" xlink:href=\"#C0_0_d170711ccb\" y=\"153.157853\"/>\n    </g>\n    <g clip-path=\"url(#p5e99f4f868)\">\n     <use style=\"fill:#9e0142;stroke:#9e0142;\" x=\"83.198833\" xlink:href=\"#C0_0_d170711ccb\" y=\"157.107233\"/>\n    </g>\n    <g clip-path=\"url(#p5e99f4f868)\">\n     <use style=\"fill:#9e0142;stroke:#9e0142;\" x=\"121.492324\" xlink:href=\"#C0_0_d170711ccb\" y=\"151.502775\"/>\n    </g>\n    <g clip-path=\"url(#p5e99f4f868)\">\n     <use style=\"fill:#9e0142;stroke:#9e0142;\" x=\"70.106248\" xlink:href=\"#C0_0_d170711ccb\" y=\"159.354378\"/>\n    </g>\n    <g clip-path=\"url(#p5e99f4f868)\">\n     <use style=\"fill:#9e0142;stroke:#9e0142;\" x=\"197.502076\" xlink:href=\"#C0_0_d170711ccb\" y=\"116.802037\"/>\n    </g>\n    <g clip-path=\"url(#p5e99f4f868)\">\n     <use style=\"fill:#9e0142;stroke:#9e0142;\" x=\"52.325823\" xlink:href=\"#C0_0_d170711ccb\" y=\"153.099319\"/>\n    </g>\n    <g clip-path=\"url(#p5e99f4f868)\">\n     <use style=\"fill:#9e0142;stroke:#9e0142;\" x=\"85.933726\" xlink:href=\"#C0_0_d170711ccb\" y=\"156.641598\"/>\n    </g>\n    <g clip-path=\"url(#p5e99f4f868)\">\n     <use style=\"fill:#9e0142;stroke:#9e0142;\" x=\"133.213984\" xlink:href=\"#C0_0_d170711ccb\" y=\"148.653612\"/>\n    </g>\n    <g clip-path=\"url(#p5e99f4f868)\">\n     <use style=\"fill:#9e0142;stroke:#9e0142;\" x=\"75.155078\" xlink:href=\"#C0_0_d170711ccb\" y=\"157.748026\"/>\n    </g>\n    <g clip-path=\"url(#p5e99f4f868)\">\n     <use style=\"fill:#9e0142;stroke:#9e0142;\" x=\"111.398311\" xlink:href=\"#C0_0_d170711ccb\" y=\"153.000169\"/>\n    </g>\n    <g clip-path=\"url(#p5e99f4f868)\">\n     <use style=\"fill:#9e0142;stroke:#9e0142;\" x=\"68.846989\" xlink:href=\"#C0_0_d170711ccb\" y=\"143.646574\"/>\n    </g>\n    <g clip-path=\"url(#p5e99f4f868)\">\n     <use style=\"fill:#9e0142;stroke:#9e0142;\" x=\"91.703465\" xlink:href=\"#C0_0_d170711ccb\" y=\"131.630107\"/>\n    </g>\n    <g clip-path=\"url(#p5e99f4f868)\">\n     <use style=\"fill:#9e0142;stroke:#9e0142;\" x=\"161.790886\" xlink:href=\"#C0_0_d170711ccb\" y=\"117.618044\"/>\n    </g>\n    <g clip-path=\"url(#p5e99f4f868)\">\n     <use style=\"fill:#9e0142;stroke:#9e0142;\" x=\"187.722238\" xlink:href=\"#C0_0_d170711ccb\" y=\"123.075501\"/>\n    </g>\n    <g clip-path=\"url(#p5e99f4f868)\">\n     <use style=\"fill:#9e0142;stroke:#9e0142;\" x=\"193.372123\" xlink:href=\"#C0_0_d170711ccb\" y=\"119.39624\"/>\n    </g>\n    <g clip-path=\"url(#p5e99f4f868)\">\n     <use style=\"fill:#9e0142;stroke:#9e0142;\" x=\"110.469748\" xlink:href=\"#C0_0_d170711ccb\" y=\"152.712029\"/>\n    </g>\n    <g clip-path=\"url(#p5e99f4f868)\">\n     <use style=\"fill:#9e0142;stroke:#9e0142;\" x=\"69.826972\" xlink:href=\"#C0_0_d170711ccb\" y=\"153.279326\"/>\n    </g>\n    <g clip-path=\"url(#p5e99f4f868)\">\n     <use style=\"fill:#9e0142;stroke:#9e0142;\" x=\"85.323078\" xlink:href=\"#C0_0_d170711ccb\" y=\"135.332521\"/>\n    </g>\n    <g clip-path=\"url(#p5e99f4f868)\">\n     <use style=\"fill:#9e0142;stroke:#9e0142;\" x=\"57.230518\" xlink:href=\"#C0_0_d170711ccb\" y=\"150.098535\"/>\n    </g>\n    <g clip-path=\"url(#p5e99f4f868)\">\n     <use style=\"fill:#9e0142;stroke:#9e0142;\" x=\"200.060027\" xlink:href=\"#C0_0_d170711ccb\" y=\"115.081923\"/>\n    </g>\n    <g clip-path=\"url(#p5e99f4f868)\">\n     <use style=\"fill:#9e0142;stroke:#9e0142;\" x=\"59.119144\" xlink:href=\"#C0_0_d170711ccb\" y=\"159.802295\"/>\n    </g>\n    <g clip-path=\"url(#p5e99f4f868)\">\n     <use style=\"fill:#9e0142;stroke:#9e0142;\" x=\"105.404563\" xlink:href=\"#C0_0_d170711ccb\" y=\"128.427932\"/>\n    </g>\n    <g clip-path=\"url(#p5e99f4f868)\">\n     <use style=\"fill:#9e0142;stroke:#9e0142;\" x=\"66.249031\" xlink:href=\"#C0_0_d170711ccb\" y=\"143.439788\"/>\n    </g>\n    <g clip-path=\"url(#p5e99f4f868)\">\n     <use style=\"fill:#9e0142;stroke:#9e0142;\" x=\"113.910307\" xlink:href=\"#C0_0_d170711ccb\" y=\"126.227011\"/>\n    </g>\n    <g clip-path=\"url(#p5e99f4f868)\">\n     <use style=\"fill:#9e0142;stroke:#9e0142;\" x=\"57.454066\" xlink:href=\"#C0_0_d170711ccb\" y=\"151.491735\"/>\n    </g>\n    <g clip-path=\"url(#p5e99f4f868)\">\n     <use style=\"fill:#9e0142;stroke:#9e0142;\" x=\"60.626576\" xlink:href=\"#C0_0_d170711ccb\" y=\"148.607369\"/>\n    </g>\n    <g clip-path=\"url(#p5e99f4f868)\">\n     <use style=\"fill:#9e0142;stroke:#9e0142;\" x=\"80.604685\" xlink:href=\"#C0_0_d170711ccb\" y=\"135.871566\"/>\n    </g>\n    <g clip-path=\"url(#p5e99f4f868)\">\n     <use style=\"fill:#9e0142;stroke:#9e0142;\" x=\"107.306822\" xlink:href=\"#C0_0_d170711ccb\" y=\"127.510492\"/>\n    </g>\n    <g clip-path=\"url(#p5e99f4f868)\">\n     <use style=\"fill:#9e0142;stroke:#9e0142;\" x=\"91.039132\" xlink:href=\"#C0_0_d170711ccb\" y=\"131.559733\"/>\n    </g>\n    <g clip-path=\"url(#p5e99f4f868)\">\n     <use style=\"fill:#9e0142;stroke:#9e0142;\" x=\"92.052383\" xlink:href=\"#C0_0_d170711ccb\" y=\"131.426344\"/>\n    </g>\n    <g clip-path=\"url(#p5e99f4f868)\">\n     <use style=\"fill:#9e0142;stroke:#9e0142;\" x=\"63.029031\" xlink:href=\"#C0_0_d170711ccb\" y=\"149.635644\"/>\n    </g>\n    <g clip-path=\"url(#p5e99f4f868)\">\n     <use style=\"fill:#9e0142;stroke:#9e0142;\" x=\"127.264159\" xlink:href=\"#C0_0_d170711ccb\" y=\"122.240532\"/>\n    </g>\n    <g clip-path=\"url(#p5e99f4f868)\">\n     <use style=\"fill:#9e0142;stroke:#9e0142;\" x=\"101.346139\" xlink:href=\"#C0_0_d170711ccb\" y=\"126.873969\"/>\n    </g>\n    <g clip-path=\"url(#p5e99f4f868)\">\n     <use style=\"fill:#9e0142;stroke:#9e0142;\" x=\"228.73005\" xlink:href=\"#C0_0_d170711ccb\" y=\"116.958158\"/>\n    </g>\n    <g clip-path=\"url(#p5e99f4f868)\">\n     <use style=\"fill:#9e0142;stroke:#9e0142;\" x=\"243.396325\" xlink:href=\"#C0_0_d170711ccb\" y=\"118.333862\"/>\n    </g>\n    <g clip-path=\"url(#p5e99f4f868)\">\n     <use style=\"fill:#9e0142;stroke:#9e0142;\" x=\"137.894246\" xlink:href=\"#C0_0_d170711ccb\" y=\"120.308743\"/>\n    </g>\n    <g clip-path=\"url(#p5e99f4f868)\">\n     <use style=\"fill:#9e0142;stroke:#9e0142;\" x=\"98.016041\" xlink:href=\"#C0_0_d170711ccb\" y=\"129.797876\"/>\n    </g>\n    <g clip-path=\"url(#p5e99f4f868)\">\n     <use style=\"fill:#9e0142;stroke:#9e0142;\" x=\"77.223561\" xlink:href=\"#C0_0_d170711ccb\" y=\"135.804743\"/>\n    </g>\n    <g clip-path=\"url(#p5e99f4f868)\">\n     <use style=\"fill:#9e0142;stroke:#9e0142;\" x=\"190.950242\" xlink:href=\"#C0_0_d170711ccb\" y=\"116.015129\"/>\n    </g>\n    <g clip-path=\"url(#p5e99f4f868)\">\n     <use style=\"fill:#9e0142;stroke:#9e0142;\" x=\"158.533486\" xlink:href=\"#C0_0_d170711ccb\" y=\"117.71986\"/>\n    </g>\n    <g clip-path=\"url(#p5e99f4f868)\">\n     <use style=\"fill:#9e0142;stroke:#9e0142;\" x=\"127.446552\" xlink:href=\"#C0_0_d170711ccb\" y=\"122.378208\"/>\n    </g>\n    <g clip-path=\"url(#p5e99f4f868)\">\n     <use style=\"fill:#9e0142;stroke:#9e0142;\" x=\"180.476477\" xlink:href=\"#C0_0_d170711ccb\" y=\"116.454511\"/>\n    </g>\n    <g clip-path=\"url(#p5e99f4f868)\">\n     <use style=\"fill:#9e0142;stroke:#9e0142;\" x=\"106.255371\" xlink:href=\"#C0_0_d170711ccb\" y=\"125.790772\"/>\n    </g>\n    <g clip-path=\"url(#p5e99f4f868)\">\n     <use style=\"fill:#9e0142;stroke:#9e0142;\" x=\"270.720065\" xlink:href=\"#C0_0_d170711ccb\" y=\"121.774767\"/>\n    </g>\n    <g clip-path=\"url(#p5e99f4f868)\">\n     <use style=\"fill:#9e0142;stroke:#9e0142;\" x=\"161.165914\" xlink:href=\"#C0_0_d170711ccb\" y=\"118.272558\"/>\n    </g>\n    <g clip-path=\"url(#p5e99f4f868)\">\n     <use style=\"fill:#9e0142;stroke:#9e0142;\" x=\"309.873834\" xlink:href=\"#C0_0_d170711ccb\" y=\"135.444902\"/>\n    </g>\n    <g clip-path=\"url(#p5e99f4f868)\">\n     <use style=\"fill:#9e0142;stroke:#9e0142;\" x=\"254.308828\" xlink:href=\"#C0_0_d170711ccb\" y=\"120.00105\"/>\n    </g>\n    <g clip-path=\"url(#p5e99f4f868)\">\n     <use style=\"fill:#9e0142;stroke:#9e0142;\" x=\"280.062204\" xlink:href=\"#C0_0_d170711ccb\" y=\"124.84168\"/>\n    </g>\n    <g clip-path=\"url(#p5e99f4f868)\">\n     <use style=\"fill:#9e0142;stroke:#9e0142;\" x=\"110.736302\" xlink:href=\"#C0_0_d170711ccb\" y=\"125.369134\"/>\n    </g>\n    <g clip-path=\"url(#p5e99f4f868)\">\n     <use style=\"fill:#9e0142;stroke:#9e0142;\" x=\"272.284108\" xlink:href=\"#C0_0_d170711ccb\" y=\"121.323021\"/>\n    </g>\n    <g clip-path=\"url(#p5e99f4f868)\">\n     <use style=\"fill:#9e0142;stroke:#9e0142;\" x=\"315.245114\" xlink:href=\"#C0_0_d170711ccb\" y=\"134.868575\"/>\n    </g>\n    <g clip-path=\"url(#p5e99f4f868)\">\n     <use style=\"fill:#9e0142;stroke:#9e0142;\" x=\"145.607895\" xlink:href=\"#C0_0_d170711ccb\" y=\"118.931509\"/>\n    </g>\n    <g clip-path=\"url(#p5e99f4f868)\">\n     <use style=\"fill:#9e0142;stroke:#9e0142;\" x=\"243.296645\" xlink:href=\"#C0_0_d170711ccb\" y=\"118.006112\"/>\n    </g>\n    <g clip-path=\"url(#p5e99f4f868)\">\n     <use style=\"fill:#9e0142;stroke:#9e0142;\" x=\"273.743032\" xlink:href=\"#C0_0_d170711ccb\" y=\"123.2239\"/>\n    </g>\n    <g clip-path=\"url(#p5e99f4f868)\">\n     <use style=\"fill:#9e0142;stroke:#9e0142;\" x=\"139.382761\" xlink:href=\"#C0_0_d170711ccb\" y=\"120.754052\"/>\n    </g>\n    <g clip-path=\"url(#p5e99f4f868)\">\n     <use style=\"fill:#9e0142;stroke:#9e0142;\" x=\"315.274994\" xlink:href=\"#C0_0_d170711ccb\" y=\"134.324603\"/>\n    </g>\n    <g clip-path=\"url(#p5e99f4f868)\">\n     <use style=\"fill:#9e0142;stroke:#9e0142;\" x=\"344.142256\" xlink:href=\"#C0_0_d170711ccb\" y=\"151.775438\"/>\n    </g>\n    <g clip-path=\"url(#p5e99f4f868)\">\n     <use style=\"fill:#9e0142;stroke:#9e0142;\" x=\"210.875964\" xlink:href=\"#C0_0_d170711ccb\" y=\"116.18389\"/>\n    </g>\n    <g clip-path=\"url(#p5e99f4f868)\">\n     <use style=\"fill:#9e0142;stroke:#9e0142;\" x=\"348.178018\" xlink:href=\"#C0_0_d170711ccb\" y=\"145.280393\"/>\n    </g>\n    <g clip-path=\"url(#p5e99f4f868)\">\n     <use style=\"fill:#9e0142;stroke:#9e0142;\" x=\"187.15885\" xlink:href=\"#C0_0_d170711ccb\" y=\"116.185094\"/>\n    </g>\n    <g clip-path=\"url(#p5e99f4f868)\">\n     <use style=\"fill:#9e0142;stroke:#9e0142;\" x=\"320.086784\" xlink:href=\"#C0_0_d170711ccb\" y=\"135.735027\"/>\n    </g>\n    <g clip-path=\"url(#p5e99f4f868)\">\n     <use style=\"fill:#9e0142;stroke:#9e0142;\" x=\"163.889379\" xlink:href=\"#C0_0_d170711ccb\" y=\"117.337413\"/>\n    </g>\n    <g clip-path=\"url(#p5e99f4f868)\">\n     <use style=\"fill:#9e0142;stroke:#9e0142;\" x=\"310.064555\" xlink:href=\"#C0_0_d170711ccb\" y=\"156.781001\"/>\n    </g>\n    <g clip-path=\"url(#p5e99f4f868)\">\n     <use style=\"fill:#9e0142;stroke:#9e0142;\" x=\"328.850291\" xlink:href=\"#C0_0_d170711ccb\" y=\"150.221045\"/>\n    </g>\n    <g clip-path=\"url(#p5e99f4f868)\">\n     <use style=\"fill:#9e0142;stroke:#9e0142;\" x=\"329.193809\" xlink:href=\"#C0_0_d170711ccb\" y=\"143.36073\"/>\n    </g>\n    <g clip-path=\"url(#p5e99f4f868)\">\n     <use style=\"fill:#9e0142;stroke:#9e0142;\" x=\"284.384273\" xlink:href=\"#C0_0_d170711ccb\" y=\"125.810707\"/>\n    </g>\n    <g clip-path=\"url(#p5e99f4f868)\">\n     <use style=\"fill:#9e0142;stroke:#9e0142;\" x=\"283.53779\" xlink:href=\"#C0_0_d170711ccb\" y=\"154.296509\"/>\n    </g>\n    <g clip-path=\"url(#p5e99f4f868)\">\n     <use style=\"fill:#9e0142;stroke:#9e0142;\" x=\"209.029679\" xlink:href=\"#C0_0_d170711ccb\" y=\"122.317121\"/>\n    </g>\n    <g clip-path=\"url(#p5e99f4f868)\">\n     <use style=\"fill:#9e0142;stroke:#9e0142;\" x=\"204.354393\" xlink:href=\"#C0_0_d170711ccb\" y=\"115.957138\"/>\n    </g>\n    <g clip-path=\"url(#p5e99f4f868)\">\n     <use style=\"fill:#9e0142;stroke:#9e0142;\" x=\"270.645034\" xlink:href=\"#C0_0_d170711ccb\" y=\"151.304615\"/>\n    </g>\n    <g clip-path=\"url(#p5e99f4f868)\">\n     <use style=\"fill:#9e0142;stroke:#9e0142;\" x=\"218.841534\" xlink:href=\"#C0_0_d170711ccb\" y=\"127.907059\"/>\n    </g>\n    <g clip-path=\"url(#p5e99f4f868)\">\n     <use style=\"fill:#9e0142;stroke:#9e0142;\" x=\"326.649162\" xlink:href=\"#C0_0_d170711ccb\" y=\"161.152075\"/>\n    </g>\n    <g clip-path=\"url(#p5e99f4f868)\">\n     <use style=\"fill:#9e0142;stroke:#9e0142;\" x=\"298.634663\" xlink:href=\"#C0_0_d170711ccb\" y=\"129.16736\"/>\n    </g>\n    <g clip-path=\"url(#p5e99f4f868)\">\n     <use style=\"fill:#9e0142;stroke:#9e0142;\" x=\"277.037315\" xlink:href=\"#C0_0_d170711ccb\" y=\"153.503426\"/>\n    </g>\n    <g clip-path=\"url(#p5e99f4f868)\">\n     <use style=\"fill:#9e0142;stroke:#9e0142;\" x=\"333.242052\" xlink:href=\"#C0_0_d170711ccb\" y=\"157.152744\"/>\n    </g>\n    <g clip-path=\"url(#p5e99f4f868)\">\n     <use style=\"fill:#9e0142;stroke:#9e0142;\" x=\"342.479863\" xlink:href=\"#C0_0_d170711ccb\" y=\"152.224914\"/>\n    </g>\n    <g clip-path=\"url(#p5e99f4f868)\">\n     <use style=\"fill:#9e0142;stroke:#9e0142;\" x=\"311.930174\" xlink:href=\"#C0_0_d170711ccb\" y=\"135.412761\"/>\n    </g>\n    <g clip-path=\"url(#p5e99f4f868)\">\n     <use style=\"fill:#9e0142;stroke:#9e0142;\" x=\"269.470098\" xlink:href=\"#C0_0_d170711ccb\" y=\"149.882544\"/>\n    </g>\n    <g clip-path=\"url(#p5e99f4f868)\">\n     <use style=\"fill:#9e0142;stroke:#9e0142;\" x=\"249.68894\" xlink:href=\"#C0_0_d170711ccb\" y=\"143.854647\"/>\n    </g>\n    <g clip-path=\"url(#p5e99f4f868)\">\n     <use style=\"fill:#9e0142;stroke:#9e0142;\" x=\"327.522508\" xlink:href=\"#C0_0_d170711ccb\" y=\"154.352401\"/>\n    </g>\n    <g clip-path=\"url(#p5e99f4f868)\">\n     <use style=\"fill:#9e0142;stroke:#9e0142;\" x=\"240.197424\" xlink:href=\"#C0_0_d170711ccb\" y=\"137.602577\"/>\n    </g>\n    <g clip-path=\"url(#p5e99f4f868)\">\n     <use style=\"fill:#9e0142;stroke:#9e0142;\" x=\"320.971911\" xlink:href=\"#C0_0_d170711ccb\" y=\"145.497757\"/>\n    </g>\n    <g clip-path=\"url(#p5e99f4f868)\">\n     <use style=\"fill:#9e0142;stroke:#9e0142;\" x=\"199.12705\" xlink:href=\"#C0_0_d170711ccb\" y=\"116.160254\"/>\n    </g>\n    <g clip-path=\"url(#p5e99f4f868)\">\n     <use style=\"fill:#9e0142;stroke:#9e0142;\" x=\"260.366912\" xlink:href=\"#C0_0_d170711ccb\" y=\"145.09522\"/>\n    </g>\n    <g clip-path=\"url(#p5e99f4f868)\">\n     <use style=\"fill:#9e0142;stroke:#9e0142;\" x=\"283.302817\" xlink:href=\"#C0_0_d170711ccb\" y=\"153.384887\"/>\n    </g>\n    <g clip-path=\"url(#p5e99f4f868)\">\n     <use style=\"fill:#9e0142;stroke:#9e0142;\" x=\"279.893904\" xlink:href=\"#C0_0_d170711ccb\" y=\"154.475515\"/>\n    </g>\n    <g clip-path=\"url(#p5e99f4f868)\">\n     <use style=\"fill:#9e0142;stroke:#9e0142;\" x=\"179.309723\" xlink:href=\"#C0_0_d170711ccb\" y=\"101.781766\"/>\n    </g>\n    <g clip-path=\"url(#p5e99f4f868)\">\n     <use style=\"fill:#9e0142;stroke:#9e0142;\" x=\"186.121876\" xlink:href=\"#C0_0_d170711ccb\" y=\"106.883213\"/>\n    </g>\n    <g clip-path=\"url(#p5e99f4f868)\">\n     <use style=\"fill:#9e0142;stroke:#9e0142;\" x=\"195.187711\" xlink:href=\"#C0_0_d170711ccb\" y=\"113.514623\"/>\n    </g>\n    <g clip-path=\"url(#p5e99f4f868)\">\n     <use style=\"fill:#9e0142;stroke:#9e0142;\" x=\"222.785798\" xlink:href=\"#C0_0_d170711ccb\" y=\"130.256233\"/>\n    </g>\n    <g clip-path=\"url(#p5e99f4f868)\">\n     <use style=\"fill:#9e0142;stroke:#9e0142;\" x=\"220.169736\" xlink:href=\"#C0_0_d170711ccb\" y=\"128.791799\"/>\n    </g>\n    <g clip-path=\"url(#p5e99f4f868)\">\n     <use style=\"fill:#9e0142;stroke:#9e0142;\" x=\"170.652762\" xlink:href=\"#C0_0_d170711ccb\" y=\"94.285817\"/>\n    </g>\n    <g clip-path=\"url(#p5e99f4f868)\">\n     <use style=\"fill:#9e0142;stroke:#9e0142;\" x=\"196.766868\" xlink:href=\"#C0_0_d170711ccb\" y=\"114.57298\"/>\n    </g>\n    <g clip-path=\"url(#p5e99f4f868)\">\n     <use style=\"fill:#9e0142;stroke:#9e0142;\" x=\"152.650677\" xlink:href=\"#C0_0_d170711ccb\" y=\"77.079539\"/>\n    </g>\n    <g clip-path=\"url(#p5e99f4f868)\">\n     <use style=\"fill:#9e0142;stroke:#9e0142;\" x=\"233.327281\" xlink:href=\"#C0_0_d170711ccb\" y=\"136.082801\"/>\n    </g>\n    <g clip-path=\"url(#p5e99f4f868)\">\n     <use style=\"fill:#9e0142;stroke:#9e0142;\" x=\"337.139306\" xlink:href=\"#C0_0_d170711ccb\" y=\"145.435233\"/>\n    </g>\n    <g clip-path=\"url(#p5e99f4f868)\">\n     <use style=\"fill:#9e0142;stroke:#9e0142;\" x=\"136.181286\" xlink:href=\"#C0_0_d170711ccb\" y=\"48.040907\"/>\n    </g>\n    <g clip-path=\"url(#p5e99f4f868)\">\n     <use style=\"fill:#9e0142;stroke:#9e0142;\" x=\"159.168189\" xlink:href=\"#C0_0_d170711ccb\" y=\"32.238265\"/>\n    </g>\n    <g clip-path=\"url(#p5e99f4f868)\">\n     <use style=\"fill:#9e0142;stroke:#9e0142;\" x=\"147.395959\" xlink:href=\"#C0_0_d170711ccb\" y=\"69.861776\"/>\n    </g>\n    <g clip-path=\"url(#p5e99f4f868)\">\n     <use style=\"fill:#9e0142;stroke:#9e0142;\" x=\"175.214701\" xlink:href=\"#C0_0_d170711ccb\" y=\"98.455025\"/>\n    </g>\n    <g clip-path=\"url(#p5e99f4f868)\">\n     <use style=\"fill:#9e0142;stroke:#9e0142;\" x=\"175.620975\" xlink:href=\"#C0_0_d170711ccb\" y=\"98.462484\"/>\n    </g>\n    <g clip-path=\"url(#p5e99f4f868)\">\n     <use style=\"fill:#9e0142;stroke:#9e0142;\" x=\"167.519338\" xlink:href=\"#C0_0_d170711ccb\" y=\"91.415963\"/>\n    </g>\n    <g clip-path=\"url(#p5e99f4f868)\">\n     <use style=\"fill:#9e0142;stroke:#9e0142;\" x=\"153.818991\" xlink:href=\"#C0_0_d170711ccb\" y=\"77.428272\"/>\n    </g>\n    <g clip-path=\"url(#p5e99f4f868)\">\n     <use style=\"fill:#9e0142;stroke:#9e0142;\" x=\"233.61792\" xlink:href=\"#C0_0_d170711ccb\" y=\"135.396518\"/>\n    </g>\n    <g clip-path=\"url(#p5e99f4f868)\">\n     <use style=\"fill:#9e0142;stroke:#9e0142;\" x=\"176.909219\" xlink:href=\"#C0_0_d170711ccb\" y=\"99.874774\"/>\n    </g>\n    <g clip-path=\"url(#p5e99f4f868)\">\n     <use style=\"fill:#9e0142;stroke:#9e0142;\" x=\"217.17776\" xlink:href=\"#C0_0_d170711ccb\" y=\"127.451722\"/>\n    </g>\n    <g clip-path=\"url(#p5e99f4f868)\">\n     <use style=\"fill:#9e0142;stroke:#9e0142;\" x=\"129.563563\" xlink:href=\"#C0_0_d170711ccb\" y=\"41.068254\"/>\n    </g>\n    <g clip-path=\"url(#p5e99f4f868)\">\n     <use style=\"fill:#9e0142;stroke:#9e0142;\" x=\"153.515067\" xlink:href=\"#C0_0_d170711ccb\" y=\"75.895274\"/>\n    </g>\n    <g clip-path=\"url(#p5e99f4f868)\">\n     <use style=\"fill:#9e0142;stroke:#9e0142;\" x=\"134.738347\" xlink:href=\"#C0_0_d170711ccb\" y=\"32.230269\"/>\n    </g>\n    <g clip-path=\"url(#p5e99f4f868)\">\n     <use style=\"fill:#9e0142;stroke:#9e0142;\" x=\"144.274567\" xlink:href=\"#C0_0_d170711ccb\" y=\"61.670939\"/>\n    </g>\n    <g clip-path=\"url(#p5e99f4f868)\">\n     <use style=\"fill:#9e0142;stroke:#9e0142;\" x=\"151.97357\" xlink:href=\"#C0_0_d170711ccb\" y=\"28.273345\"/>\n    </g>\n    <g clip-path=\"url(#p5e99f4f868)\">\n     <use style=\"fill:#9e0142;stroke:#9e0142;\" x=\"125.772314\" xlink:href=\"#C0_0_d170711ccb\" y=\"22.666121\"/>\n    </g>\n    <g clip-path=\"url(#p5e99f4f868)\">\n     <use style=\"fill:#9e0142;stroke:#9e0142;\" x=\"196.297875\" xlink:href=\"#C0_0_d170711ccb\" y=\"92.084827\"/>\n    </g>\n    <g clip-path=\"url(#p5e99f4f868)\">\n     <use style=\"fill:#9e0142;stroke:#9e0142;\" x=\"238.341175\" xlink:href=\"#C0_0_d170711ccb\" y=\"138.119869\"/>\n    </g>\n    <g clip-path=\"url(#p5e99f4f868)\">\n     <use style=\"fill:#9e0142;stroke:#9e0142;\" x=\"143.943148\" xlink:href=\"#C0_0_d170711ccb\" y=\"63.193309\"/>\n    </g>\n    <g clip-path=\"url(#p5e99f4f868)\">\n     <use style=\"fill:#9e0142;stroke:#9e0142;\" x=\"161.337106\" xlink:href=\"#C0_0_d170711ccb\" y=\"29.28948\"/>\n    </g>\n    <g clip-path=\"url(#p5e99f4f868)\">\n     <use style=\"fill:#9e0142;stroke:#9e0142;\" x=\"196.271096\" xlink:href=\"#C0_0_d170711ccb\" y=\"143.548302\"/>\n    </g>\n    <g clip-path=\"url(#p5e99f4f868)\">\n     <use style=\"fill:#9e0142;stroke:#9e0142;\" x=\"133.850894\" xlink:href=\"#C0_0_d170711ccb\" y=\"32.654523\"/>\n    </g>\n    <g clip-path=\"url(#p5e99f4f868)\">\n     <use style=\"fill:#9e0142;stroke:#9e0142;\" x=\"146.444818\" xlink:href=\"#C0_0_d170711ccb\" y=\"34.579666\"/>\n    </g>\n    <g clip-path=\"url(#p5e99f4f868)\">\n     <use style=\"fill:#9e0142;stroke:#9e0142;\" x=\"139.013158\" xlink:href=\"#C0_0_d170711ccb\" y=\"32.059685\"/>\n    </g>\n    <g clip-path=\"url(#p5e99f4f868)\">\n     <use style=\"fill:#9e0142;stroke:#9e0142;\" x=\"193.025366\" xlink:href=\"#C0_0_d170711ccb\" y=\"82.962888\"/>\n    </g>\n    <g clip-path=\"url(#p5e99f4f868)\">\n     <use style=\"fill:#9e0142;stroke:#9e0142;\" x=\"136.617009\" xlink:href=\"#C0_0_d170711ccb\" y=\"24.199525\"/>\n    </g>\n    <g clip-path=\"url(#p5e99f4f868)\">\n     <use style=\"fill:#9e0142;stroke:#9e0142;\" x=\"172.392056\" xlink:href=\"#C0_0_d170711ccb\" y=\"35.362229\"/>\n    </g>\n    <g clip-path=\"url(#p5e99f4f868)\">\n     <use style=\"fill:#9e0142;stroke:#9e0142;\" x=\"143.905198\" xlink:href=\"#C0_0_d170711ccb\" y=\"29.270967\"/>\n    </g>\n    <g clip-path=\"url(#p5e99f4f868)\">\n     <use style=\"fill:#9e0142;stroke:#9e0142;\" x=\"142.641978\" xlink:href=\"#C0_0_d170711ccb\" y=\"58.112534\"/>\n    </g>\n    <g clip-path=\"url(#p5e99f4f868)\">\n     <use style=\"fill:#9e0142;stroke:#9e0142;\" x=\"170.106727\" xlink:href=\"#C0_0_d170711ccb\" y=\"38.245425\"/>\n    </g>\n    <g clip-path=\"url(#p5e99f4f868)\">\n     <use style=\"fill:#9e0142;stroke:#9e0142;\" x=\"178.075147\" xlink:href=\"#C0_0_d170711ccb\" y=\"43.218819\"/>\n    </g>\n    <g clip-path=\"url(#p5e99f4f868)\">\n     <use style=\"fill:#9e0142;stroke:#9e0142;\" x=\"198.634676\" xlink:href=\"#C0_0_d170711ccb\" y=\"108.380741\"/>\n    </g>\n    <g clip-path=\"url(#p5e99f4f868)\">\n     <use style=\"fill:#9e0142;stroke:#9e0142;\" x=\"163.815868\" xlink:href=\"#C0_0_d170711ccb\" y=\"34.586583\"/>\n    </g>\n    <g clip-path=\"url(#p5e99f4f868)\">\n     <use style=\"fill:#9e0142;stroke:#9e0142;\" x=\"146.399506\" xlink:href=\"#C0_0_d170711ccb\" y=\"24.507997\"/>\n    </g>\n    <g clip-path=\"url(#p5e99f4f868)\">\n     <use style=\"fill:#9e0142;stroke:#9e0142;\" x=\"191.496925\" xlink:href=\"#C0_0_d170711ccb\" y=\"73.082944\"/>\n    </g>\n    <g clip-path=\"url(#p5e99f4f868)\">\n     <use style=\"fill:#9e0142;stroke:#9e0142;\" x=\"184.387275\" xlink:href=\"#C0_0_d170711ccb\" y=\"57.093385\"/>\n    </g>\n    <g clip-path=\"url(#p5e99f4f868)\">\n     <use style=\"fill:#9e0142;stroke:#9e0142;\" x=\"187.292495\" xlink:href=\"#C0_0_d170711ccb\" y=\"60.771139\"/>\n    </g>\n    <g clip-path=\"url(#p5e99f4f868)\">\n     <use style=\"fill:#9e0142;stroke:#9e0142;\" x=\"178.438399\" xlink:href=\"#C0_0_d170711ccb\" y=\"46.583789\"/>\n    </g>\n    <g clip-path=\"url(#p5e99f4f868)\">\n     <use style=\"fill:#9e0142;stroke:#9e0142;\" x=\"196.733888\" xlink:href=\"#C0_0_d170711ccb\" y=\"135.676015\"/>\n    </g>\n    <g clip-path=\"url(#p5e99f4f868)\">\n     <use style=\"fill:#9e0142;stroke:#9e0142;\" x=\"196.651365\" xlink:href=\"#C0_0_d170711ccb\" y=\"96.490497\"/>\n    </g>\n    <g clip-path=\"url(#p5e99f4f868)\">\n     <use style=\"fill:#9e0142;stroke:#9e0142;\" x=\"169.229137\" xlink:href=\"#C0_0_d170711ccb\" y=\"193.196809\"/>\n    </g>\n    <g clip-path=\"url(#p5e99f4f868)\">\n     <use style=\"fill:#9e0142;stroke:#9e0142;\" x=\"191.9776\" xlink:href=\"#C0_0_d170711ccb\" y=\"158.385346\"/>\n    </g>\n    <g clip-path=\"url(#p5e99f4f868)\">\n     <use style=\"fill:#9e0142;stroke:#9e0142;\" x=\"198.437843\" xlink:href=\"#C0_0_d170711ccb\" y=\"123.350799\"/>\n    </g>\n    <g clip-path=\"url(#p5e99f4f868)\">\n     <use style=\"fill:#9e0142;stroke:#9e0142;\" x=\"142.869301\" xlink:href=\"#C0_0_d170711ccb\" y=\"30.202623\"/>\n    </g>\n    <g clip-path=\"url(#p5e99f4f868)\">\n     <use style=\"fill:#9e0142;stroke:#9e0142;\" x=\"197.939722\" xlink:href=\"#C0_0_d170711ccb\" y=\"126.886403\"/>\n    </g>\n    <g clip-path=\"url(#p5e99f4f868)\">\n     <use style=\"fill:#9e0142;stroke:#9e0142;\" x=\"198.016201\" xlink:href=\"#C0_0_d170711ccb\" y=\"132.547115\"/>\n    </g>\n    <g clip-path=\"url(#p5e99f4f868)\">\n     <use style=\"fill:#9e0142;stroke:#9e0142;\" x=\"190.076608\" xlink:href=\"#C0_0_d170711ccb\" y=\"162.176438\"/>\n    </g>\n    <g clip-path=\"url(#p5e99f4f868)\">\n     <use style=\"fill:#9e0142;stroke:#9e0142;\" x=\"177.331525\" xlink:href=\"#C0_0_d170711ccb\" y=\"191.372706\"/>\n    </g>\n    <g clip-path=\"url(#p5e99f4f868)\">\n     <use style=\"fill:#5e4fa2;stroke:#5e4fa2;\" x=\"159.578431\" xlink:href=\"#C0_0_d170711ccb\" y=\"26.10282\"/>\n    </g>\n    <g clip-path=\"url(#p5e99f4f868)\">\n     <use style=\"fill:#5e4fa2;stroke:#5e4fa2;\" x=\"198.706231\" xlink:href=\"#C0_0_d170711ccb\" y=\"122.020465\"/>\n    </g>\n    <g clip-path=\"url(#p5e99f4f868)\">\n     <use style=\"fill:#5e4fa2;stroke:#5e4fa2;\" x=\"195.392279\" xlink:href=\"#C0_0_d170711ccb\" y=\"143.097576\"/>\n    </g>\n    <g clip-path=\"url(#p5e99f4f868)\">\n     <use style=\"fill:#5e4fa2;stroke:#5e4fa2;\" x=\"164.941716\" xlink:href=\"#C0_0_d170711ccb\" y=\"196.779685\"/>\n    </g>\n    <g clip-path=\"url(#p5e99f4f868)\">\n     <use style=\"fill:#5e4fa2;stroke:#5e4fa2;\" x=\"197.22589\" xlink:href=\"#C0_0_d170711ccb\" y=\"91.96547\"/>\n    </g>\n    <g clip-path=\"url(#p5e99f4f868)\">\n     <use style=\"fill:#5e4fa2;stroke:#5e4fa2;\" x=\"195.903918\" xlink:href=\"#C0_0_d170711ccb\" y=\"141.862031\"/>\n    </g>\n    <g clip-path=\"url(#p5e99f4f868)\">\n     <use style=\"fill:#5e4fa2;stroke:#5e4fa2;\" x=\"149.167354\" xlink:href=\"#C0_0_d170711ccb\" y=\"27.065621\"/>\n    </g>\n    <g clip-path=\"url(#p5e99f4f868)\">\n     <use style=\"fill:#5e4fa2;stroke:#5e4fa2;\" x=\"195.258481\" xlink:href=\"#C0_0_d170711ccb\" y=\"85.794621\"/>\n    </g>\n    <g clip-path=\"url(#p5e99f4f868)\">\n     <use style=\"fill:#5e4fa2;stroke:#5e4fa2;\" x=\"180.882604\" xlink:href=\"#C0_0_d170711ccb\" y=\"176.613976\"/>\n    </g>\n    <g clip-path=\"url(#p5e99f4f868)\">\n     <use style=\"fill:#5e4fa2;stroke:#5e4fa2;\" x=\"147.351597\" xlink:href=\"#C0_0_d170711ccb\" y=\"212.70186\"/>\n    </g>\n    <g clip-path=\"url(#p5e99f4f868)\">\n     <use style=\"fill:#5e4fa2;stroke:#5e4fa2;\" x=\"195.017395\" xlink:href=\"#C0_0_d170711ccb\" y=\"147.768185\"/>\n    </g>\n    <g clip-path=\"url(#p5e99f4f868)\">\n     <use style=\"fill:#5e4fa2;stroke:#5e4fa2;\" x=\"134.019855\" xlink:href=\"#C0_0_d170711ccb\" y=\"184.43723\"/>\n    </g>\n    <g clip-path=\"url(#p5e99f4f868)\">\n     <use style=\"fill:#5e4fa2;stroke:#5e4fa2;\" x=\"132.330337\" xlink:href=\"#C0_0_d170711ccb\" y=\"193.517404\"/>\n    </g>\n    <g clip-path=\"url(#p5e99f4f868)\">\n     <use style=\"fill:#5e4fa2;stroke:#5e4fa2;\" x=\"184.012733\" xlink:href=\"#C0_0_d170711ccb\" y=\"173.262615\"/>\n    </g>\n    <g clip-path=\"url(#p5e99f4f868)\">\n     <use style=\"fill:#5e4fa2;stroke:#5e4fa2;\" x=\"157.39593\" xlink:href=\"#C0_0_d170711ccb\" y=\"21.76878\"/>\n    </g>\n    <g clip-path=\"url(#p5e99f4f868)\">\n     <use style=\"fill:#5e4fa2;stroke:#5e4fa2;\" x=\"186.698117\" xlink:href=\"#C0_0_d170711ccb\" y=\"59.579032\"/>\n    </g>\n    <g clip-path=\"url(#p5e99f4f868)\">\n     <use style=\"fill:#5e4fa2;stroke:#5e4fa2;\" x=\"194.996854\" xlink:href=\"#C0_0_d170711ccb\" y=\"150.187897\"/>\n    </g>\n    <g clip-path=\"url(#p5e99f4f868)\">\n     <use style=\"fill:#5e4fa2;stroke:#5e4fa2;\" x=\"139.14782\" xlink:href=\"#C0_0_d170711ccb\" y=\"194.525618\"/>\n    </g>\n    <g clip-path=\"url(#p5e99f4f868)\">\n     <use style=\"fill:#5e4fa2;stroke:#5e4fa2;\" x=\"152.243697\" xlink:href=\"#C0_0_d170711ccb\" y=\"208.677116\"/>\n    </g>\n    <g clip-path=\"url(#p5e99f4f868)\">\n     <use style=\"fill:#5e4fa2;stroke:#5e4fa2;\" x=\"186.917123\" xlink:href=\"#C0_0_d170711ccb\" y=\"60.844972\"/>\n    </g>\n    <g clip-path=\"url(#p5e99f4f868)\">\n     <use style=\"fill:#5e4fa2;stroke:#5e4fa2;\" x=\"168.332466\" xlink:href=\"#C0_0_d170711ccb\" y=\"196.674824\"/>\n    </g>\n    <g clip-path=\"url(#p5e99f4f868)\">\n     <use style=\"fill:#5e4fa2;stroke:#5e4fa2;\" x=\"156.467755\" xlink:href=\"#C0_0_d170711ccb\" y=\"154.588093\"/>\n    </g>\n    <g clip-path=\"url(#p5e99f4f868)\">\n     <use style=\"fill:#5e4fa2;stroke:#5e4fa2;\" x=\"166.508111\" xlink:href=\"#C0_0_d170711ccb\" y=\"200.738597\"/>\n    </g>\n    <g clip-path=\"url(#p5e99f4f868)\">\n     <use style=\"fill:#5e4fa2;stroke:#5e4fa2;\" x=\"179.958336\" xlink:href=\"#C0_0_d170711ccb\" y=\"181.523752\"/>\n    </g>\n    <g clip-path=\"url(#p5e99f4f868)\">\n     <use style=\"fill:#5e4fa2;stroke:#5e4fa2;\" x=\"186.267186\" xlink:href=\"#C0_0_d170711ccb\" y=\"124.629556\"/>\n    </g>\n    <g clip-path=\"url(#p5e99f4f868)\">\n     <use style=\"fill:#5e4fa2;stroke:#5e4fa2;\" x=\"143.842246\" xlink:href=\"#C0_0_d170711ccb\" y=\"207.306312\"/>\n    </g>\n    <g clip-path=\"url(#p5e99f4f868)\">\n     <use style=\"fill:#5e4fa2;stroke:#5e4fa2;\" x=\"158.663774\" xlink:href=\"#C0_0_d170711ccb\" y=\"205.446883\"/>\n    </g>\n    <g clip-path=\"url(#p5e99f4f868)\">\n     <use style=\"fill:#5e4fa2;stroke:#5e4fa2;\" x=\"135.844952\" xlink:href=\"#C0_0_d170711ccb\" y=\"198.13069\"/>\n    </g>\n    <g clip-path=\"url(#p5e99f4f868)\">\n     <use style=\"fill:#5e4fa2;stroke:#5e4fa2;\" x=\"137.087351\" xlink:href=\"#C0_0_d170711ccb\" y=\"207.77661\"/>\n    </g>\n    <g clip-path=\"url(#p5e99f4f868)\">\n     <use style=\"fill:#5e4fa2;stroke:#5e4fa2;\" x=\"153.512781\" xlink:href=\"#C0_0_d170711ccb\" y=\"199.280601\"/>\n    </g>\n    <g clip-path=\"url(#p5e99f4f868)\">\n     <use style=\"fill:#5e4fa2;stroke:#5e4fa2;\" x=\"169.238467\" xlink:href=\"#C0_0_d170711ccb\" y=\"139.778839\"/>\n    </g>\n    <g clip-path=\"url(#p5e99f4f868)\">\n     <use style=\"fill:#5e4fa2;stroke:#5e4fa2;\" x=\"159.953119\" xlink:href=\"#C0_0_d170711ccb\" y=\"147.449281\"/>\n    </g>\n    <g clip-path=\"url(#p5e99f4f868)\">\n     <use style=\"fill:#5e4fa2;stroke:#5e4fa2;\" x=\"152.83834\" xlink:href=\"#C0_0_d170711ccb\" y=\"156.356677\"/>\n    </g>\n    <g clip-path=\"url(#p5e99f4f868)\">\n     <use style=\"fill:#5e4fa2;stroke:#5e4fa2;\" x=\"136.138184\" xlink:href=\"#C0_0_d170711ccb\" y=\"197.053539\"/>\n    </g>\n    <g clip-path=\"url(#p5e99f4f868)\">\n     <use style=\"fill:#5e4fa2;stroke:#5e4fa2;\" x=\"182.152168\" xlink:href=\"#C0_0_d170711ccb\" y=\"128.067761\"/>\n    </g>\n    <g clip-path=\"url(#p5e99f4f868)\">\n     <use style=\"fill:#5e4fa2;stroke:#5e4fa2;\" x=\"133.325901\" xlink:href=\"#C0_0_d170711ccb\" y=\"192.602316\"/>\n    </g>\n    <g clip-path=\"url(#p5e99f4f868)\">\n     <use style=\"fill:#5e4fa2;stroke:#5e4fa2;\" x=\"152.440135\" xlink:href=\"#C0_0_d170711ccb\" y=\"157.750707\"/>\n    </g>\n    <g clip-path=\"url(#p5e99f4f868)\">\n     <use style=\"fill:#5e4fa2;stroke:#5e4fa2;\" x=\"188.028644\" xlink:href=\"#C0_0_d170711ccb\" y=\"123.414446\"/>\n    </g>\n    <g clip-path=\"url(#p5e99f4f868)\">\n     <use style=\"fill:#5e4fa2;stroke:#5e4fa2;\" x=\"183.969051\" xlink:href=\"#C0_0_d170711ccb\" y=\"126.851405\"/>\n    </g>\n    <g clip-path=\"url(#p5e99f4f868)\">\n     <use style=\"fill:#5e4fa2;stroke:#5e4fa2;\" x=\"273.199185\" xlink:href=\"#C0_0_d170711ccb\" y=\"80.345732\"/>\n    </g>\n    <g clip-path=\"url(#p5e99f4f868)\">\n     <use style=\"fill:#5e4fa2;stroke:#5e4fa2;\" x=\"161.221365\" xlink:href=\"#C0_0_d170711ccb\" y=\"145.914976\"/>\n    </g>\n    <g clip-path=\"url(#p5e99f4f868)\">\n     <use style=\"fill:#5e4fa2;stroke:#5e4fa2;\" x=\"159.273404\" xlink:href=\"#C0_0_d170711ccb\" y=\"205.990118\"/>\n    </g>\n    <g clip-path=\"url(#p5e99f4f868)\">\n     <use style=\"fill:#5e4fa2;stroke:#5e4fa2;\" x=\"144.311172\" xlink:href=\"#C0_0_d170711ccb\" y=\"200.627455\"/>\n    </g>\n    <g clip-path=\"url(#p5e99f4f868)\">\n     <use style=\"fill:#5e4fa2;stroke:#5e4fa2;\" x=\"254.826948\" xlink:href=\"#C0_0_d170711ccb\" y=\"87.683555\"/>\n    </g>\n    <g clip-path=\"url(#p5e99f4f868)\">\n     <use style=\"fill:#5e4fa2;stroke:#5e4fa2;\" x=\"147.547613\" xlink:href=\"#C0_0_d170711ccb\" y=\"165.627477\"/>\n    </g>\n    <g clip-path=\"url(#p5e99f4f868)\">\n     <use style=\"fill:#5e4fa2;stroke:#5e4fa2;\" x=\"185.336226\" xlink:href=\"#C0_0_d170711ccb\" y=\"125.356611\"/>\n    </g>\n    <g clip-path=\"url(#p5e99f4f868)\">\n     <use style=\"fill:#5e4fa2;stroke:#5e4fa2;\" x=\"142.605196\" xlink:href=\"#C0_0_d170711ccb\" y=\"179.922123\"/>\n    </g>\n    <g clip-path=\"url(#p5e99f4f868)\">\n     <use style=\"fill:#5e4fa2;stroke:#5e4fa2;\" x=\"263.031367\" xlink:href=\"#C0_0_d170711ccb\" y=\"83.06203\"/>\n    </g>\n    <g clip-path=\"url(#p5e99f4f868)\">\n     <use style=\"fill:#5e4fa2;stroke:#5e4fa2;\" x=\"156.337278\" xlink:href=\"#C0_0_d170711ccb\" y=\"152.840154\"/>\n    </g>\n    <g clip-path=\"url(#p5e99f4f868)\">\n     <use style=\"fill:#5e4fa2;stroke:#5e4fa2;\" x=\"306.840888\" xlink:href=\"#C0_0_d170711ccb\" y=\"73.539017\"/>\n    </g>\n    <g clip-path=\"url(#p5e99f4f868)\">\n     <use style=\"fill:#5e4fa2;stroke:#5e4fa2;\" x=\"148.180239\" xlink:href=\"#C0_0_d170711ccb\" y=\"159.757489\"/>\n    </g>\n    <g clip-path=\"url(#p5e99f4f868)\">\n     <use style=\"fill:#5e4fa2;stroke:#5e4fa2;\" x=\"287.145075\" xlink:href=\"#C0_0_d170711ccb\" y=\"78.299657\"/>\n    </g>\n    <g clip-path=\"url(#p5e99f4f868)\">\n     <use style=\"fill:#5e4fa2;stroke:#5e4fa2;\" x=\"253.126498\" xlink:href=\"#C0_0_d170711ccb\" y=\"88.879438\"/>\n    </g>\n    <g clip-path=\"url(#p5e99f4f868)\">\n     <use style=\"fill:#5e4fa2;stroke:#5e4fa2;\" x=\"151.427899\" xlink:href=\"#C0_0_d170711ccb\" y=\"156.191583\"/>\n    </g>\n    <g clip-path=\"url(#p5e99f4f868)\">\n     <use style=\"fill:#5e4fa2;stroke:#5e4fa2;\" x=\"309.723839\" xlink:href=\"#C0_0_d170711ccb\" y=\"73.058876\"/>\n    </g>\n    <g clip-path=\"url(#p5e99f4f868)\">\n     <use style=\"fill:#5e4fa2;stroke:#5e4fa2;\" x=\"156.895147\" xlink:href=\"#C0_0_d170711ccb\" y=\"151.877721\"/>\n    </g>\n    <g clip-path=\"url(#p5e99f4f868)\">\n     <use style=\"fill:#5e4fa2;stroke:#5e4fa2;\" x=\"159.64398\" xlink:href=\"#C0_0_d170711ccb\" y=\"147.421426\"/>\n    </g>\n    <g clip-path=\"url(#p5e99f4f868)\">\n     <use style=\"fill:#5e4fa2;stroke:#5e4fa2;\" x=\"297.961647\" xlink:href=\"#C0_0_d170711ccb\" y=\"75.053914\"/>\n    </g>\n    <g clip-path=\"url(#p5e99f4f868)\">\n     <use style=\"fill:#5e4fa2;stroke:#5e4fa2;\" x=\"190.402257\" xlink:href=\"#C0_0_d170711ccb\" y=\"121.79831\"/>\n    </g>\n    <g clip-path=\"url(#p5e99f4f868)\">\n     <use style=\"fill:#5e4fa2;stroke:#5e4fa2;\" x=\"205.399225\" xlink:href=\"#C0_0_d170711ccb\" y=\"111.54313\"/>\n    </g>\n    <g clip-path=\"url(#p5e99f4f868)\">\n     <use style=\"fill:#5e4fa2;stroke:#5e4fa2;\" x=\"227.656615\" xlink:href=\"#C0_0_d170711ccb\" y=\"99.072399\"/>\n    </g>\n    <g clip-path=\"url(#p5e99f4f868)\">\n     <use style=\"fill:#5e4fa2;stroke:#5e4fa2;\" x=\"192.73679\" xlink:href=\"#C0_0_d170711ccb\" y=\"120.414238\"/>\n    </g>\n    <g clip-path=\"url(#p5e99f4f868)\">\n     <use style=\"fill:#5e4fa2;stroke:#5e4fa2;\" x=\"335.783339\" xlink:href=\"#C0_0_d170711ccb\" y=\"76.148338\"/>\n    </g>\n    <g clip-path=\"url(#p5e99f4f868)\">\n     <use style=\"fill:#5e4fa2;stroke:#5e4fa2;\" x=\"326.550852\" xlink:href=\"#C0_0_d170711ccb\" y=\"71.329625\"/>\n    </g>\n    <g clip-path=\"url(#p5e99f4f868)\">\n     <use style=\"fill:#5e4fa2;stroke:#5e4fa2;\" x=\"275.121989\" xlink:href=\"#C0_0_d170711ccb\" y=\"80.956359\"/>\n    </g>\n    <g clip-path=\"url(#p5e99f4f868)\">\n     <use style=\"fill:#5e4fa2;stroke:#5e4fa2;\" x=\"285.442977\" xlink:href=\"#C0_0_d170711ccb\" y=\"76.890073\"/>\n    </g>\n    <g clip-path=\"url(#p5e99f4f868)\">\n     <use style=\"fill:#5e4fa2;stroke:#5e4fa2;\" x=\"325.914837\" xlink:href=\"#C0_0_d170711ccb\" y=\"73.197158\"/>\n    </g>\n    <g clip-path=\"url(#p5e99f4f868)\">\n     <use style=\"fill:#5e4fa2;stroke:#5e4fa2;\" x=\"287.773198\" xlink:href=\"#C0_0_d170711ccb\" y=\"104.621877\"/>\n    </g>\n    <g clip-path=\"url(#p5e99f4f868)\">\n     <use style=\"fill:#5e4fa2;stroke:#5e4fa2;\" x=\"341.72887\" xlink:href=\"#C0_0_d170711ccb\" y=\"80.975154\"/>\n    </g>\n    <g clip-path=\"url(#p5e99f4f868)\">\n     <use style=\"fill:#5e4fa2;stroke:#5e4fa2;\" x=\"273.449627\" xlink:href=\"#C0_0_d170711ccb\" y=\"81.027166\"/>\n    </g>\n    <g clip-path=\"url(#p5e99f4f868)\">\n     <use style=\"fill:#5e4fa2;stroke:#5e4fa2;\" x=\"346.922256\" xlink:href=\"#C0_0_d170711ccb\" y=\"81.114079\"/>\n    </g>\n    <g clip-path=\"url(#p5e99f4f868)\">\n     <use style=\"fill:#5e4fa2;stroke:#5e4fa2;\" x=\"314.303479\" xlink:href=\"#C0_0_d170711ccb\" y=\"73.621201\"/>\n    </g>\n    <g clip-path=\"url(#p5e99f4f868)\">\n     <use style=\"fill:#5e4fa2;stroke:#5e4fa2;\" x=\"312.142523\" xlink:href=\"#C0_0_d170711ccb\" y=\"74.376984\"/>\n    </g>\n    <g clip-path=\"url(#p5e99f4f868)\">\n     <use style=\"fill:#5e4fa2;stroke:#5e4fa2;\" x=\"235.450736\" xlink:href=\"#C0_0_d170711ccb\" y=\"114.126499\"/>\n    </g>\n    <g clip-path=\"url(#p5e99f4f868)\">\n     <use style=\"fill:#5e4fa2;stroke:#5e4fa2;\" x=\"316.782672\" xlink:href=\"#C0_0_d170711ccb\" y=\"71.372308\"/>\n    </g>\n    <g clip-path=\"url(#p5e99f4f868)\">\n     <use style=\"fill:#5e4fa2;stroke:#5e4fa2;\" x=\"310.110768\" xlink:href=\"#C0_0_d170711ccb\" y=\"74.247951\"/>\n    </g>\n    <g clip-path=\"url(#p5e99f4f868)\">\n     <use style=\"fill:#5e4fa2;stroke:#5e4fa2;\" x=\"194.74142\" xlink:href=\"#C0_0_d170711ccb\" y=\"118.68015\"/>\n    </g>\n    <g clip-path=\"url(#p5e99f4f868)\">\n     <use style=\"fill:#5e4fa2;stroke:#5e4fa2;\" x=\"252.030219\" xlink:href=\"#C0_0_d170711ccb\" y=\"88.109124\"/>\n    </g>\n    <g clip-path=\"url(#p5e99f4f868)\">\n     <use style=\"fill:#5e4fa2;stroke:#5e4fa2;\" x=\"324.327039\" xlink:href=\"#C0_0_d170711ccb\" y=\"91.974873\"/>\n    </g>\n    <g clip-path=\"url(#p5e99f4f868)\">\n     <use style=\"fill:#5e4fa2;stroke:#5e4fa2;\" x=\"314.683123\" xlink:href=\"#C0_0_d170711ccb\" y=\"74.501788\"/>\n    </g>\n    <g clip-path=\"url(#p5e99f4f868)\">\n     <use style=\"fill:#5e4fa2;stroke:#5e4fa2;\" x=\"311.041235\" xlink:href=\"#C0_0_d170711ccb\" y=\"98.047352\"/>\n    </g>\n    <g clip-path=\"url(#p5e99f4f868)\">\n     <use style=\"fill:#5e4fa2;stroke:#5e4fa2;\" x=\"307.641075\" xlink:href=\"#C0_0_d170711ccb\" y=\"71.956392\"/>\n    </g>\n    <g clip-path=\"url(#p5e99f4f868)\">\n     <use style=\"fill:#5e4fa2;stroke:#5e4fa2;\" x=\"333.15963\" xlink:href=\"#C0_0_d170711ccb\" y=\"71.58435\"/>\n    </g>\n    <g clip-path=\"url(#p5e99f4f868)\">\n     <use style=\"fill:#5e4fa2;stroke:#5e4fa2;\" x=\"265.304421\" xlink:href=\"#C0_0_d170711ccb\" y=\"108.975395\"/>\n    </g>\n    <g clip-path=\"url(#p5e99f4f868)\">\n     <use style=\"fill:#5e4fa2;stroke:#5e4fa2;\" x=\"174.906212\" xlink:href=\"#C0_0_d170711ccb\" y=\"115.683844\"/>\n    </g>\n    <g clip-path=\"url(#p5e99f4f868)\">\n     <use style=\"fill:#5e4fa2;stroke:#5e4fa2;\" x=\"286.546278\" xlink:href=\"#C0_0_d170711ccb\" y=\"107.640413\"/>\n    </g>\n    <g clip-path=\"url(#p5e99f4f868)\">\n     <use style=\"fill:#5e4fa2;stroke:#5e4fa2;\" x=\"198.119388\" xlink:href=\"#C0_0_d170711ccb\" y=\"115.952742\"/>\n    </g>\n    <g clip-path=\"url(#p5e99f4f868)\">\n     <use style=\"fill:#5e4fa2;stroke:#5e4fa2;\" x=\"130.868432\" xlink:href=\"#C0_0_d170711ccb\" y=\"110.837237\"/>\n    </g>\n    <g clip-path=\"url(#p5e99f4f868)\">\n     <use style=\"fill:#5e4fa2;stroke:#5e4fa2;\" x=\"196.025612\" xlink:href=\"#C0_0_d170711ccb\" y=\"115.959344\"/>\n    </g>\n    <g clip-path=\"url(#p5e99f4f868)\">\n     <use style=\"fill:#5e4fa2;stroke:#5e4fa2;\" x=\"333.712799\" xlink:href=\"#C0_0_d170711ccb\" y=\"79.984063\"/>\n    </g>\n    <g clip-path=\"url(#p5e99f4f868)\">\n     <use style=\"fill:#5e4fa2;stroke:#5e4fa2;\" x=\"309.363276\" xlink:href=\"#C0_0_d170711ccb\" y=\"100.837267\"/>\n    </g>\n    <g clip-path=\"url(#p5e99f4f868)\">\n     <use style=\"fill:#5e4fa2;stroke:#5e4fa2;\" x=\"223.2305\" xlink:href=\"#C0_0_d170711ccb\" y=\"115.30553\"/>\n    </g>\n    <g clip-path=\"url(#p5e99f4f868)\">\n     <use style=\"fill:#5e4fa2;stroke:#5e4fa2;\" x=\"316.727883\" xlink:href=\"#C0_0_d170711ccb\" y=\"97.313739\"/>\n    </g>\n    <g clip-path=\"url(#p5e99f4f868)\">\n     <use style=\"fill:#5e4fa2;stroke:#5e4fa2;\" x=\"223.386205\" xlink:href=\"#C0_0_d170711ccb\" y=\"115.230967\"/>\n    </g>\n    <g clip-path=\"url(#p5e99f4f868)\">\n     <use style=\"fill:#5e4fa2;stroke:#5e4fa2;\" x=\"331.637092\" xlink:href=\"#C0_0_d170711ccb\" y=\"74.892581\"/>\n    </g>\n    <g clip-path=\"url(#p5e99f4f868)\">\n     <use style=\"fill:#5e4fa2;stroke:#5e4fa2;\" x=\"323.956228\" xlink:href=\"#C0_0_d170711ccb\" y=\"92.997616\"/>\n    </g>\n    <g clip-path=\"url(#p5e99f4f868)\">\n     <use style=\"fill:#5e4fa2;stroke:#5e4fa2;\" x=\"180.492419\" xlink:href=\"#C0_0_d170711ccb\" y=\"115.725071\"/>\n    </g>\n    <g clip-path=\"url(#p5e99f4f868)\">\n     <use style=\"fill:#5e4fa2;stroke:#5e4fa2;\" x=\"302.297249\" xlink:href=\"#C0_0_d170711ccb\" y=\"76.568792\"/>\n    </g>\n    <g clip-path=\"url(#p5e99f4f868)\">\n     <use style=\"fill:#5e4fa2;stroke:#5e4fa2;\" x=\"333.322448\" xlink:href=\"#C0_0_d170711ccb\" y=\"90.431387\"/>\n    </g>\n    <g clip-path=\"url(#p5e99f4f868)\">\n     <use style=\"fill:#5e4fa2;stroke:#5e4fa2;\" x=\"227.656878\" xlink:href=\"#C0_0_d170711ccb\" y=\"115.108633\"/>\n    </g>\n    <g clip-path=\"url(#p5e99f4f868)\">\n     <use style=\"fill:#5e4fa2;stroke:#5e4fa2;\" x=\"340.243324\" xlink:href=\"#C0_0_d170711ccb\" y=\"79.578055\"/>\n    </g>\n    <g clip-path=\"url(#p5e99f4f868)\">\n     <use style=\"fill:#5e4fa2;stroke:#5e4fa2;\" x=\"188.330241\" xlink:href=\"#C0_0_d170711ccb\" y=\"115.932948\"/>\n    </g>\n    <g clip-path=\"url(#p5e99f4f868)\">\n     <use style=\"fill:#5e4fa2;stroke:#5e4fa2;\" x=\"282.463721\" xlink:href=\"#C0_0_d170711ccb\" y=\"107.350877\"/>\n    </g>\n    <g clip-path=\"url(#p5e99f4f868)\">\n     <use style=\"fill:#5e4fa2;stroke:#5e4fa2;\" x=\"209.099331\" xlink:href=\"#C0_0_d170711ccb\" y=\"115.70461\"/>\n    </g>\n    <g clip-path=\"url(#p5e99f4f868)\">\n     <use style=\"fill:#5e4fa2;stroke:#5e4fa2;\" x=\"210.275432\" xlink:href=\"#C0_0_d170711ccb\" y=\"115.846452\"/>\n    </g>\n    <g clip-path=\"url(#p5e99f4f868)\">\n     <use style=\"fill:#5e4fa2;stroke:#5e4fa2;\" x=\"146.274573\" xlink:href=\"#C0_0_d170711ccb\" y=\"112.73405\"/>\n    </g>\n    <g clip-path=\"url(#p5e99f4f868)\">\n     <use style=\"fill:#5e4fa2;stroke:#5e4fa2;\" x=\"233.854369\" xlink:href=\"#C0_0_d170711ccb\" y=\"114.940341\"/>\n    </g>\n    <g clip-path=\"url(#p5e99f4f868)\">\n     <use style=\"fill:#5e4fa2;stroke:#5e4fa2;\" x=\"130.864532\" xlink:href=\"#C0_0_d170711ccb\" y=\"111.26785\"/>\n    </g>\n    <g clip-path=\"url(#p5e99f4f868)\">\n     <use style=\"fill:#5e4fa2;stroke:#5e4fa2;\" x=\"212.777399\" xlink:href=\"#C0_0_d170711ccb\" y=\"115.770421\"/>\n    </g>\n    <g clip-path=\"url(#p5e99f4f868)\">\n     <use style=\"fill:#5e4fa2;stroke:#5e4fa2;\" x=\"96.603478\" xlink:href=\"#C0_0_d170711ccb\" y=\"100.174038\"/>\n    </g>\n    <g clip-path=\"url(#p5e99f4f868)\">\n     <use style=\"fill:#5e4fa2;stroke:#5e4fa2;\" x=\"78.441497\" xlink:href=\"#C0_0_d170711ccb\" y=\"75.131277\"/>\n    </g>\n    <g clip-path=\"url(#p5e99f4f868)\">\n     <use style=\"fill:#5e4fa2;stroke:#5e4fa2;\" x=\"117.343016\" xlink:href=\"#C0_0_d170711ccb\" y=\"105.669971\"/>\n    </g>\n    <g clip-path=\"url(#p5e99f4f868)\">\n     <use style=\"fill:#5e4fa2;stroke:#5e4fa2;\" x=\"96.935367\" xlink:href=\"#C0_0_d170711ccb\" y=\"102.370249\"/>\n    </g>\n    <g clip-path=\"url(#p5e99f4f868)\">\n     <use style=\"fill:#5e4fa2;stroke:#5e4fa2;\" x=\"229.059692\" xlink:href=\"#C0_0_d170711ccb\" y=\"114.870465\"/>\n    </g>\n    <g clip-path=\"url(#p5e99f4f868)\">\n     <use style=\"fill:#5e4fa2;stroke:#5e4fa2;\" x=\"62.200753\" xlink:href=\"#C0_0_d170711ccb\" y=\"84.4199\"/>\n    </g>\n    <g clip-path=\"url(#p5e99f4f868)\">\n     <use style=\"fill:#5e4fa2;stroke:#5e4fa2;\" x=\"153.628348\" xlink:href=\"#C0_0_d170711ccb\" y=\"114.173479\"/>\n    </g>\n    <g clip-path=\"url(#p5e99f4f868)\">\n     <use style=\"fill:#5e4fa2;stroke:#5e4fa2;\" x=\"163.664968\" xlink:href=\"#C0_0_d170711ccb\" y=\"114.438738\"/>\n    </g>\n    <g clip-path=\"url(#p5e99f4f868)\">\n     <use style=\"fill:#5e4fa2;stroke:#5e4fa2;\" x=\"57.465875\" xlink:href=\"#C0_0_d170711ccb\" y=\"81.21918\"/>\n    </g>\n    <g clip-path=\"url(#p5e99f4f868)\">\n     <use style=\"fill:#5e4fa2;stroke:#5e4fa2;\" x=\"67.176696\" xlink:href=\"#C0_0_d170711ccb\" y=\"89.420897\"/>\n    </g>\n    <g clip-path=\"url(#p5e99f4f868)\">\n     <use style=\"fill:#5e4fa2;stroke:#5e4fa2;\" x=\"81.686824\" xlink:href=\"#C0_0_d170711ccb\" y=\"73.867256\"/>\n    </g>\n    <g clip-path=\"url(#p5e99f4f868)\">\n     <use style=\"fill:#5e4fa2;stroke:#5e4fa2;\" x=\"120.853355\" xlink:href=\"#C0_0_d170711ccb\" y=\"82.11802\"/>\n    </g>\n    <g clip-path=\"url(#p5e99f4f868)\">\n     <use style=\"fill:#5e4fa2;stroke:#5e4fa2;\" x=\"90.208751\" xlink:href=\"#C0_0_d170711ccb\" y=\"101.533905\"/>\n    </g>\n    <g clip-path=\"url(#p5e99f4f868)\">\n     <use style=\"fill:#5e4fa2;stroke:#5e4fa2;\" x=\"66.820249\" xlink:href=\"#C0_0_d170711ccb\" y=\"84.257131\"/>\n    </g>\n    <g clip-path=\"url(#p5e99f4f868)\">\n     <use style=\"fill:#5e4fa2;stroke:#5e4fa2;\" x=\"155.760287\" xlink:href=\"#C0_0_d170711ccb\" y=\"92.384971\"/>\n    </g>\n    <g clip-path=\"url(#p5e99f4f868)\">\n     <use style=\"fill:#5e4fa2;stroke:#5e4fa2;\" x=\"104.00859\" xlink:href=\"#C0_0_d170711ccb\" y=\"77.674055\"/>\n    </g>\n    <g clip-path=\"url(#p5e99f4f868)\">\n     <use style=\"fill:#5e4fa2;stroke:#5e4fa2;\" x=\"82.930544\" xlink:href=\"#C0_0_d170711ccb\" y=\"72.782543\"/>\n    </g>\n    <g clip-path=\"url(#p5e99f4f868)\">\n     <use style=\"fill:#5e4fa2;stroke:#5e4fa2;\" x=\"135.508961\" xlink:href=\"#C0_0_d170711ccb\" y=\"84.283447\"/>\n    </g>\n    <g clip-path=\"url(#p5e99f4f868)\">\n     <use style=\"fill:#5e4fa2;stroke:#5e4fa2;\" x=\"72.290304\" xlink:href=\"#C0_0_d170711ccb\" y=\"91.918364\"/>\n    </g>\n    <g clip-path=\"url(#p5e99f4f868)\">\n     <use style=\"fill:#5e4fa2;stroke:#5e4fa2;\" x=\"95.758941\" xlink:href=\"#C0_0_d170711ccb\" y=\"74.649562\"/>\n    </g>\n    <g clip-path=\"url(#p5e99f4f868)\">\n     <use style=\"fill:#5e4fa2;stroke:#5e4fa2;\" x=\"160.859159\" xlink:href=\"#C0_0_d170711ccb\" y=\"94.147523\"/>\n    </g>\n    <g clip-path=\"url(#p5e99f4f868)\">\n     <use style=\"fill:#5e4fa2;stroke:#5e4fa2;\" x=\"187.228098\" xlink:href=\"#C0_0_d170711ccb\" y=\"108.482586\"/>\n    </g>\n    <g clip-path=\"url(#p5e99f4f868)\">\n     <use style=\"fill:#5e4fa2;stroke:#5e4fa2;\" x=\"63.205929\" xlink:href=\"#C0_0_d170711ccb\" y=\"87.990895\"/>\n    </g>\n    <g clip-path=\"url(#p5e99f4f868)\">\n     <use style=\"fill:#5e4fa2;stroke:#5e4fa2;\" x=\"44.506357\" xlink:href=\"#C0_0_d170711ccb\" y=\"69.215554\"/>\n    </g>\n    <g clip-path=\"url(#p5e99f4f868)\">\n     <use style=\"fill:#5e4fa2;stroke:#5e4fa2;\" x=\"108.644993\" xlink:href=\"#C0_0_d170711ccb\" y=\"77.517305\"/>\n    </g>\n    <g clip-path=\"url(#p5e99f4f868)\">\n     <use style=\"fill:#5e4fa2;stroke:#5e4fa2;\" x=\"72.939188\" xlink:href=\"#C0_0_d170711ccb\" y=\"75.384236\"/>\n    </g>\n    <g clip-path=\"url(#p5e99f4f868)\">\n     <use style=\"fill:#5e4fa2;stroke:#5e4fa2;\" x=\"76.272861\" xlink:href=\"#C0_0_d170711ccb\" y=\"76.949678\"/>\n    </g>\n    <g clip-path=\"url(#p5e99f4f868)\">\n     <use style=\"fill:#5e4fa2;stroke:#5e4fa2;\" x=\"148.170115\" xlink:href=\"#C0_0_d170711ccb\" y=\"88.870067\"/>\n    </g>\n    <g clip-path=\"url(#p5e99f4f868)\">\n     <use style=\"fill:#5e4fa2;stroke:#5e4fa2;\" x=\"82.324143\" xlink:href=\"#C0_0_d170711ccb\" y=\"75.083201\"/>\n    </g>\n    <g clip-path=\"url(#p5e99f4f868)\">\n     <use style=\"fill:#5e4fa2;stroke:#5e4fa2;\" x=\"110.101193\" xlink:href=\"#C0_0_d170711ccb\" y=\"103.1343\"/>\n    </g>\n    <g clip-path=\"url(#p5e99f4f868)\">\n     <use style=\"fill:#5e4fa2;stroke:#5e4fa2;\" x=\"149.836863\" xlink:href=\"#C0_0_d170711ccb\" y=\"90.682075\"/>\n    </g>\n    <g clip-path=\"url(#p5e99f4f868)\">\n     <use style=\"fill:#5e4fa2;stroke:#5e4fa2;\" x=\"86.591679\" xlink:href=\"#C0_0_d170711ccb\" y=\"73.391063\"/>\n    </g>\n    <g clip-path=\"url(#p5e99f4f868)\">\n     <use style=\"fill:#5e4fa2;stroke:#5e4fa2;\" x=\"68.201084\" xlink:href=\"#C0_0_d170711ccb\" y=\"71.552567\"/>\n    </g>\n    <g clip-path=\"url(#p5e99f4f868)\">\n     <use style=\"fill:#5e4fa2;stroke:#5e4fa2;\" x=\"76.279449\" xlink:href=\"#C0_0_d170711ccb\" y=\"88.837042\"/>\n    </g>\n    <g clip-path=\"url(#p5e99f4f868)\">\n     <use style=\"fill:#5e4fa2;stroke:#5e4fa2;\" x=\"227.27768\" xlink:href=\"#C0_0_d170711ccb\" y=\"137.653189\"/>\n    </g>\n    <g clip-path=\"url(#p5e99f4f868)\">\n     <use style=\"fill:#5e4fa2;stroke:#5e4fa2;\" x=\"89.620519\" xlink:href=\"#C0_0_d170711ccb\" y=\"99.699669\"/>\n    </g>\n    <g clip-path=\"url(#p5e99f4f868)\">\n     <use style=\"fill:#5e4fa2;stroke:#5e4fa2;\" x=\"68.669765\" xlink:href=\"#C0_0_d170711ccb\" y=\"85.184166\"/>\n    </g>\n    <g clip-path=\"url(#p5e99f4f868)\">\n     <use style=\"fill:#5e4fa2;stroke:#5e4fa2;\" x=\"131.766562\" xlink:href=\"#C0_0_d170711ccb\" y=\"82.608818\"/>\n    </g>\n    <g clip-path=\"url(#p5e99f4f868)\">\n     <use style=\"fill:#5e4fa2;stroke:#5e4fa2;\" x=\"252.467687\" xlink:href=\"#C0_0_d170711ccb\" y=\"166.813835\"/>\n    </g>\n    <g clip-path=\"url(#p5e99f4f868)\">\n     <use style=\"fill:#5e4fa2;stroke:#5e4fa2;\" x=\"256.187684\" xlink:href=\"#C0_0_d170711ccb\" y=\"174.194323\"/>\n    </g>\n    <g clip-path=\"url(#p5e99f4f868)\">\n     <use style=\"fill:#5e4fa2;stroke:#5e4fa2;\" x=\"90.165346\" xlink:href=\"#C0_0_d170711ccb\" y=\"75.223638\"/>\n    </g>\n    <g clip-path=\"url(#p5e99f4f868)\">\n     <use style=\"fill:#5e4fa2;stroke:#5e4fa2;\" x=\"163.598293\" xlink:href=\"#C0_0_d170711ccb\" y=\"95.231487\"/>\n    </g>\n    <g clip-path=\"url(#p5e99f4f868)\">\n     <use style=\"fill:#5e4fa2;stroke:#5e4fa2;\" x=\"75.019397\" xlink:href=\"#C0_0_d170711ccb\" y=\"73.766807\"/>\n    </g>\n    <g clip-path=\"url(#p5e99f4f868)\">\n     <use style=\"fill:#5e4fa2;stroke:#5e4fa2;\" x=\"252.688398\" xlink:href=\"#C0_0_d170711ccb\" y=\"171.004347\"/>\n    </g>\n    <g clip-path=\"url(#p5e99f4f868)\">\n     <use style=\"fill:#5e4fa2;stroke:#5e4fa2;\" x=\"87.86266\" xlink:href=\"#C0_0_d170711ccb\" y=\"74.516067\"/>\n    </g>\n    <g clip-path=\"url(#p5e99f4f868)\">\n     <use style=\"fill:#5e4fa2;stroke:#5e4fa2;\" x=\"199.066638\" xlink:href=\"#C0_0_d170711ccb\" y=\"116.136936\"/>\n    </g>\n    <g clip-path=\"url(#p5e99f4f868)\">\n     <use style=\"fill:#5e4fa2;stroke:#5e4fa2;\" x=\"264.628417\" xlink:href=\"#C0_0_d170711ccb\" y=\"191.408335\"/>\n    </g>\n    <g clip-path=\"url(#p5e99f4f868)\">\n     <use style=\"fill:#5e4fa2;stroke:#5e4fa2;\" x=\"213.117034\" xlink:href=\"#C0_0_d170711ccb\" y=\"125.952951\"/>\n    </g>\n    <g clip-path=\"url(#p5e99f4f868)\">\n     <use style=\"fill:#5e4fa2;stroke:#5e4fa2;\" x=\"258.82249\" xlink:href=\"#C0_0_d170711ccb\" y=\"208.542694\"/>\n    </g>\n    <g clip-path=\"url(#p5e99f4f868)\">\n     <use style=\"fill:#5e4fa2;stroke:#5e4fa2;\" x=\"166.399723\" xlink:href=\"#C0_0_d170711ccb\" y=\"97.376525\"/>\n    </g>\n    <g clip-path=\"url(#p5e99f4f868)\">\n     <use style=\"fill:#5e4fa2;stroke:#5e4fa2;\" x=\"256.135645\" xlink:href=\"#C0_0_d170711ccb\" y=\"172.203508\"/>\n    </g>\n    <g clip-path=\"url(#p5e99f4f868)\">\n     <use style=\"fill:#5e4fa2;stroke:#5e4fa2;\" x=\"257.22838\" xlink:href=\"#C0_0_d170711ccb\" y=\"189.992134\"/>\n    </g>\n    <g clip-path=\"url(#p5e99f4f868)\">\n     <use style=\"fill:#5e4fa2;stroke:#5e4fa2;\" x=\"245.363774\" xlink:href=\"#C0_0_d170711ccb\" y=\"155.354761\"/>\n    </g>\n    <g clip-path=\"url(#p5e99f4f868)\">\n     <use style=\"fill:#5e4fa2;stroke:#5e4fa2;\" x=\"250.331804\" xlink:href=\"#C0_0_d170711ccb\" y=\"211.16971\"/>\n    </g>\n    <g clip-path=\"url(#p5e99f4f868)\">\n     <use style=\"fill:#5e4fa2;stroke:#5e4fa2;\" x=\"256.71429\" xlink:href=\"#C0_0_d170711ccb\" y=\"186.911481\"/>\n    </g>\n    <g clip-path=\"url(#p5e99f4f868)\">\n     <use style=\"fill:#5e4fa2;stroke:#5e4fa2;\" x=\"135.728211\" xlink:href=\"#C0_0_d170711ccb\" y=\"83.927557\"/>\n    </g>\n    <g clip-path=\"url(#p5e99f4f868)\">\n     <use style=\"fill:#5e4fa2;stroke:#5e4fa2;\" x=\"219.624314\" xlink:href=\"#C0_0_d170711ccb\" y=\"52.551869\"/>\n    </g>\n    <g clip-path=\"url(#p5e99f4f868)\">\n     <use style=\"fill:#5e4fa2;stroke:#5e4fa2;\" x=\"257.752714\" xlink:href=\"#C0_0_d170711ccb\" y=\"201.390886\"/>\n    </g>\n    <g clip-path=\"url(#p5e99f4f868)\">\n     <use style=\"fill:#5e4fa2;stroke:#5e4fa2;\" x=\"261.375178\" xlink:href=\"#C0_0_d170711ccb\" y=\"188.179713\"/>\n    </g>\n    <g clip-path=\"url(#p5e99f4f868)\">\n     <use style=\"fill:#5e4fa2;stroke:#5e4fa2;\" x=\"200.174339\" xlink:href=\"#C0_0_d170711ccb\" y=\"116.829321\"/>\n    </g>\n    <g clip-path=\"url(#p5e99f4f868)\">\n     <use style=\"fill:#5e4fa2;stroke:#5e4fa2;\" x=\"263.952296\" xlink:href=\"#C0_0_d170711ccb\" y=\"195.930736\"/>\n    </g>\n    <g clip-path=\"url(#p5e99f4f868)\">\n     <use style=\"fill:#5e4fa2;stroke:#5e4fa2;\" x=\"256.308332\" xlink:href=\"#C0_0_d170711ccb\" y=\"173.186489\"/>\n    </g>\n    <g clip-path=\"url(#p5e99f4f868)\">\n     <use style=\"fill:#5e4fa2;stroke:#5e4fa2;\" x=\"247.007282\" xlink:href=\"#C0_0_d170711ccb\" y=\"203.033696\"/>\n    </g>\n    <g clip-path=\"url(#p5e99f4f868)\">\n     <use style=\"fill:#5e4fa2;stroke:#5e4fa2;\" x=\"252.118904\" xlink:href=\"#C0_0_d170711ccb\" y=\"201.831249\"/>\n    </g>\n    <g clip-path=\"url(#p5e99f4f868)\">\n     <use style=\"fill:#5e4fa2;stroke:#5e4fa2;\" x=\"202.438766\" xlink:href=\"#C0_0_d170711ccb\" y=\"146.167886\"/>\n    </g>\n    <g clip-path=\"url(#p5e99f4f868)\">\n     <use style=\"fill:#5e4fa2;stroke:#5e4fa2;\" x=\"253.666795\" xlink:href=\"#C0_0_d170711ccb\" y=\"200.812143\"/>\n    </g>\n    <g clip-path=\"url(#p5e99f4f868)\">\n     <use style=\"fill:#5e4fa2;stroke:#5e4fa2;\" x=\"242.677392\" xlink:href=\"#C0_0_d170711ccb\" y=\"205.122351\"/>\n    </g>\n    <g clip-path=\"url(#p5e99f4f868)\">\n     <use style=\"fill:#5e4fa2;stroke:#5e4fa2;\" x=\"246.689808\" xlink:href=\"#C0_0_d170711ccb\" y=\"209.306363\"/>\n    </g>\n    <g clip-path=\"url(#p5e99f4f868)\">\n     <use style=\"fill:#5e4fa2;stroke:#5e4fa2;\" x=\"260.721874\" xlink:href=\"#C0_0_d170711ccb\" y=\"208.866489\"/>\n    </g>\n    <g clip-path=\"url(#p5e99f4f868)\">\n     <use style=\"fill:#5e4fa2;stroke:#5e4fa2;\" x=\"255.370656\" xlink:href=\"#C0_0_d170711ccb\" y=\"202.868286\"/>\n    </g>\n    <g clip-path=\"url(#p5e99f4f868)\">\n     <use style=\"fill:#5e4fa2;stroke:#5e4fa2;\" x=\"211.105513\" xlink:href=\"#C0_0_d170711ccb\" y=\"175.640677\"/>\n    </g>\n    <g clip-path=\"url(#p5e99f4f868)\">\n     <use style=\"fill:#5e4fa2;stroke:#5e4fa2;\" x=\"216.063734\" xlink:href=\"#C0_0_d170711ccb\" y=\"177.40196\"/>\n    </g>\n    <g clip-path=\"url(#p5e99f4f868)\">\n     <use style=\"fill:#5e4fa2;stroke:#5e4fa2;\" x=\"264.482523\" xlink:href=\"#C0_0_d170711ccb\" y=\"206.232902\"/>\n    </g>\n    <g clip-path=\"url(#p5e99f4f868)\">\n     <use style=\"fill:#5e4fa2;stroke:#5e4fa2;\" x=\"263.189459\" xlink:href=\"#C0_0_d170711ccb\" y=\"188.755542\"/>\n    </g>\n    <g clip-path=\"url(#p5e99f4f868)\">\n     <use style=\"fill:#5e4fa2;stroke:#5e4fa2;\" x=\"239.473532\" xlink:href=\"#C0_0_d170711ccb\" y=\"201.268956\"/>\n    </g>\n    <g clip-path=\"url(#p5e99f4f868)\">\n     <use style=\"fill:#5e4fa2;stroke:#5e4fa2;\" x=\"199.617243\" xlink:href=\"#C0_0_d170711ccb\" y=\"127.879085\"/>\n    </g>\n    <g clip-path=\"url(#p5e99f4f868)\">\n     <use style=\"fill:#5e4fa2;stroke:#5e4fa2;\" x=\"236.668879\" xlink:href=\"#C0_0_d170711ccb\" y=\"207.75531\"/>\n    </g>\n    <g clip-path=\"url(#p5e99f4f868)\">\n     <use style=\"fill:#5e4fa2;stroke:#5e4fa2;\" x=\"204.140024\" xlink:href=\"#C0_0_d170711ccb\" y=\"81.243017\"/>\n    </g>\n    <g clip-path=\"url(#p5e99f4f868)\">\n     <use style=\"fill:#5e4fa2;stroke:#5e4fa2;\" x=\"253.848305\" xlink:href=\"#C0_0_d170711ccb\" y=\"206.100338\"/>\n    </g>\n    <g clip-path=\"url(#p5e99f4f868)\">\n     <use style=\"fill:#5e4fa2;stroke:#5e4fa2;\" x=\"218.189865\" xlink:href=\"#C0_0_d170711ccb\" y=\"184.117932\"/>\n    </g>\n    <g clip-path=\"url(#p5e99f4f868)\">\n     <use style=\"fill:#5e4fa2;stroke:#5e4fa2;\" x=\"225.294885\" xlink:href=\"#C0_0_d170711ccb\" y=\"136.772155\"/>\n    </g>\n    <g clip-path=\"url(#p5e99f4f868)\">\n     <use style=\"fill:#5e4fa2;stroke:#5e4fa2;\" x=\"244.376432\" xlink:href=\"#C0_0_d170711ccb\" y=\"212.926766\"/>\n    </g>\n    <g clip-path=\"url(#p5e99f4f868)\">\n     <use style=\"fill:#5e4fa2;stroke:#5e4fa2;\" x=\"224.847352\" xlink:href=\"#C0_0_d170711ccb\" y=\"189.925731\"/>\n    </g>\n    <g clip-path=\"url(#p5e99f4f868)\">\n     <use style=\"fill:#5e4fa2;stroke:#5e4fa2;\" x=\"200.131591\" xlink:href=\"#C0_0_d170711ccb\" y=\"133.524142\"/>\n    </g>\n    <g clip-path=\"url(#p5e99f4f868)\">\n     <use style=\"fill:#5e4fa2;stroke:#5e4fa2;\" x=\"220.64985\" xlink:href=\"#C0_0_d170711ccb\" y=\"45.885406\"/>\n    </g>\n    <g clip-path=\"url(#p5e99f4f868)\">\n     <use style=\"fill:#5e4fa2;stroke:#5e4fa2;\" x=\"205.281067\" xlink:href=\"#C0_0_d170711ccb\" y=\"153.506849\"/>\n    </g>\n    <g clip-path=\"url(#p5e99f4f868)\">\n     <use style=\"fill:#5e4fa2;stroke:#5e4fa2;\" x=\"215.288884\" xlink:href=\"#C0_0_d170711ccb\" y=\"57.19629\"/>\n    </g>\n    <g clip-path=\"url(#p5e99f4f868)\">\n     <use style=\"fill:#5e4fa2;stroke:#5e4fa2;\" x=\"200.167863\" xlink:href=\"#C0_0_d170711ccb\" y=\"94.197048\"/>\n    </g>\n    <g clip-path=\"url(#p5e99f4f868)\">\n     <use style=\"fill:#5e4fa2;stroke:#5e4fa2;\" x=\"206.617393\" xlink:href=\"#C0_0_d170711ccb\" y=\"73.692221\"/>\n    </g>\n    <g clip-path=\"url(#p5e99f4f868)\">\n     <use style=\"fill:#5e4fa2;stroke:#5e4fa2;\" x=\"210.674098\" xlink:href=\"#C0_0_d170711ccb\" y=\"167.58579\"/>\n    </g>\n    <g clip-path=\"url(#p5e99f4f868)\">\n     <use style=\"fill:#5e4fa2;stroke:#5e4fa2;\" x=\"225.560632\" xlink:href=\"#C0_0_d170711ccb\" y=\"41.08824\"/>\n    </g>\n   </g>\n   <g id=\"matplotlib.axis_1\">\n    <g id=\"xtick_1\">\n     <g id=\"line2d_1\">\n      <defs>\n       <path d=\"M 0 0 \nL 0 3.5 \n\" id=\"md8e52f82c8\" style=\"stroke:#000000;stroke-width:0.8;\"/>\n      </defs>\n      <g>\n       <use style=\"stroke:#000000;stroke-width:0.8;\" x=\"52.268354\" xlink:href=\"#md8e52f82c8\" y=\"224.64\"/>\n      </g>\n     </g>\n     <g id=\"text_1\">\n      <!-- −4 -->\n      <defs>\n       <path d=\"M 10.59375 35.5 \nL 73.1875 35.5 \nL 73.1875 27.203125 \nL 10.59375 27.203125 \nz\n\" id=\"DejaVuSans-8722\"/>\n       <path d=\"M 37.796875 64.3125 \nL 12.890625 25.390625 \nL 37.796875 25.390625 \nz\nM 35.203125 72.90625 \nL 47.609375 72.90625 \nL 47.609375 25.390625 \nL 58.015625 25.390625 \nL 58.015625 17.1875 \nL 47.609375 17.1875 \nL 47.609375 0 \nL 37.796875 0 \nL 37.796875 17.1875 \nL 4.890625 17.1875 \nL 4.890625 26.703125 \nz\n\" id=\"DejaVuSans-52\"/>\n      </defs>\n      <g transform=\"translate(44.89726 239.238437)scale(0.1 -0.1)\">\n       <use xlink:href=\"#DejaVuSans-8722\"/>\n       <use x=\"83.789062\" xlink:href=\"#DejaVuSans-52\"/>\n      </g>\n     </g>\n    </g>\n    <g id=\"xtick_2\">\n     <g id=\"line2d_2\">\n      <g>\n       <use style=\"stroke:#000000;stroke-width:0.8;\" x=\"125.52995\" xlink:href=\"#md8e52f82c8\" y=\"224.64\"/>\n      </g>\n     </g>\n     <g id=\"text_2\">\n      <!-- −2 -->\n      <defs>\n       <path d=\"M 19.1875 8.296875 \nL 53.609375 8.296875 \nL 53.609375 0 \nL 7.328125 0 \nL 7.328125 8.296875 \nQ 12.9375 14.109375 22.625 23.890625 \nQ 32.328125 33.6875 34.8125 36.53125 \nQ 39.546875 41.84375 41.421875 45.53125 \nQ 43.3125 49.21875 43.3125 52.78125 \nQ 43.3125 58.59375 39.234375 62.25 \nQ 35.15625 65.921875 28.609375 65.921875 \nQ 23.96875 65.921875 18.8125 64.3125 \nQ 13.671875 62.703125 7.8125 59.421875 \nL 7.8125 69.390625 \nQ 13.765625 71.78125 18.9375 73 \nQ 24.125 74.21875 28.421875 74.21875 \nQ 39.75 74.21875 46.484375 68.546875 \nQ 53.21875 62.890625 53.21875 53.421875 \nQ 53.21875 48.921875 51.53125 44.890625 \nQ 49.859375 40.875 45.40625 35.40625 \nQ 44.1875 33.984375 37.640625 27.21875 \nQ 31.109375 20.453125 19.1875 8.296875 \nz\n\" id=\"DejaVuSans-50\"/>\n      </defs>\n      <g transform=\"translate(118.158857 239.238437)scale(0.1 -0.1)\">\n       <use xlink:href=\"#DejaVuSans-8722\"/>\n       <use x=\"83.789062\" xlink:href=\"#DejaVuSans-50\"/>\n      </g>\n     </g>\n    </g>\n    <g id=\"xtick_3\">\n     <g id=\"line2d_3\">\n      <g>\n       <use style=\"stroke:#000000;stroke-width:0.8;\" x=\"198.791547\" xlink:href=\"#md8e52f82c8\" y=\"224.64\"/>\n      </g>\n     </g>\n     <g id=\"text_3\">\n      <!-- 0 -->\n      <defs>\n       <path d=\"M 31.78125 66.40625 \nQ 24.171875 66.40625 20.328125 58.90625 \nQ 16.5 51.421875 16.5 36.375 \nQ 16.5 21.390625 20.328125 13.890625 \nQ 24.171875 6.390625 31.78125 6.390625 \nQ 39.453125 6.390625 43.28125 13.890625 \nQ 47.125 21.390625 47.125 36.375 \nQ 47.125 51.421875 43.28125 58.90625 \nQ 39.453125 66.40625 31.78125 66.40625 \nz\nM 31.78125 74.21875 \nQ 44.046875 74.21875 50.515625 64.515625 \nQ 56.984375 54.828125 56.984375 36.375 \nQ 56.984375 17.96875 50.515625 8.265625 \nQ 44.046875 -1.421875 31.78125 -1.421875 \nQ 19.53125 -1.421875 13.0625 8.265625 \nQ 6.59375 17.96875 6.59375 36.375 \nQ 6.59375 54.828125 13.0625 64.515625 \nQ 19.53125 74.21875 31.78125 74.21875 \nz\n\" id=\"DejaVuSans-48\"/>\n      </defs>\n      <g transform=\"translate(195.610297 239.238437)scale(0.1 -0.1)\">\n       <use xlink:href=\"#DejaVuSans-48\"/>\n      </g>\n     </g>\n    </g>\n    <g id=\"xtick_4\">\n     <g id=\"line2d_4\">\n      <g>\n       <use style=\"stroke:#000000;stroke-width:0.8;\" x=\"272.053143\" xlink:href=\"#md8e52f82c8\" y=\"224.64\"/>\n      </g>\n     </g>\n     <g id=\"text_4\">\n      <!-- 2 -->\n      <g transform=\"translate(268.871893 239.238437)scale(0.1 -0.1)\">\n       <use xlink:href=\"#DejaVuSans-50\"/>\n      </g>\n     </g>\n    </g>\n    <g id=\"xtick_5\">\n     <g id=\"line2d_5\">\n      <g>\n       <use style=\"stroke:#000000;stroke-width:0.8;\" x=\"345.314739\" xlink:href=\"#md8e52f82c8\" y=\"224.64\"/>\n      </g>\n     </g>\n     <g id=\"text_5\">\n      <!-- 4 -->\n      <g transform=\"translate(342.133489 239.238437)scale(0.1 -0.1)\">\n       <use xlink:href=\"#DejaVuSans-52\"/>\n      </g>\n     </g>\n    </g>\n   </g>\n   <g id=\"matplotlib.axis_2\">\n    <g id=\"ytick_1\">\n     <g id=\"line2d_6\">\n      <defs>\n       <path d=\"M 0 0 \nL -3.5 0 \n\" id=\"m9057fb6780\" style=\"stroke:#000000;stroke-width:0.8;\"/>\n      </defs>\n      <g>\n       <use style=\"stroke:#000000;stroke-width:0.8;\" x=\"28.942188\" xlink:href=\"#m9057fb6780\" y=\"213.54456\"/>\n      </g>\n     </g>\n     <g id=\"text_6\">\n      <!-- −4 -->\n      <g transform=\"translate(7.2 217.343779)scale(0.1 -0.1)\">\n       <use xlink:href=\"#DejaVuSans-8722\"/>\n       <use x=\"83.789062\" xlink:href=\"#DejaVuSans-52\"/>\n      </g>\n     </g>\n    </g>\n    <g id=\"ytick_2\">\n     <g id=\"line2d_7\">\n      <g>\n       <use style=\"stroke:#000000;stroke-width:0.8;\" x=\"28.942188\" xlink:href=\"#m9057fb6780\" y=\"189.146104\"/>\n      </g>\n     </g>\n     <g id=\"text_7\">\n      <!-- −3 -->\n      <defs>\n       <path d=\"M 40.578125 39.3125 \nQ 47.65625 37.796875 51.625 33 \nQ 55.609375 28.21875 55.609375 21.1875 \nQ 55.609375 10.40625 48.1875 4.484375 \nQ 40.765625 -1.421875 27.09375 -1.421875 \nQ 22.515625 -1.421875 17.65625 -0.515625 \nQ 12.796875 0.390625 7.625 2.203125 \nL 7.625 11.71875 \nQ 11.71875 9.328125 16.59375 8.109375 \nQ 21.484375 6.890625 26.8125 6.890625 \nQ 36.078125 6.890625 40.9375 10.546875 \nQ 45.796875 14.203125 45.796875 21.1875 \nQ 45.796875 27.640625 41.28125 31.265625 \nQ 36.765625 34.90625 28.71875 34.90625 \nL 20.21875 34.90625 \nL 20.21875 43.015625 \nL 29.109375 43.015625 \nQ 36.375 43.015625 40.234375 45.921875 \nQ 44.09375 48.828125 44.09375 54.296875 \nQ 44.09375 59.90625 40.109375 62.90625 \nQ 36.140625 65.921875 28.71875 65.921875 \nQ 24.65625 65.921875 20.015625 65.03125 \nQ 15.375 64.15625 9.8125 62.3125 \nL 9.8125 71.09375 \nQ 15.4375 72.65625 20.34375 73.4375 \nQ 25.25 74.21875 29.59375 74.21875 \nQ 40.828125 74.21875 47.359375 69.109375 \nQ 53.90625 64.015625 53.90625 55.328125 \nQ 53.90625 49.265625 50.4375 45.09375 \nQ 46.96875 40.921875 40.578125 39.3125 \nz\n\" id=\"DejaVuSans-51\"/>\n      </defs>\n      <g transform=\"translate(7.2 192.945323)scale(0.1 -0.1)\">\n       <use xlink:href=\"#DejaVuSans-8722\"/>\n       <use x=\"83.789062\" xlink:href=\"#DejaVuSans-51\"/>\n      </g>\n     </g>\n    </g>\n    <g id=\"ytick_3\">\n     <g id=\"line2d_8\">\n      <g>\n       <use style=\"stroke:#000000;stroke-width:0.8;\" x=\"28.942188\" xlink:href=\"#m9057fb6780\" y=\"164.747648\"/>\n      </g>\n     </g>\n     <g id=\"text_8\">\n      <!-- −2 -->\n      <g transform=\"translate(7.2 168.546867)scale(0.1 -0.1)\">\n       <use xlink:href=\"#DejaVuSans-8722\"/>\n       <use x=\"83.789062\" xlink:href=\"#DejaVuSans-50\"/>\n      </g>\n     </g>\n    </g>\n    <g id=\"ytick_4\">\n     <g id=\"line2d_9\">\n      <g>\n       <use style=\"stroke:#000000;stroke-width:0.8;\" x=\"28.942188\" xlink:href=\"#m9057fb6780\" y=\"140.349192\"/>\n      </g>\n     </g>\n     <g id=\"text_9\">\n      <!-- −1 -->\n      <defs>\n       <path d=\"M 12.40625 8.296875 \nL 28.515625 8.296875 \nL 28.515625 63.921875 \nL 10.984375 60.40625 \nL 10.984375 69.390625 \nL 28.421875 72.90625 \nL 38.28125 72.90625 \nL 38.28125 8.296875 \nL 54.390625 8.296875 \nL 54.390625 0 \nL 12.40625 0 \nz\n\" id=\"DejaVuSans-49\"/>\n      </defs>\n      <g transform=\"translate(7.2 144.14841)scale(0.1 -0.1)\">\n       <use xlink:href=\"#DejaVuSans-8722\"/>\n       <use x=\"83.789062\" xlink:href=\"#DejaVuSans-49\"/>\n      </g>\n     </g>\n    </g>\n    <g id=\"ytick_5\">\n     <g id=\"line2d_10\">\n      <g>\n       <use style=\"stroke:#000000;stroke-width:0.8;\" x=\"28.942188\" xlink:href=\"#m9057fb6780\" y=\"115.950736\"/>\n      </g>\n     </g>\n     <g id=\"text_10\">\n      <!-- 0 -->\n      <g transform=\"translate(15.579688 119.749954)scale(0.1 -0.1)\">\n       <use xlink:href=\"#DejaVuSans-48\"/>\n      </g>\n     </g>\n    </g>\n    <g id=\"ytick_6\">\n     <g id=\"line2d_11\">\n      <g>\n       <use style=\"stroke:#000000;stroke-width:0.8;\" x=\"28.942188\" xlink:href=\"#m9057fb6780\" y=\"91.552279\"/>\n      </g>\n     </g>\n     <g id=\"text_11\">\n      <!-- 1 -->\n      <g transform=\"translate(15.579688 95.351498)scale(0.1 -0.1)\">\n       <use xlink:href=\"#DejaVuSans-49\"/>\n      </g>\n     </g>\n    </g>\n    <g id=\"ytick_7\">\n     <g id=\"line2d_12\">\n      <g>\n       <use style=\"stroke:#000000;stroke-width:0.8;\" x=\"28.942188\" xlink:href=\"#m9057fb6780\" y=\"67.153823\"/>\n      </g>\n     </g>\n     <g id=\"text_12\">\n      <!-- 2 -->\n      <g transform=\"translate(15.579688 70.953042)scale(0.1 -0.1)\">\n       <use xlink:href=\"#DejaVuSans-50\"/>\n      </g>\n     </g>\n    </g>\n    <g id=\"ytick_8\">\n     <g id=\"line2d_13\">\n      <g>\n       <use style=\"stroke:#000000;stroke-width:0.8;\" x=\"28.942188\" xlink:href=\"#m9057fb6780\" y=\"42.755367\"/>\n      </g>\n     </g>\n     <g id=\"text_13\">\n      <!-- 3 -->\n      <g transform=\"translate(15.579688 46.554586)scale(0.1 -0.1)\">\n       <use xlink:href=\"#DejaVuSans-51\"/>\n      </g>\n     </g>\n    </g>\n    <g id=\"ytick_9\">\n     <g id=\"line2d_14\">\n      <g>\n       <use style=\"stroke:#000000;stroke-width:0.8;\" x=\"28.942188\" xlink:href=\"#m9057fb6780\" y=\"18.356911\"/>\n      </g>\n     </g>\n     <g id=\"text_14\">\n      <!-- 4 -->\n      <g transform=\"translate(15.579688 22.15613)scale(0.1 -0.1)\">\n       <use xlink:href=\"#DejaVuSans-52\"/>\n      </g>\n     </g>\n    </g>\n   </g>\n   <g id=\"patch_3\">\n    <path d=\"M 28.942188 224.64 \nL 28.942188 7.2 \n\" style=\"fill:none;stroke:#000000;stroke-linecap:square;stroke-linejoin:miter;stroke-width:0.8;\"/>\n   </g>\n   <g id=\"patch_4\">\n    <path d=\"M 363.742188 224.64 \nL 363.742188 7.2 \n\" style=\"fill:none;stroke:#000000;stroke-linecap:square;stroke-linejoin:miter;stroke-width:0.8;\"/>\n   </g>\n   <g id=\"patch_5\">\n    <path d=\"M 28.942187 224.64 \nL 363.742188 224.64 \n\" style=\"fill:none;stroke:#000000;stroke-linecap:square;stroke-linejoin:miter;stroke-width:0.8;\"/>\n   </g>\n   <g id=\"patch_6\">\n    <path d=\"M 28.942187 7.2 \nL 363.742188 7.2 \n\" style=\"fill:none;stroke:#000000;stroke-linecap:square;stroke-linejoin:miter;stroke-width:0.8;\"/>\n   </g>\n  </g>\n </g>\n <defs>\n  <clipPath id=\"p5e99f4f868\">\n   <rect height=\"217.44\" width=\"334.8\" x=\"28.942188\" y=\"7.2\"/>\n  </clipPath>\n </defs>\n</svg>\n",
      "image/png": "[encoded data removed]"
     },
     "metadata": {
      "needs_background": "light"
     }
    }
   ],
   "source": [
    "# Visualize the data:\n",
    "plt.scatter(X[0, :], X[1, :], c= Y[0,:], s=40, cmap=plt.cm.Spectral);"
   ]
  },
  {
   "cell_type": "markdown",
   "metadata": {},
   "source": [
    "You have:\n",
    "    - a numpy-array (matrix) X that contains your features (x1, x2)\n",
    "    - a numpy-array (vector) Y that contains your labels (red:0, blue:1).\n",
    "\n",
    "Lets first get a better sense of what our data is like. \n",
    "\n",
    "**Exercise**: How many training examples do you have? In addition, what is the `shape` of the variables `X` and `Y`? \n",
    "\n",
    "**Hint**: How do you get the shape of a numpy array? [(help)](https://docs.scipy.org/doc/numpy/reference/generated/numpy.ndarray.shape.html)"
   ]
  },
  {
   "cell_type": "code",
   "execution_count": 159,
   "metadata": {
    "tags": []
   },
   "outputs": [
    {
     "output_type": "stream",
     "name": "stdout",
     "text": "The shape of X is: (2, 400)\nThe shape of Y is: (1, 400)\nI have m = 400 training examples!\n"
    }
   ],
   "source": [
    "# I am helping  you with this part so you can see how it works !!!\n",
    "\n",
    "### START CODE HERE ### (≈ 3 lines of code)\n",
    "shape_X = X.shape\n",
    "shape_Y = Y.shape\n",
    "m = X.shape[1]  # training set size\n",
    "### END CODE HERE ###\n",
    "\n",
    "print ('The shape of X is: ' + str(shape_X))\n",
    "print ('The shape of Y is: ' + str(shape_Y))\n",
    "print ('I have m = %d training examples!' % (m))\n"
   ]
  },
  {
   "cell_type": "markdown",
   "metadata": {},
   "source": [
    "**Expected Output**:\n",
    "       \n",
    "<table style=\"width:20%\">\n",
    "  \n",
    "  <tr>\n",
    "    <td>**shape of X**</td>\n",
    "    <td> (2, 400) </td> \n",
    "  </tr>\n",
    "  \n",
    "  <tr>\n",
    "    <td>**shape of Y**</td>\n",
    "    <td>(1, 400) </td> \n",
    "  </tr>\n",
    "  \n",
    "   <tr>\n",
    "    <td>**m**</td>\n",
    "    <td> 400 </td> \n",
    "  </tr>\n",
    "  \n",
    "</table>"
   ]
  },
  {
   "cell_type": "markdown",
   "metadata": {},
   "source": [
    "## 3 - Let's try to classify using  Logistic Regression (No good results :( )\n",
    "\n",
    "Before building a full neural network, lets first see how logistic regression performs on this problem. You can use sklearn's built-in functions to do that. Run the code below to train a logistic regression classifier on the dataset."
   ]
  },
  {
   "cell_type": "code",
   "execution_count": 160,
   "metadata": {},
   "outputs": [],
   "source": [
    "# Train the logistic regression classifier, using cross-validation\n",
    "# No need to separate training and testing, cross-validation make the job for you.\n",
    "\n",
    "clf = sklearn.linear_model.LogisticRegressionCV()\n",
    "clf.fit(X.T, Y.T);  #T stants for transpose"
   ]
  },
  {
   "cell_type": "markdown",
   "metadata": {},
   "source": [
    "Now, let's predict and compute the accuracy.  You did that in mini-project 1"
   ]
  },
  {
   "cell_type": "code",
   "execution_count": 161,
   "metadata": {
    "scrolled": false,
    "tags": []
   },
   "outputs": [
    {
     "output_type": "stream",
     "name": "stdout",
     "text": "47.0\n"
    }
   ],
   "source": [
    "#Let's predict and compute the accuracy\n",
    "\n",
    "from sklearn.metrics import accuracy_score\n",
    "\n",
    "\n",
    "LR_predictions = clf.predict(X.T)  \n",
    "\n",
    "# Print accuracy\n",
    "print(accuracy_score(LR_predictions, Y.T)*100)\n",
    "\n"
   ]
  },
  {
   "cell_type": "markdown",
   "metadata": {},
   "source": [
    "**Expected Output**:\n",
    "\n",
    "<table style=\"width:20%\">\n",
    "  <tr>\n",
    "    <td>**Accuracy**</td>\n",
    "    <td> 47% </td> \n",
    "  </tr>\n",
    "  \n",
    "</table>\n"
   ]
  },
  {
   "cell_type": "markdown",
   "metadata": {},
   "source": [
    "**Interpretation**: The dataset is not linearly separable, so logistic regression doesn't perform well. Hopefully a neural network will do better. Let's try this now! "
   ]
  },
  {
   "cell_type": "markdown",
   "metadata": {},
   "source": [
    "## 4 - Neural Network model  (The new stuff, here :) )\n",
    "\n",
    "Logistic regression did not work well on the \"flower dataset\". You are going to train a Neural Network with a single hidden layer.\n",
    "\n",
    "**Here is our model**:\n",
    "<img src=\"images/classification_kiank.png\" style=\"width:600px;height:300px;\">\n",
    "\n",
    "**Mathematically**:\n",
    "\n",
    "\n",
    "$$z^{[1] (i)} =  W^{[1]} x^{(i)} + b^{[1] (i)}\\tag{1}$$ \n",
    "$$a^{[1] (i)} = \\tanh(z^{[1] (i)})\\tag{2}$$\n",
    "$$z^{[2] (i)} = W^{[2]} a^{[1] (i)} + b^{[2] (i)}\\tag{3}$$\n",
    "$$\\hat{y}^{(i)} = a^{[2] (i)} = \\sigma(z^{ [2] (i)})\\tag{4}$$\n",
    "$$y^{(i)}_{prediction} = \\begin{cases} 1 & \\mbox{if } a^{[2](i)} > 0.5 \\\\ 0 & \\mbox{otherwise } \\end{cases}\\tag{5}$$\n",
    "\n",
    "Given the predictions on all the examples, you can also compute the cost $J$ as follows: \n",
    "$$J = - \\frac{1}{m} \\sum\\limits_{i = 0}^{m} \\large\\left(\\small y^{(i)}\\log\\left(a^{[2] (i)}\\right) + (1-y^{(i)})\\log\\left(1- a^{[2] (i)}\\right)  \\large  \\right) \\small \\tag{6}$$\n",
    "\n",
    "**Reminder**: The general methodology to build a Neural Network is to:\n",
    "    1. Define the neural network structure ( # of input units,  # of hidden units per layer, etc). \n",
    "    2. Initialize the model's parameters (W, b)\n",
    "    3. Loop:\n",
    "        - Implement forward propagation\n",
    "        - Compute loss \n",
    "        - Implement backward propagation to get the gradients\n",
    "        - Update parameters (gradient descent)\n",
    "\n",
    "You often build helper functions to compute steps 1-3 and then merge them into one function we call `nn_model()`. Once you've built `nn_model()` and learnt the right parameters, you can make predictions on new data."
   ]
  },
  {
   "cell_type": "markdown",
   "metadata": {},
   "source": [
    "### 4.1 - Defining the neural network structure ####\n",
    "\n",
    "**Exercise**: Define three variables:\n",
    "    - n_x: the size of the input layer\n",
    "    - n_h: the size of the hidden layer (set this to 4) \n",
    "    - n_y: the size of the output layer\n",
    "\n",
    "**Hint**: Use shapes of X and Y to find n_x and n_y. Also, hard code the hidden layer size to be 4."
   ]
  },
  {
   "cell_type": "code",
   "execution_count": 162,
   "metadata": {},
   "outputs": [],
   "source": [
    "# GRADED FUNCTION: layer_sizes\n",
    "\n",
    "def layer_sizes(X, Y):\n",
    "    \"\"\"\n",
    "    Arguments:\n",
    "    X -- input dataset of shape (input size, number of examples)\n",
    "    Y -- labels of shape (output size, number of examples)\n",
    "    \n",
    "    Returns:\n",
    "    n_x -- the size of the input layer\n",
    "    n_h -- the size of the hidden layer\n",
    "    n_y -- the size of the output layer\n",
    "    \"\"\"\n",
    "    ### I am helping you here too ####\n",
    "    ### START CODE HERE ### (≈ 3 lines of code)\n",
    "    n_x = X.shape[0] # size of input layer # size of input layer  X.shape[1]\n",
    "    n_h = 4\n",
    "    n_y = Y.shape[0] # size of output layer\n",
    "    ### END CODE HERE ###\n",
    "    return (n_x, n_h, n_y)"
   ]
  },
  {
   "cell_type": "code",
   "execution_count": 163,
   "metadata": {
    "tags": []
   },
   "outputs": [
    {
     "output_type": "stream",
     "name": "stdout",
     "text": "The size of the input layer is: n_x = 2\nThe size of the hidden layer is: n_h = 4\nThe size of the output layer is: n_y = 1\n"
    }
   ],
   "source": [
    "#X_assess, Y_assess = layer_sizes_test_case()\n",
    "#print(X_assess.shape)\n",
    "#(n_x, n_h, n_y) = layer_sizes(X_assess, Y_assess)\n",
    "(n_x, n_h, n_y) = layer_sizes(X, Y)\n",
    "print(\"The size of the input layer is: n_x = \" + str(n_x))\n",
    "print(\"The size of the hidden layer is: n_h = \" + str(n_h))\n",
    "print(\"The size of the output layer is: n_y = \" + str(n_y))"
   ]
  },
  {
   "cell_type": "markdown",
   "metadata": {},
   "source": [
    "**Expected Output** (these are not the sizes you will use for your network, they are just used to assess the function you've just coded).\n",
    "\n",
    "<table style=\"width:20%\">\n",
    "  <tr>\n",
    "    <td>**n_x**</td>\n",
    "    <td> 2 </td> \n",
    "  </tr>\n",
    "  \n",
    "   <tr>\n",
    "    <td>**n_h**</td>\n",
    "    <td> 4 </td> \n",
    "  </tr>\n",
    "  \n",
    "   <tr>\n",
    "    <td>**n_y**</td>\n",
    "    <td> 1 </td> \n",
    "  </tr>\n",
    "  \n",
    "</table>"
   ]
  },
  {
   "cell_type": "markdown",
   "metadata": {},
   "source": [
    "### 4.2 - Initialize the model's parameters ####\n",
    "\n",
    "**Exercise**: Implement the function `initialize_parameters()`, namely the Ws and bs for each layer.\n",
    "\n",
    "**Instructions**:\n",
    "- Make sure your parameters' sizes are right. Refer to the neural network figure above if needed.\n",
    "- You will initialize the weights matrices with random values. \n",
    "    - Use: `np.random.randn(a,b) * 0.01` to randomly initialize Ws, namely a matrix of shape (a,b).\n",
    "- You will initialize the bias vectors as zeros. \n",
    "    - Use: `np.zeros((a,b))` to initialize the bias b, namely a matrix of shape (a,b) with zeros."
   ]
  },
  {
   "cell_type": "code",
   "execution_count": 164,
   "metadata": {},
   "outputs": [],
   "source": [
    "# GRADED FUNCTION: initialize_parameters\n",
    "\n",
    "def initialize_parameters(n_x, n_h, n_y):\n",
    "    \"\"\"\n",
    "    Argument:\n",
    "    n_x -- size of the input layer\n",
    "    n_h -- size of the hidden layer\n",
    "    n_y -- size of the output layer\n",
    "    \n",
    "    Returns:\n",
    "    params -- python dictionary containing your parameters:\n",
    "                    W1 -- weight matrix of shape (n_h, n_x)\n",
    "                    b1 -- bias vector of shape (n_h, 1)\n",
    "                    W2 -- weight matrix of shape (n_y, n_h)\n",
    "                    b2 -- bias vector of shape (n_y, 1)\n",
    "    \"\"\"\n",
    "    \n",
    "    np.random.seed(2) # we set up a seed so that your output matches ours although the initialization is random.\n",
    "    \n",
    "    # let's initialize the parameters W1, b1 of the first layer, and w2, b2 of the second layer.\n",
    "    ### START CODE HERE ### (≈ 4 lines of code)\n",
    "    \n",
    "    W1 = np.random.randn(n_h,n_x) * 0.01\n",
    "    b1 = np.zeros((n_h,1))\n",
    "    W2 = np.random.randn(n_y,n_h) * 0.01\n",
    "    b2 = np.zeros((n_y,1))\n",
    "    ### END CODE HERE ###\n",
    "    \n",
    "    assert (W1.shape == (n_h, n_x))\n",
    "    assert (b1.shape == (n_h, 1))\n",
    "    assert (W2.shape == (n_y, n_h))\n",
    "    assert (b2.shape == (n_y, 1))\n",
    "    \n",
    "    # Let's save the computed parameters in a python dictionary\n",
    "    parameters = {\"W1\": W1,\n",
    "                  \"b1\": b1,\n",
    "                  \"W2\": W2,\n",
    "                  \"b2\": b2}\n",
    "    \n",
    "    return parameters"
   ]
  },
  {
   "cell_type": "code",
   "execution_count": 165,
   "metadata": {
    "tags": []
   },
   "outputs": [
    {
     "output_type": "stream",
     "name": "stdout",
     "text": "W1 = [[-0.00416758 -0.00056267]\n [-0.02136196  0.01640271]\n [-0.01793436 -0.00841747]\n [ 0.00502881 -0.01245288]]\nb1 = [[0.]\n [0.]\n [0.]\n [0.]]\nW2 = [[-0.01057952 -0.00909008  0.00551454  0.02292208]]\nb2 = [[0.]]\n"
    }
   ],
   "source": [
    "n_x, n_h, n_y = initialize_parameters_test_case()\n",
    "\n",
    "parameters = initialize_parameters(n_x, n_h, n_y)\n",
    "print(\"W1 = \" + str(parameters[\"W1\"]))\n",
    "print(\"b1 = \" + str(parameters[\"b1\"]))\n",
    "print(\"W2 = \" + str(parameters[\"W2\"]))\n",
    "print(\"b2 = \" + str(parameters[\"b2\"]))"
   ]
  },
  {
   "cell_type": "markdown",
   "metadata": {},
   "source": [
    "**Expected Output**:\n",
    "\n",
    "<table style=\"width:90%\">\n",
    "  <tr>\n",
    "    <td>**W1**</td>\n",
    "    <td> [[-0.00416758 -0.00056267]\n",
    " [-0.02136196  0.01640271]\n",
    " [-0.01793436 -0.00841747]\n",
    " [ 0.00502881 -0.01245288]] </td> \n",
    "  </tr>\n",
    "  \n",
    "  <tr>\n",
    "    <td>**b1**</td>\n",
    "    <td> [[ 0.]\n",
    " [ 0.]\n",
    " [ 0.]\n",
    " [ 0.]] </td> \n",
    "  </tr>\n",
    "  \n",
    "  <tr>\n",
    "    <td>**W2**</td>\n",
    "    <td> [[-0.01057952 -0.00909008  0.00551454  0.02292208]]</td> \n",
    "  </tr>\n",
    "  \n",
    "\n",
    "  <tr>\n",
    "    <td>**b2**</td>\n",
    "    <td> [[ 0.]] </td> \n",
    "  </tr>\n",
    "  \n",
    "</table>\n",
    "\n"
   ]
  },
  {
   "cell_type": "markdown",
   "metadata": {},
   "source": [
    "### 4.3 - The Loop ####\n",
    "\n",
    "**Question**: Implement `forward_propagation()`.\n",
    "\n",
    "**Instructions**:\n",
    "- Look above at the mathematical representation of your classifier.\n",
    "- You can use the function `sigmoid()`. It is built-in (imported) in the notebook.\n",
    "- You can use the function `np.tanh()`. It is part of the numpy library.\n",
    "- The steps you have to implement are:\n",
    "    1. Retrieve each parameter from the dictionary \"parameters\" (which is the output of `initialize_parameters()`) by using `parameters[\"..\"]`.\n",
    "    2. Implement Forward Propagation. Compute $Z^{[1]}, A^{[1]}, Z^{[2]}$ and $A^{[2]}$ (the vector of all your predictions on all the examples in the training set).\n",
    "- Values needed in the backpropagation are stored in \"`cache`\". The `cache` will be given as an input to the backpropagation function."
   ]
  },
  {
   "cell_type": "code",
   "execution_count": 166,
   "metadata": {},
   "outputs": [],
   "source": [
    "# GRADED FUNCTION: forward_propagation\n",
    "\n",
    "def forward_propagation(X, parameters):\n",
    "    \"\"\"\n",
    "    Argument:\n",
    "    X -- input data of size (n_x, m)\n",
    "    parameters -- python dictionary containing your parameters (output of initialization function)\n",
    "    \n",
    "    Returns:\n",
    "    A2 -- The sigmoid output of the second activation\n",
    "    cache -- a dictionary containing \"Z1\", \"A1\", \"Z2\" and \"A2\"\n",
    "    \"\"\"\n",
    "    # Retrieve each parameter from the dictionary \"parameters\"\n",
    "    ### START CODE HERE ### (≈ 4 lines of code)\n",
    "    W1 = parameters[\"W1\"]  #giving you this one, follow the example\n",
    "    b1 = parameters[\"b1\"]\n",
    "    W2 = parameters[\"W2\"]\n",
    "    b2 = parameters[\"b2\"]\n",
    "    ### END CODE HERE ###\n",
    "    \n",
    "    # Implement Forward Propagation to calculate A2 (probabilities)\n",
    "    ### START CODE HERE ### (≈ 4 lines of code)  (check the above graph with the NN)\n",
    "    Z1 = np.dot(W1,X) + b1\n",
    "    A1 = np.tanh(Z1)\n",
    "    Z2 = np.dot(W2,A1) + b2\n",
    "    A2 = sigmoid(Z2)\n",
    "    ### END CODE HERE ###\n",
    "    \n",
    "    assert(A2.shape == (1, X.shape[1]))\n",
    "    \n",
    "    cache = {\"Z1\": Z1,\n",
    "             \"A1\": A1,\n",
    "             \"Z2\": Z2,\n",
    "             \"A2\": A2}\n",
    "    \n",
    "    return A2, cache"
   ]
  },
  {
   "cell_type": "code",
   "execution_count": 167,
   "metadata": {
    "tags": []
   },
   "outputs": [
    {
     "output_type": "stream",
     "name": "stdout",
     "text": "0.26281864019752443 0.09199904522700113 -1.3076660128732143 0.21287768171914198\n"
    }
   ],
   "source": [
    "X_assess, parameters = forward_propagation_test_case()\n",
    "A2, cache = forward_propagation(X_assess, parameters)\n",
    "#A2, cache = forward_propagation(X, parameters)\n",
    "# Note: we use the mean here just to make sure that your output matches ours. \n",
    "print(np.mean(cache['Z1']) ,np.mean(cache['A1']),np.mean(cache['Z2']),np.mean(cache['A2']))"
   ]
  },
  {
   "cell_type": "markdown",
   "metadata": {},
   "source": [
    "**Expected Output**:\n",
    "<table style=\"width:50%\">\n",
    "  <tr>\n",
    "    <td> 0.262818640198 0.091999045227 -1.30766601287 0.212877681719 </td> \n",
    "  </tr>\n",
    "</table>"
   ]
  },
  {
   "cell_type": "markdown",
   "metadata": {},
   "source": [
    "Now that you have computed $A^{[2]}$ (in the Python variable \"`A2`\"), which contains $a^{[2](i)}$ for every example, you can compute the cost function as follows:\n",
    "\n",
    "$$J = - \\frac{1}{m} \\sum\\limits_{i = 0}^{m} \\large{(} \\small y^{(i)}\\log\\left(a^{[2] (i)}\\right) + (1-y^{(i)})\\log\\left(1- a^{[2] (i)}\\right) \\large{)} \\small\\tag{13}$$\n",
    "\n",
    "**Exercise**: Implement `compute_cost()` to compute the value of the cost $J$.\n",
    "\n",
    "**Instructions**:\n",
    "- There are many ways to implement the cross-entropy loss. To help you, we give you how we would have implemented\n",
    "$- \\sum\\limits_{i=0}^{m}  y^{(i)}\\log(a^{[2](i)})$:\n",
    "```python\n",
    "logprobs = np.multiply(np.log(A2),Y)\n",
    "cost = - np.sum(logprobs)                # no need to use a for loop!\n",
    "```\n",
    "\n",
    "(you can use either `np.multiply()` and then `np.sum()` or directly `np.dot()`).\n"
   ]
  },
  {
   "cell_type": "code",
   "execution_count": 168,
   "metadata": {},
   "outputs": [],
   "source": [
    "# GRADED FUNCTION: compute_cost\n",
    "\n",
    "def compute_cost(A2, Y, parameters):\n",
    "    \"\"\"\n",
    "    Computes the cross-entropy cost given in equation (13)\n",
    "    \n",
    "    Arguments:\n",
    "    A2 -- The sigmoid output of the second activation, of shape (1, number of examples)\n",
    "    Y -- \"true\" labels vector of shape (1, number of examples)\n",
    "    parameters -- python dictionary containing your parameters W1, b1, W2 and b2\n",
    "    \n",
    "    Returns:\n",
    "    cost -- cross-entropy cost given equation (13)\n",
    "    \"\"\"\n",
    "    \n",
    "    m = Y.shape[1] # number of example\n",
    "\n",
    "    # Compute the cross-entropy cost\n",
    "    ### START CODE HERE ### (≈ 2 lines of code)\n",
    "    logprobs = np.multiply(np.log(A2),Y)\n",
    "    logprobs2= np.multiply(np.log(1-A2),(1-Y))\n",
    "    cost = -(1/m) * np.sum(logprobs+logprobs2)\n",
    "    ### END CODE HERE ###\n",
    "    \n",
    "    cost = np.squeeze(cost)     # makes sure cost is the dimension we expect. \n",
    "                                # E.g., turns [[17]] into 17 \n",
    "    assert(isinstance(cost, float))\n",
    "    \n",
    "    return cost"
   ]
  },
  {
   "cell_type": "code",
   "execution_count": 169,
   "metadata": {
    "tags": []
   },
   "outputs": [
    {
     "output_type": "stream",
     "name": "stdout",
     "text": "cost = 0.6930587610394646\n"
    }
   ],
   "source": [
    "A2, Y_assess, parameters = compute_cost_test_case()\n",
    "\n",
    "print(\"cost = \" + str(compute_cost(A2, Y_assess, parameters)))"
   ]
  },
  {
   "cell_type": "markdown",
   "metadata": {},
   "source": [
    "**Expected Output**:\n",
    "<table style=\"width:20%\">\n",
    "  <tr>\n",
    "    <td>**cost**</td>\n",
    "    <td> 0.693058761... </td> \n",
    "  </tr>\n",
    "  \n",
    "</table>"
   ]
  },
  {
   "cell_type": "markdown",
   "metadata": {},
   "source": [
    "Using the cache computed during forward propagation, you can now implement backward propagation.\n",
    "\n",
    "**Question**: Implement the function `backward_propagation()`.\n",
    "\n",
    "**Instructions**:\n",
    "Backpropagation is usually the hardest (most mathematical) part in deep learning. To help you, here again is the slide from the lecture on backpropagation. You'll want to use the six equations on the right of this slide, since you are building a vectorized implementation.  \n",
    "\n",
    "<img src=\"images/grad_summary.png\" style=\"width:600px;height:300px;\">\n",
    "\n",
    "<!--\n",
    "$\\frac{\\partial \\mathcal{J} }{ \\partial z_{2}^{(i)} } = \\frac{1}{m} (a^{[2](i)} - y^{(i)})$\n",
    "\n",
    "$\\frac{\\partial \\mathcal{J} }{ \\partial W_2 } = \\frac{\\partial \\mathcal{J} }{ \\partial z_{2}^{(i)} } a^{[1] (i) T} $\n",
    "\n",
    "$\\frac{\\partial \\mathcal{J} }{ \\partial b_2 } = \\sum_i{\\frac{\\partial \\mathcal{J} }{ \\partial z_{2}^{(i)}}}$\n",
    "\n",
    "$\\frac{\\partial \\mathcal{J} }{ \\partial z_{1}^{(i)} } =  W_2^T \\frac{\\partial \\mathcal{J} }{ \\partial z_{2}^{(i)} } * ( 1 - a^{[1] (i) 2}) $\n",
    "\n",
    "$\\frac{\\partial \\mathcal{J} }{ \\partial W_1 } = \\frac{\\partial \\mathcal{J} }{ \\partial z_{1}^{(i)} }  X^T $\n",
    "\n",
    "$\\frac{\\partial \\mathcal{J} _i }{ \\partial b_1 } = \\sum_i{\\frac{\\partial \\mathcal{J} }{ \\partial z_{1}^{(i)}}}$\n",
    "\n",
    "- Note that $*$ denotes elementwise multiplication.\n",
    "- The notation you will use is common in deep learning coding:\n",
    "    - dW1 = $\\frac{\\partial \\mathcal{J} }{ \\partial W_1 }$\n",
    "    - db1 = $\\frac{\\partial \\mathcal{J} }{ \\partial b_1 }$\n",
    "    - dW2 = $\\frac{\\partial \\mathcal{J} }{ \\partial W_2 }$\n",
    "    - db2 = $\\frac{\\partial \\mathcal{J} }{ \\partial b_2 }$\n",
    "    \n",
    "!-->\n",
    "\n",
    "- Tips:\n",
    "    - To compute dZ1 you'll need to compute $g^{[1]'}(Z^{[1]})$. Since $g^{[1]}(.)$ is the tanh activation function, if $a = g^{[1]}(z)$ then $g^{[1]'}(z) = 1-a^2$. So you can compute \n",
    "    $g^{[1]'}(Z^{[1]})$ using `(1 - np.power(A1, 2))`."
   ]
  },
  {
   "cell_type": "code",
   "execution_count": 170,
   "metadata": {},
   "outputs": [],
   "source": [
    "# GRADED FUNCTION: backward_propagation\n",
    "\n",
    "def backward_propagation(parameters, cache, X, Y):\n",
    "    \"\"\"\n",
    "    Implement the backward propagation using the instructions above.\n",
    "    \n",
    "    Arguments:\n",
    "    parameters -- python dictionary containing our parameters \n",
    "    cache -- a dictionary containing \"Z1\", \"A1\", \"Z2\" and \"A2\".\n",
    "    X -- input data of shape (2, number of examples)\n",
    "    Y -- \"true\" labels vector of shape (1, number of examples)\n",
    "    \n",
    "    Returns:\n",
    "    grads -- python dictionary containing your gradients with respect to different parameters\n",
    "    \"\"\"\n",
    "    m = X.shape[1]\n",
    "    \n",
    "    # First, retrieve W1 and W2 from the dictionary \"parameters\".\n",
    "    ### START CODE HERE ### (≈ 2 lines of code)\n",
    "    W1 = parameters[\"W1\"]\n",
    "    W2 = parameters[\"W2\"]\n",
    "    ### END CODE HERE ###\n",
    "        \n",
    "    # Retrieve also A1 and A2 from dictionary \"cache\".\n",
    "    ### START CODE HERE ### (≈ 2 lines of code)\n",
    "    A1 = cache[\"A2\"]\n",
    "    A2 = cache[\"A2\"]\n",
    "    ### END CODE HERE ###\n",
    "    \n",
    "    # Backward propagation: calculate dW1, db1, dW2, db2. \n",
    "    ### START CODE HERE ### (≈ 6 lines of code, corresponding to 6 equations on slide above)\n",
    "    dZ2 = A2 - Y\n",
    "    dW2 = (1 / m) * np.dot(dZ2,A1.T)\n",
    "    db2 = (1 / m) * (np.sum(dZ2,axis=1,keepdims=True))\n",
    "    dZ1 = np.dot(W2.T,dZ2) * (1 - np.power(A1, 2))\n",
    "    dW1 = (1 / m) * np.dot(dZ1,X.T)\n",
    "    db1 = (1 / m) * np.sum(dZ1,axis=1,keepdims=True)\n",
    "    ### END CODE HERE ###\n",
    "    \n",
    "    grads = {\"dW1\": dW1,\n",
    "             \"db1\": db1,\n",
    "             \"dW2\": dW2,\n",
    "             \"db2\": db2}\n",
    "    \n",
    "    return grads"
   ]
  },
  {
   "cell_type": "code",
   "execution_count": 171,
   "metadata": {
    "tags": []
   },
   "outputs": [
    {
     "output_type": "stream",
     "name": "stdout",
     "text": "dW1 = [[ 0.00225746 -0.0056034 ]\n [ 0.00193965 -0.00481453]\n [-0.0011767   0.00292076]\n [-0.00489113  0.01214059]]\ndb1 = [[ 0.00132049]\n [ 0.00113459]\n [-0.0006883 ]\n [-0.00286104]]\ndW2 = [[-0.08338052]]\ndb2 = [[-0.16655712]]\n"
    }
   ],
   "source": [
    "parameters, cache, X_assess, Y_assess = backward_propagation_test_case()\n",
    "\n",
    "grads = backward_propagation(parameters, cache, X_assess, Y_assess)\n",
    "\n",
    "print (\"dW1 = \"+ str(grads[\"dW1\"]))\n",
    "print (\"db1 = \"+ str(grads[\"db1\"]))\n",
    "print (\"dW2 = \"+ str(grads[\"dW2\"]))\n",
    "print (\"db2 = \"+ str(grads[\"db2\"]))"
   ]
  },
  {
   "cell_type": "markdown",
   "metadata": {},
   "source": [
    "**Expected output**:\n",
    "\n",
    "\n",
    "\n",
    "<table style=\"width:80%\">\n",
    "  <tr>\n",
    "    <td>**dW1**</td>\n",
    "    <td> [[ 0.00301023 -0.00747267]\n",
    " [ 0.00257968 -0.00641288]\n",
    " [-0.00156892  0.003893  ]\n",
    " [-0.00652037  0.01618243]] </td> \n",
    "  </tr>\n",
    "  \n",
    "  <tr>\n",
    "    <td>**db1**</td>\n",
    "    <td>  [[ 0.00176201]\n",
    " [ 0.00150995]\n",
    " [-0.00091736]\n",
    " [-0.00381422]] </td> \n",
    "  </tr>\n",
    "  \n",
    "  <tr>\n",
    "    <td>**dW2**</td>\n",
    "    <td> [[ 0.00078841  0.01765429 -0.00084166 -0.01022527]] </td> \n",
    "  </tr>\n",
    "  \n",
    "\n",
    "  <tr>\n",
    "    <td>**db2**</td>\n",
    "    <td> [[-0.16655712]] </td> \n",
    "  </tr>\n",
    "  \n",
    "</table>  "
   ]
  },
  {
   "cell_type": "markdown",
   "metadata": {},
   "source": [
    "**Question**: Implement the update rule. Use gradient descent. You have to use (dW1, db1, dW2, db2) in order to update (W1, b1, W2, b2).\n",
    "\n",
    "**General gradient descent rule**: $ \\theta = \\theta - \\alpha \\frac{\\partial J }{ \\partial \\theta }$ where $\\alpha$ is the learning rate and $\\theta$ represents a parameter.\n",
    "\n",
    "**Illustration**: The gradient descent algorithm with a good learning rate (converging) and a bad learning rate (diverging). Images courtesy of Adam Harley.\n",
    "\n",
    "<img src=\"images/sgd.gif\" style=\"width:400;height:400;\"> <img src=\"images/sgd_bad.gif\" style=\"width:400;height:400;\">\n",
    "\n"
   ]
  },
  {
   "cell_type": "code",
   "execution_count": 172,
   "metadata": {},
   "outputs": [],
   "source": [
    "# GRADED FUNCTION: update_parameters\n",
    "\n",
    "def update_parameters(parameters, grads, learning_rate = 1.2):\n",
    "    \"\"\"\n",
    "    Updates parameters using the gradient descent update rule given above\n",
    "    \n",
    "    Arguments:\n",
    "    parameters -- python dictionary containing your parameters \n",
    "    grads -- python dictionary containing your gradients \n",
    "    \n",
    "    Returns:\n",
    "    parameters -- python dictionary containing your updated parameters \n",
    "    \"\"\"\n",
    "    # Retrieve each parameter from the dictionary \"parameters\"\n",
    "    ### START CODE HERE ### (≈ 4 lines of code)\n",
    "    W1 = parameters[\"W1\"]\n",
    "    b1 = parameters[\"b1\"]\n",
    "    W2 = parameters[\"W2\"]\n",
    "    b2 = parameters[\"b2\"]\n",
    "    ### END CODE HERE ###\n",
    "    \n",
    "    # Retrieve each gradient from the dictionary \"grads\"\n",
    "    ### START CODE HERE ### (≈ 4 lines of code)\n",
    "    dW1 = grads[\"dW1\"]\n",
    "    db1 = grads[\"db1\"]\n",
    "    dW2 = grads[\"dW2\"]\n",
    "    db2 = grads[\"db2\"]\n",
    "    ## END CODE HERE ###\n",
    "    \n",
    "    # Update rule for each parameter\n",
    "    ### START CODE HERE ### (≈ 4 lines of code)\n",
    "    W1 = W1 - learning_rate * dW1\n",
    "    b1 = b1 - learning_rate * db1\n",
    "    W2 = W2 - learning_rate * dW2\n",
    "    b2 = b2 - learning_rate * db2\n",
    "    ### END CODE HERE ###\n",
    "    \n",
    "    parameters = {\"W1\": W1,\n",
    "                  \"b1\": b1,\n",
    "                  \"W2\": W2,\n",
    "                  \"b2\": b2}\n",
    "    \n",
    "    return parameters"
   ]
  },
  {
   "cell_type": "code",
   "execution_count": 173,
   "metadata": {
    "scrolled": true,
    "tags": []
   },
   "outputs": [
    {
     "output_type": "stream",
     "name": "stdout",
     "text": "W1 = [[-0.00643025  0.01936718]\n [-0.02410458  0.03978052]\n [-0.01653973 -0.02096177]\n [ 0.01046864 -0.05990141]]\nb1 = [[-1.02420756e-06]\n [ 1.27373948e-05]\n [ 8.32996807e-07]\n [-3.20136836e-06]]\nW2 = [[-0.01041081 -0.04463285  0.01758031  0.04747113]]\nb2 = [[0.00010457]]\ndW1 = [[ 0.00023322 -0.00205423]\n [ 0.00082222 -0.00700776]\n [-0.00031831  0.0028636 ]\n [-0.00092857  0.00809933]]\ndb1 = [[ 1.05570087e-07]\n [-3.81814487e-06]\n [-1.90155145e-07]\n [ 5.46467802e-07]]\ndW2 = [[-1.75740039e-05  3.70231337e-03 -1.25683095e-03 -2.55715317e-03]]\ndb2 = [[-1.0892314e-05]]\n"
    }
   ],
   "source": [
    "parameters, grads = update_parameters_test_case()\n",
    "parameters = update_parameters(parameters, grads)\n",
    "\n",
    "print(\"W1 = \" + str(parameters[\"W1\"]))\n",
    "print(\"b1 = \" + str(parameters[\"b1\"]))\n",
    "print(\"W2 = \" + str(parameters[\"W2\"]))\n",
    "print(\"b2 = \" + str(parameters[\"b2\"]))\n",
    "print(\"dW1 = \" + str(grads[\"dW1\"]))\n",
    "print(\"db1 = \" + str(grads[\"db1\"]))\n",
    "print(\"dW2 = \" + str(grads[\"dW2\"]))\n",
    "print(\"db2 = \" + str(grads[\"db2\"]))\n"
   ]
  },
  {
   "cell_type": "markdown",
   "metadata": {},
   "source": [
    "**Expected Output**:\n",
    "\n",
    "\n",
    "<table style=\"width:80%\">\n",
    "  <tr>\n",
    "    <td>**W1**</td>\n",
    "    <td> [[-0.00643025  0.01936718]\n",
    " [-0.02410458  0.03978052]\n",
    " [-0.01653973 -0.02096177]\n",
    " [ 0.01046864 -0.05990141]]</td> \n",
    "  </tr>\n",
    "  \n",
    "  <tr>\n",
    "    <td>**b1**</td>\n",
    "    <td> [[ -1.02420756e-06]\n",
    " [  1.27373948e-05]\n",
    " [  8.32996807e-07]\n",
    " [ -3.20136836e-06]]</td> \n",
    "  </tr>\n",
    "  \n",
    "  <tr>\n",
    "    <td>**W2**</td>\n",
    "    <td> [[-0.01041081 -0.04463285  0.01758031  0.04747113]] </td> \n",
    "  </tr>\n",
    "  \n",
    "\n",
    "  <tr>\n",
    "    <td>**b2**</td>\n",
    "    <td> [[ 0.00010457]] </td> \n",
    "  </tr>\n",
    "  \n",
    "</table>  "
   ]
  },
  {
   "cell_type": "markdown",
   "metadata": {},
   "source": [
    "### 4.4 - Integrate parts 4.1, 4.2 and 4.3 in nn_model() ####\n",
    "\n",
    "**Question**: Build your neural network model in `nn_model()`.\n",
    "\n",
    "**Instructions**: The neural network model has to use the previous functions in the right order."
   ]
  },
  {
   "cell_type": "code",
   "execution_count": 174,
   "metadata": {},
   "outputs": [],
   "source": [
    "# GRADED FUNCTION: nn_model\n",
    "\n",
    "def nn_model(X, Y, n_h, num_iterations = 10000, print_cost=False):\n",
    "    \"\"\"\n",
    "    Arguments:\n",
    "    X -- dataset of shape (2, number of examples)\n",
    "    Y -- labels of shape (1, number of examples)\n",
    "    n_h -- size of the hidden layer\n",
    "    num_iterations -- Number of iterations in gradient descent loop\n",
    "    print_cost -- if True, print the cost every 1000 iterations\n",
    "    \n",
    "    Returns:\n",
    "    parameters -- parameters learnt by the model. They can then be used to predict.\n",
    "    \"\"\"\n",
    "    \n",
    "    np.random.seed(3)\n",
    "    n_x = layer_sizes(X, Y)[0]\n",
    "    n_y = layer_sizes(X, Y)[2]\n",
    "    \n",
    "    # Initialize parameters, then retrieve W1, b1, W2, b2. Inputs: \"n_x, n_h, n_y\". Outputs = \"W1, b1, W2, b2, parameters\".\n",
    "    ### START CODE HERE ### (≈ 5 lines of code)\n",
    "    parameters = initialize_parameters(n_x,n_h,n_y)\n",
    "    W1 = parameters[\"W1\"]\n",
    "    b1 = parameters[\"b1\"]\n",
    "    W2 = parameters[\"W2\"]\n",
    "    b2 = parameters[\"b2\"]\n",
    "    ### END CODE HERE ###\n",
    "    \n",
    "    # Loop (gradient descent)\n",
    "\n",
    "    for i in range(0, num_iterations):\n",
    "         \n",
    "        ### START CODE HERE ### (≈ 4 lines of code)\n",
    "        # Forward propagation. Inputs: \"X, parameters\". Outputs: \"A2, cache\".\n",
    "        A2, cache = forward_propagation(X,parameters)  #Remember you alredy code your forward_propagation(X, parameters) \n",
    "        \n",
    "        # Cost function. Inputs: \"A2, Y, parameters\". Outputs: \"cost\".\n",
    "        cost = compute_cost(A2,Y,parameters)\n",
    " \n",
    "        # Backpropagation. Inputs: \"parameters, cache, X, Y\". Outputs: \"grads\".\n",
    "        grads = backward_propagation(parameters,cache,X,Y)\n",
    " \n",
    "        # Gradient descent parameter update. Inputs: \"parameters, grads\". Outputs: \"parameters\".\n",
    "        parameters = update_parameters(parameters,grads,learning_rate=1.2)\n",
    "        \n",
    "        ### END CODE HERE ###\n",
    "        \n",
    "        # Print the cost every 1000 iterations\n",
    "        if print_cost and i % 1000 == 0:\n",
    "            print (\"Cost after iteration %i: %f\" %(i, cost))\n",
    "\n",
    "    return parameters"
   ]
  },
  {
   "cell_type": "code",
   "execution_count": 175,
   "metadata": {
    "tags": []
   },
   "outputs": [
    {
     "output_type": "stream",
     "name": "stdout",
     "text": "Cost after iteration 0: 0.692739\nCost after iteration 1000: 0.000408\nCost after iteration 2000: 0.000207\nCost after iteration 3000: 0.000139\nCost after iteration 4000: 0.000104\nCost after iteration 5000: 0.000084\nCost after iteration 6000: 0.000070\nCost after iteration 7000: 0.000060\nCost after iteration 8000: 0.000053\nCost after iteration 9000: 0.000047\nW1 = [[ 2.220644   -3.34832332]\n [ 2.20767217 -3.33898109]\n [ 2.25250362 -3.43854929]\n [ 2.32481686 -3.53167837]]\nb1 = [[-3.15945429]\n [-3.16264277]\n [-3.19390705]\n [-3.23117158]]\nW2 = [[2.49312566 2.4946151  2.50921972 2.52662726]]\nb2 = [[0.37272164]]\n"
    }
   ],
   "source": [
    "X_assess, Y_assess = nn_model_test_case()\n",
    "parameters = nn_model(X_assess, Y_assess, 4, num_iterations=10000, print_cost=True)\n",
    "print(\"W1 = \" + str(parameters[\"W1\"]))\n",
    "print(\"b1 = \" + str(parameters[\"b1\"]))\n",
    "print(\"W2 = \" + str(parameters[\"W2\"]))\n",
    "print(\"b2 = \" + str(parameters[\"b2\"]))"
   ]
  },
  {
   "cell_type": "markdown",
   "metadata": {},
   "source": [
    "**Expected Output**:\n",
    "\n",
    "<table style=\"width:90%\">\n",
    "\n",
    "<tr> \n",
    "    <td> \n",
    "        **cost after iteration 0**\n",
    "    </td>\n",
    "    <td> \n",
    "        0.692739\n",
    "    </td>\n",
    "</tr>\n",
    "\n",
    "<tr> \n",
    "    <td> \n",
    "        <center> $\\vdots$ </center>\n",
    "    </td>\n",
    "    <td> \n",
    "        <center> $\\vdots$ </center>\n",
    "    </td>\n",
    "</tr>\n",
    "\n",
    "  <tr>\n",
    "    <td>**W1**</td>\n",
    "    <td> [[-0.65848169  1.21866811]\n",
    " [-0.76204273  1.39377573]\n",
    " [ 0.5792005  -1.10397703]\n",
    " [ 0.76773391 -1.41477129]]</td> \n",
    "  </tr>\n",
    "  \n",
    "  <tr>\n",
    "    <td>**b1**</td>\n",
    "    <td> [[ 0.287592  ]\n",
    " [ 0.3511264 ]\n",
    " [-0.2431246 ]\n",
    " [-0.35772805]] </td> \n",
    "  </tr>\n",
    "  \n",
    "  <tr>\n",
    "    <td>**W2**</td>\n",
    "    <td> [[-2.45566237 -3.27042274  2.00784958  3.36773273]] </td> \n",
    "  </tr>\n",
    "  \n",
    "\n",
    "  <tr>\n",
    "    <td>**b2**</td>\n",
    "    <td> [[ 0.20459656]] </td> \n",
    "  </tr>\n",
    "  \n",
    "</table>  "
   ]
  },
  {
   "cell_type": "markdown",
   "metadata": {},
   "source": [
    "### 4.5 Predictions\n",
    "\n",
    "**Question**: Use your model to predict by building predict().\n",
    "Use forward propagation to predict results.\n",
    "\n",
    "**Reminder**: predictions = $y_{prediction} = \\mathbb 1 \\text{{activation > 0.5}} = \\begin{cases}\n",
    "      1 & \\text{if}\\ activation > 0.5 \\\\\n",
    "      0 & \\text{otherwise}\n",
    "    \\end{cases}$  \n",
    "    \n",
    "As an example, if you would like to set the entries of a matrix X to 0 and 1 based on a threshold you would do: ```X_new = (X > threshold)```"
   ]
  },
  {
   "cell_type": "code",
   "execution_count": 188,
   "metadata": {},
   "outputs": [],
   "source": [
    "# GRADED FUNCTION: predict\n",
    "\n",
    "def predict(parameters, X):\n",
    "    \"\"\"\n",
    "    Using the learned parameters, predicts a class for each example in X\n",
    "    \n",
    "    Arguments:\n",
    "    parameters -- python dictionary containing your parameters \n",
    "    X -- input data of size (n_x, m)\n",
    "    \n",
    "    Returns\n",
    "    predictions -- vector of predictions of our model (red: 0 / blue: 1)\n",
    "    \"\"\"\n",
    "    \n",
    "    # Computes probabilities using forward propagation, and classifies to 0/1 using 0.5 as the threshold.\n",
    "    ### START CODE HERE ### (≈ 2 lines of code)\n",
    "    A2, cache = forward_propagation(X,parameters)\n",
    "    predictions = (A2 > 0.5)\n",
    "    ### END CODE HERE ###\n",
    "    \n",
    "    return predictions"
   ]
  },
  {
   "cell_type": "code",
   "execution_count": 191,
   "metadata": {
    "tags": []
   },
   "outputs": [
    {
     "output_type": "stream",
     "name": "stdout",
     "text": "[[ True False  True]]\npredictions mean = 0.6666666666666666\n"
    }
   ],
   "source": [
    "parameters, X_assess = predict_test_case()\n",
    "\n",
    "predictions = predict(parameters, X_assess)\n",
    "print(predictions)\n",
    "print(\"predictions mean = \" + str(np.mean(predictions)))"
   ]
  },
  {
   "cell_type": "markdown",
   "metadata": {},
   "source": [
    "**Expected Output**: \n",
    "\n",
    "\n",
    "<table style=\"width:40%\">\n",
    "  <tr>\n",
    "    <td>**predictions mean**</td>\n",
    "    <td> 0.666666666667 </td> \n",
    "  </tr>\n",
    "  \n",
    "</table>"
   ]
  },
  {
   "cell_type": "markdown",
   "metadata": {},
   "source": [
    "It is time to run the model and see how it performs on a planar dataset. Run the following code to test your model with a single hidden layer of $n_h$ hidden units."
   ]
  },
  {
   "cell_type": "code",
   "execution_count": 190,
   "metadata": {
    "scrolled": false,
    "tags": []
   },
   "outputs": [
    {
     "output_type": "stream",
     "name": "stdout",
     "text": "Cost after iteration 0: 0.693048\nCost after iteration 1000: nan\nCost after iteration 2000: nan\nCost after iteration 3000: nan\nCost after iteration 4000: nan\nCost after iteration 5000: nan\nCost after iteration 6000: nan\nCost after iteration 7000: nan\nCost after iteration 8000: nan\nCost after iteration 9000: nan\n"
    },
    {
     "output_type": "error",
     "ename": "ValueError",
     "evalue": "'c' argument has 1 elements, which is not acceptable for use with 'x' with size 400, 'y' with size 400.",
     "traceback": [
      "\u001b[0;31m---------------------------------------------------------------------------\u001b[0m",
      "\u001b[0;31mValueError\u001b[0m                                Traceback (most recent call last)",
      "\u001b[0;32m~/anaconda3/lib/python3.7/site-packages/matplotlib/axes/_axes.py\u001b[0m in \u001b[0;36m_parse_scatter_color_args\u001b[0;34m(c, edgecolors, kwargs, xshape, yshape, get_next_color_func)\u001b[0m\n\u001b[1;32m   4283\u001b[0m             \u001b[0;32mtry\u001b[0m\u001b[0;34m:\u001b[0m  \u001b[0;31m# Then is 'c' acceptable as PathCollection facecolors?\u001b[0m\u001b[0;34m\u001b[0m\u001b[0;34m\u001b[0m\u001b[0m\n\u001b[0;32m-> 4284\u001b[0;31m                 \u001b[0mcolors\u001b[0m \u001b[0;34m=\u001b[0m \u001b[0mmcolors\u001b[0m\u001b[0;34m.\u001b[0m\u001b[0mto_rgba_array\u001b[0m\u001b[0;34m(\u001b[0m\u001b[0mc\u001b[0m\u001b[0;34m)\u001b[0m\u001b[0;34m\u001b[0m\u001b[0;34m\u001b[0m\u001b[0m\n\u001b[0m\u001b[1;32m   4285\u001b[0m                 \u001b[0mn_elem\u001b[0m \u001b[0;34m=\u001b[0m \u001b[0mcolors\u001b[0m\u001b[0;34m.\u001b[0m\u001b[0mshape\u001b[0m\u001b[0;34m[\u001b[0m\u001b[0;36m0\u001b[0m\u001b[0;34m]\u001b[0m\u001b[0;34m\u001b[0m\u001b[0;34m\u001b[0m\u001b[0m\n",
      "\u001b[0;32m~/anaconda3/lib/python3.7/site-packages/matplotlib/colors.py\u001b[0m in \u001b[0;36mto_rgba_array\u001b[0;34m(c, alpha)\u001b[0m\n\u001b[1;32m    293\u001b[0m     \u001b[0;32mfor\u001b[0m \u001b[0mi\u001b[0m\u001b[0;34m,\u001b[0m \u001b[0mcc\u001b[0m \u001b[0;32min\u001b[0m \u001b[0menumerate\u001b[0m\u001b[0;34m(\u001b[0m\u001b[0mc\u001b[0m\u001b[0;34m)\u001b[0m\u001b[0;34m:\u001b[0m\u001b[0;34m\u001b[0m\u001b[0;34m\u001b[0m\u001b[0m\n\u001b[0;32m--> 294\u001b[0;31m         \u001b[0mresult\u001b[0m\u001b[0;34m[\u001b[0m\u001b[0mi\u001b[0m\u001b[0;34m]\u001b[0m \u001b[0;34m=\u001b[0m \u001b[0mto_rgba\u001b[0m\u001b[0;34m(\u001b[0m\u001b[0mcc\u001b[0m\u001b[0;34m,\u001b[0m \u001b[0malpha\u001b[0m\u001b[0;34m)\u001b[0m\u001b[0;34m\u001b[0m\u001b[0;34m\u001b[0m\u001b[0m\n\u001b[0m\u001b[1;32m    295\u001b[0m     \u001b[0;32mreturn\u001b[0m \u001b[0mresult\u001b[0m\u001b[0;34m\u001b[0m\u001b[0;34m\u001b[0m\u001b[0m\n",
      "\u001b[0;32m~/anaconda3/lib/python3.7/site-packages/matplotlib/colors.py\u001b[0m in \u001b[0;36mto_rgba\u001b[0;34m(c, alpha)\u001b[0m\n\u001b[1;32m    176\u001b[0m     \u001b[0;32mif\u001b[0m \u001b[0mrgba\u001b[0m \u001b[0;32mis\u001b[0m \u001b[0;32mNone\u001b[0m\u001b[0;34m:\u001b[0m  \u001b[0;31m# Suppress exception chaining of cache lookup failure.\u001b[0m\u001b[0;34m\u001b[0m\u001b[0;34m\u001b[0m\u001b[0m\n\u001b[0;32m--> 177\u001b[0;31m         \u001b[0mrgba\u001b[0m \u001b[0;34m=\u001b[0m \u001b[0m_to_rgba_no_colorcycle\u001b[0m\u001b[0;34m(\u001b[0m\u001b[0mc\u001b[0m\u001b[0;34m,\u001b[0m \u001b[0malpha\u001b[0m\u001b[0;34m)\u001b[0m\u001b[0;34m\u001b[0m\u001b[0;34m\u001b[0m\u001b[0m\n\u001b[0m\u001b[1;32m    178\u001b[0m         \u001b[0;32mtry\u001b[0m\u001b[0;34m:\u001b[0m\u001b[0;34m\u001b[0m\u001b[0;34m\u001b[0m\u001b[0m\n",
      "\u001b[0;32m~/anaconda3/lib/python3.7/site-packages/matplotlib/colors.py\u001b[0m in \u001b[0;36m_to_rgba_no_colorcycle\u001b[0;34m(c, alpha)\u001b[0m\n\u001b[1;32m    243\u001b[0m     \u001b[0;32mif\u001b[0m \u001b[0mlen\u001b[0m\u001b[0;34m(\u001b[0m\u001b[0mc\u001b[0m\u001b[0;34m)\u001b[0m \u001b[0;32mnot\u001b[0m \u001b[0;32min\u001b[0m \u001b[0;34m[\u001b[0m\u001b[0;36m3\u001b[0m\u001b[0;34m,\u001b[0m \u001b[0;36m4\u001b[0m\u001b[0;34m]\u001b[0m\u001b[0;34m:\u001b[0m\u001b[0;34m\u001b[0m\u001b[0;34m\u001b[0m\u001b[0m\n\u001b[0;32m--> 244\u001b[0;31m         \u001b[0;32mraise\u001b[0m \u001b[0mValueError\u001b[0m\u001b[0;34m(\u001b[0m\u001b[0;34m\"RGBA sequence should have length 3 or 4\"\u001b[0m\u001b[0;34m)\u001b[0m\u001b[0;34m\u001b[0m\u001b[0;34m\u001b[0m\u001b[0m\n\u001b[0m\u001b[1;32m    245\u001b[0m     \u001b[0;32mif\u001b[0m \u001b[0mlen\u001b[0m\u001b[0;34m(\u001b[0m\u001b[0mc\u001b[0m\u001b[0;34m)\u001b[0m \u001b[0;34m==\u001b[0m \u001b[0;36m3\u001b[0m \u001b[0;32mand\u001b[0m \u001b[0malpha\u001b[0m \u001b[0;32mis\u001b[0m \u001b[0;32mNone\u001b[0m\u001b[0;34m:\u001b[0m\u001b[0;34m\u001b[0m\u001b[0;34m\u001b[0m\u001b[0m\n",
      "\u001b[0;31mValueError\u001b[0m: RGBA sequence should have length 3 or 4",
      "\nDuring handling of the above exception, another exception occurred:\n",
      "\u001b[0;31mValueError\u001b[0m                                Traceback (most recent call last)",
      "\u001b[0;32m<ipython-input-190-11bad20c9992>\u001b[0m in \u001b[0;36m<module>\u001b[0;34m\u001b[0m\n\u001b[1;32m      3\u001b[0m \u001b[0;34m\u001b[0m\u001b[0m\n\u001b[1;32m      4\u001b[0m \u001b[0;31m# Plot the decision boundary\u001b[0m\u001b[0;34m\u001b[0m\u001b[0;34m\u001b[0m\u001b[0;34m\u001b[0m\u001b[0m\n\u001b[0;32m----> 5\u001b[0;31m \u001b[0mplot_decision_boundary\u001b[0m\u001b[0;34m(\u001b[0m\u001b[0;32mlambda\u001b[0m \u001b[0mx\u001b[0m\u001b[0;34m:\u001b[0m \u001b[0mpredict\u001b[0m\u001b[0;34m(\u001b[0m\u001b[0mparameters\u001b[0m\u001b[0;34m,\u001b[0m \u001b[0mx\u001b[0m\u001b[0;34m.\u001b[0m\u001b[0mT\u001b[0m\u001b[0;34m)\u001b[0m\u001b[0;34m,\u001b[0m \u001b[0mX\u001b[0m\u001b[0;34m,\u001b[0m \u001b[0mY\u001b[0m\u001b[0;34m)\u001b[0m\u001b[0;34m\u001b[0m\u001b[0;34m\u001b[0m\u001b[0m\n\u001b[0m\u001b[1;32m      6\u001b[0m \u001b[0mplt\u001b[0m\u001b[0;34m.\u001b[0m\u001b[0mtitle\u001b[0m\u001b[0;34m(\u001b[0m\u001b[0;34m\"Decision Boundary for hidden layer size \"\u001b[0m \u001b[0;34m+\u001b[0m \u001b[0mstr\u001b[0m\u001b[0;34m(\u001b[0m\u001b[0;36m4\u001b[0m\u001b[0;34m)\u001b[0m\u001b[0;34m)\u001b[0m\u001b[0;34m\u001b[0m\u001b[0;34m\u001b[0m\u001b[0m\n",
      "\u001b[0;32m/mnt/c/Users/Brandon/Documents/Jupyter/mini_projects/Mini-project2/planar_utils.py\u001b[0m in \u001b[0;36mplot_decision_boundary\u001b[0;34m(model, X, y)\u001b[0m\n\u001b[1;32m     19\u001b[0m     \u001b[0mplt\u001b[0m\u001b[0;34m.\u001b[0m\u001b[0mylabel\u001b[0m\u001b[0;34m(\u001b[0m\u001b[0;34m'x2'\u001b[0m\u001b[0;34m)\u001b[0m\u001b[0;34m\u001b[0m\u001b[0;34m\u001b[0m\u001b[0m\n\u001b[1;32m     20\u001b[0m     \u001b[0mplt\u001b[0m\u001b[0;34m.\u001b[0m\u001b[0mxlabel\u001b[0m\u001b[0;34m(\u001b[0m\u001b[0;34m'x1'\u001b[0m\u001b[0;34m)\u001b[0m\u001b[0;34m\u001b[0m\u001b[0;34m\u001b[0m\u001b[0m\n\u001b[0;32m---> 21\u001b[0;31m     \u001b[0mplt\u001b[0m\u001b[0;34m.\u001b[0m\u001b[0mscatter\u001b[0m\u001b[0;34m(\u001b[0m\u001b[0mX\u001b[0m\u001b[0;34m[\u001b[0m\u001b[0;36m0\u001b[0m\u001b[0;34m,\u001b[0m \u001b[0;34m:\u001b[0m\u001b[0;34m]\u001b[0m\u001b[0;34m,\u001b[0m \u001b[0mX\u001b[0m\u001b[0;34m[\u001b[0m\u001b[0;36m1\u001b[0m\u001b[0;34m,\u001b[0m \u001b[0;34m:\u001b[0m\u001b[0;34m]\u001b[0m\u001b[0;34m,\u001b[0m \u001b[0mc\u001b[0m\u001b[0;34m=\u001b[0m\u001b[0my\u001b[0m\u001b[0;34m,\u001b[0m \u001b[0mcmap\u001b[0m\u001b[0;34m=\u001b[0m\u001b[0mplt\u001b[0m\u001b[0;34m.\u001b[0m\u001b[0mcm\u001b[0m\u001b[0;34m.\u001b[0m\u001b[0mSpectral\u001b[0m\u001b[0;34m)\u001b[0m\u001b[0;34m\u001b[0m\u001b[0;34m\u001b[0m\u001b[0m\n\u001b[0m\u001b[1;32m     22\u001b[0m \u001b[0;34m\u001b[0m\u001b[0m\n\u001b[1;32m     23\u001b[0m \u001b[0;34m\u001b[0m\u001b[0m\n",
      "\u001b[0;32m~/anaconda3/lib/python3.7/site-packages/matplotlib/pyplot.py\u001b[0m in \u001b[0;36mscatter\u001b[0;34m(x, y, s, c, marker, cmap, norm, vmin, vmax, alpha, linewidths, verts, edgecolors, plotnonfinite, data, **kwargs)\u001b[0m\n\u001b[1;32m   2846\u001b[0m         \u001b[0mverts\u001b[0m\u001b[0;34m=\u001b[0m\u001b[0mverts\u001b[0m\u001b[0;34m,\u001b[0m \u001b[0medgecolors\u001b[0m\u001b[0;34m=\u001b[0m\u001b[0medgecolors\u001b[0m\u001b[0;34m,\u001b[0m\u001b[0;34m\u001b[0m\u001b[0;34m\u001b[0m\u001b[0m\n\u001b[1;32m   2847\u001b[0m         plotnonfinite=plotnonfinite, **({\"data\": data} if data is not\n\u001b[0;32m-> 2848\u001b[0;31m         None else {}), **kwargs)\n\u001b[0m\u001b[1;32m   2849\u001b[0m     \u001b[0msci\u001b[0m\u001b[0;34m(\u001b[0m\u001b[0m__ret\u001b[0m\u001b[0;34m)\u001b[0m\u001b[0;34m\u001b[0m\u001b[0;34m\u001b[0m\u001b[0m\n\u001b[1;32m   2850\u001b[0m     \u001b[0;32mreturn\u001b[0m \u001b[0m__ret\u001b[0m\u001b[0;34m\u001b[0m\u001b[0;34m\u001b[0m\u001b[0m\n",
      "\u001b[0;32m~/anaconda3/lib/python3.7/site-packages/matplotlib/__init__.py\u001b[0m in \u001b[0;36minner\u001b[0;34m(ax, data, *args, **kwargs)\u001b[0m\n\u001b[1;32m   1597\u001b[0m     \u001b[0;32mdef\u001b[0m \u001b[0minner\u001b[0m\u001b[0;34m(\u001b[0m\u001b[0max\u001b[0m\u001b[0;34m,\u001b[0m \u001b[0;34m*\u001b[0m\u001b[0margs\u001b[0m\u001b[0;34m,\u001b[0m \u001b[0mdata\u001b[0m\u001b[0;34m=\u001b[0m\u001b[0;32mNone\u001b[0m\u001b[0;34m,\u001b[0m \u001b[0;34m**\u001b[0m\u001b[0mkwargs\u001b[0m\u001b[0;34m)\u001b[0m\u001b[0;34m:\u001b[0m\u001b[0;34m\u001b[0m\u001b[0;34m\u001b[0m\u001b[0m\n\u001b[1;32m   1598\u001b[0m         \u001b[0;32mif\u001b[0m \u001b[0mdata\u001b[0m \u001b[0;32mis\u001b[0m \u001b[0;32mNone\u001b[0m\u001b[0;34m:\u001b[0m\u001b[0;34m\u001b[0m\u001b[0;34m\u001b[0m\u001b[0m\n\u001b[0;32m-> 1599\u001b[0;31m             \u001b[0;32mreturn\u001b[0m \u001b[0mfunc\u001b[0m\u001b[0;34m(\u001b[0m\u001b[0max\u001b[0m\u001b[0;34m,\u001b[0m \u001b[0;34m*\u001b[0m\u001b[0mmap\u001b[0m\u001b[0;34m(\u001b[0m\u001b[0msanitize_sequence\u001b[0m\u001b[0;34m,\u001b[0m \u001b[0margs\u001b[0m\u001b[0;34m)\u001b[0m\u001b[0;34m,\u001b[0m \u001b[0;34m**\u001b[0m\u001b[0mkwargs\u001b[0m\u001b[0;34m)\u001b[0m\u001b[0;34m\u001b[0m\u001b[0;34m\u001b[0m\u001b[0m\n\u001b[0m\u001b[1;32m   1600\u001b[0m \u001b[0;34m\u001b[0m\u001b[0m\n\u001b[1;32m   1601\u001b[0m         \u001b[0mbound\u001b[0m \u001b[0;34m=\u001b[0m \u001b[0mnew_sig\u001b[0m\u001b[0;34m.\u001b[0m\u001b[0mbind\u001b[0m\u001b[0;34m(\u001b[0m\u001b[0max\u001b[0m\u001b[0;34m,\u001b[0m \u001b[0;34m*\u001b[0m\u001b[0margs\u001b[0m\u001b[0;34m,\u001b[0m \u001b[0;34m**\u001b[0m\u001b[0mkwargs\u001b[0m\u001b[0;34m)\u001b[0m\u001b[0;34m\u001b[0m\u001b[0;34m\u001b[0m\u001b[0m\n",
      "\u001b[0;32m~/anaconda3/lib/python3.7/site-packages/matplotlib/axes/_axes.py\u001b[0m in \u001b[0;36mscatter\u001b[0;34m(self, x, y, s, c, marker, cmap, norm, vmin, vmax, alpha, linewidths, verts, edgecolors, plotnonfinite, **kwargs)\u001b[0m\n\u001b[1;32m   4451\u001b[0m             self._parse_scatter_color_args(\n\u001b[1;32m   4452\u001b[0m                 \u001b[0mc\u001b[0m\u001b[0;34m,\u001b[0m \u001b[0medgecolors\u001b[0m\u001b[0;34m,\u001b[0m \u001b[0mkwargs\u001b[0m\u001b[0;34m,\u001b[0m \u001b[0mxshape\u001b[0m\u001b[0;34m,\u001b[0m \u001b[0myshape\u001b[0m\u001b[0;34m,\u001b[0m\u001b[0;34m\u001b[0m\u001b[0;34m\u001b[0m\u001b[0m\n\u001b[0;32m-> 4453\u001b[0;31m                 get_next_color_func=self._get_patches_for_fill.get_next_color)\n\u001b[0m\u001b[1;32m   4454\u001b[0m \u001b[0;34m\u001b[0m\u001b[0m\n\u001b[1;32m   4455\u001b[0m         \u001b[0;32mif\u001b[0m \u001b[0mplotnonfinite\u001b[0m \u001b[0;32mand\u001b[0m \u001b[0mcolors\u001b[0m \u001b[0;32mis\u001b[0m \u001b[0;32mNone\u001b[0m\u001b[0;34m:\u001b[0m\u001b[0;34m\u001b[0m\u001b[0;34m\u001b[0m\u001b[0m\n",
      "\u001b[0;32m~/anaconda3/lib/python3.7/site-packages/matplotlib/axes/_axes.py\u001b[0m in \u001b[0;36m_parse_scatter_color_args\u001b[0;34m(c, edgecolors, kwargs, xshape, yshape, get_next_color_func)\u001b[0m\n\u001b[1;32m   4295\u001b[0m                         \u001b[0;34m\"acceptable for use with 'x' with size {xs}, \"\u001b[0m\u001b[0;34m\u001b[0m\u001b[0;34m\u001b[0m\u001b[0m\n\u001b[1;32m   4296\u001b[0m                         \u001b[0;34m\"'y' with size {ys}.\"\u001b[0m\u001b[0;34m\u001b[0m\u001b[0;34m\u001b[0m\u001b[0m\n\u001b[0;32m-> 4297\u001b[0;31m                             \u001b[0;34m.\u001b[0m\u001b[0mformat\u001b[0m\u001b[0;34m(\u001b[0m\u001b[0mnc\u001b[0m\u001b[0;34m=\u001b[0m\u001b[0mn_elem\u001b[0m\u001b[0;34m,\u001b[0m \u001b[0mxs\u001b[0m\u001b[0;34m=\u001b[0m\u001b[0mxsize\u001b[0m\u001b[0;34m,\u001b[0m \u001b[0mys\u001b[0m\u001b[0;34m=\u001b[0m\u001b[0mysize\u001b[0m\u001b[0;34m)\u001b[0m\u001b[0;34m\u001b[0m\u001b[0;34m\u001b[0m\u001b[0m\n\u001b[0m\u001b[1;32m   4298\u001b[0m                     )\n\u001b[1;32m   4299\u001b[0m                 \u001b[0;32melse\u001b[0m\u001b[0;34m:\u001b[0m\u001b[0;34m\u001b[0m\u001b[0;34m\u001b[0m\u001b[0m\n",
      "\u001b[0;31mValueError\u001b[0m: 'c' argument has 1 elements, which is not acceptable for use with 'x' with size 400, 'y' with size 400."
     ]
    }
   ],
   "source": [
    "# Build a model with a n_h-dimensional hidden layer\n",
    "parameters = nn_model(X, Y, n_h = 4, num_iterations = 10000, print_cost=True)\n",
    "\n",
    "# Plot the decision boundary\n",
    "plot_decision_boundary(lambda x: predict(parameters, x.T), X, Y)\n",
    "plt.title(\"Decision Boundary for hidden layer size \" + str(4))"
   ]
  },
  {
   "cell_type": "markdown",
   "metadata": {},
   "source": [
    "**Expected Output**:\n",
    "\n",
    "<table style=\"width:40%\">\n",
    "  <tr>\n",
    "    <td>**Cost after iteration 9000**</td>\n",
    "    <td> 0.218607 </td> \n",
    "  </tr>\n",
    "  \n",
    "</table>\n"
   ]
  },
  {
   "cell_type": "code",
   "execution_count": 179,
   "metadata": {},
   "outputs": [
    {
     "output_type": "error",
     "ename": "TypeError",
     "evalue": "cannot unpack non-iterable NoneType object",
     "traceback": [
      "\u001b[0;31m---------------------------------------------------------------------------\u001b[0m",
      "\u001b[0;31mTypeError\u001b[0m                                 Traceback (most recent call last)",
      "\u001b[0;32m<ipython-input-179-d1694606b71e>\u001b[0m in \u001b[0;36m<module>\u001b[0;34m\u001b[0m\n\u001b[1;32m      1\u001b[0m \u001b[0;31m# Print accuracy\u001b[0m\u001b[0;34m\u001b[0m\u001b[0;34m\u001b[0m\u001b[0;34m\u001b[0m\u001b[0m\n\u001b[0;32m----> 2\u001b[0;31m \u001b[0mpredictions\u001b[0m \u001b[0;34m=\u001b[0m \u001b[0mpredict\u001b[0m\u001b[0;34m(\u001b[0m\u001b[0mparameters\u001b[0m\u001b[0;34m,\u001b[0m \u001b[0mX\u001b[0m\u001b[0;34m)\u001b[0m\u001b[0;34m\u001b[0m\u001b[0;34m\u001b[0m\u001b[0m\n\u001b[0m\u001b[1;32m      3\u001b[0m \u001b[0mprint\u001b[0m \u001b[0;34m(\u001b[0m\u001b[0;34m'Accuracy: %d'\u001b[0m \u001b[0;34m%\u001b[0m \u001b[0mfloat\u001b[0m\u001b[0;34m(\u001b[0m\u001b[0;34m(\u001b[0m\u001b[0mnp\u001b[0m\u001b[0;34m.\u001b[0m\u001b[0mdot\u001b[0m\u001b[0;34m(\u001b[0m\u001b[0mY\u001b[0m\u001b[0;34m,\u001b[0m\u001b[0mpredictions\u001b[0m\u001b[0;34m.\u001b[0m\u001b[0mT\u001b[0m\u001b[0;34m)\u001b[0m \u001b[0;34m+\u001b[0m \u001b[0mnp\u001b[0m\u001b[0;34m.\u001b[0m\u001b[0mdot\u001b[0m\u001b[0;34m(\u001b[0m\u001b[0;36m1\u001b[0m\u001b[0;34m-\u001b[0m\u001b[0mY\u001b[0m\u001b[0;34m,\u001b[0m\u001b[0;36m1\u001b[0m\u001b[0;34m-\u001b[0m\u001b[0mpredictions\u001b[0m\u001b[0;34m.\u001b[0m\u001b[0mT\u001b[0m\u001b[0;34m)\u001b[0m\u001b[0;34m)\u001b[0m\u001b[0;34m/\u001b[0m\u001b[0mfloat\u001b[0m\u001b[0;34m(\u001b[0m\u001b[0mY\u001b[0m\u001b[0;34m.\u001b[0m\u001b[0msize\u001b[0m\u001b[0;34m)\u001b[0m\u001b[0;34m*\u001b[0m\u001b[0;36m100\u001b[0m\u001b[0;34m)\u001b[0m \u001b[0;34m+\u001b[0m \u001b[0;34m'%'\u001b[0m\u001b[0;34m)\u001b[0m\u001b[0;34m\u001b[0m\u001b[0;34m\u001b[0m\u001b[0m\n",
      "\u001b[0;32m<ipython-input-176-23d8e173bb3d>\u001b[0m in \u001b[0;36mpredict\u001b[0;34m(parameters, X)\u001b[0m\n\u001b[1;32m     15\u001b[0m     \u001b[0;31m# Computes probabilities using forward propagation, and classifies to 0/1 using 0.5 as the threshold.\u001b[0m\u001b[0;34m\u001b[0m\u001b[0;34m\u001b[0m\u001b[0;34m\u001b[0m\u001b[0m\n\u001b[1;32m     16\u001b[0m     \u001b[0;31m### START CODE HERE ### (≈ 2 lines of code)\u001b[0m\u001b[0;34m\u001b[0m\u001b[0;34m\u001b[0m\u001b[0;34m\u001b[0m\u001b[0m\n\u001b[0;32m---> 17\u001b[0;31m     \u001b[0mA2\u001b[0m\u001b[0;34m,\u001b[0m \u001b[0mcache\u001b[0m \u001b[0;34m=\u001b[0m \u001b[0;32mNone\u001b[0m\u001b[0;34m\u001b[0m\u001b[0;34m\u001b[0m\u001b[0m\n\u001b[0m\u001b[1;32m     18\u001b[0m     \u001b[0mpredictions\u001b[0m \u001b[0;34m=\u001b[0m \u001b[0;32mNone\u001b[0m\u001b[0;34m\u001b[0m\u001b[0;34m\u001b[0m\u001b[0m\n\u001b[1;32m     19\u001b[0m     \u001b[0;31m### END CODE HERE ###\u001b[0m\u001b[0;34m\u001b[0m\u001b[0;34m\u001b[0m\u001b[0;34m\u001b[0m\u001b[0m\n",
      "\u001b[0;31mTypeError\u001b[0m: cannot unpack non-iterable NoneType object"
     ]
    }
   ],
   "source": [
    "# Print accuracy\n",
    "predictions = predict(parameters, X)\n",
    "print ('Accuracy: %d' % float((np.dot(Y,predictions.T) + np.dot(1-Y,1-predictions.T))/float(Y.size)*100) + '%')"
   ]
  },
  {
   "cell_type": "markdown",
   "metadata": {},
   "source": [
    "**Expected Output**: \n",
    "\n",
    "<table style=\"width:15%\">\n",
    "  <tr>\n",
    "    <td>**Accuracy**</td>\n",
    "    <td> 90% </td> \n",
    "  </tr>\n",
    "</table>"
   ]
  },
  {
   "cell_type": "markdown",
   "metadata": {},
   "source": [
    "Accuracy is really high compared to Logistic Regression. The model has learnt the leaf patterns of the flower! Neural networks are able to learn even highly non-linear decision boundaries, unlike logistic regression. \n",
    "\n",
    "Now, let's try out several hidden layer sizes."
   ]
  },
  {
   "cell_type": "markdown",
   "metadata": {},
   "source": [
    "### 4.6 - Tuning hidden layer size (optional/ungraded exercise) ###\n",
    "\n",
    "Run the following code. It may take 1-2 minutes. You will observe different behaviors of the model for various hidden layer sizes."
   ]
  },
  {
   "cell_type": "code",
   "execution_count": 180,
   "metadata": {
    "scrolled": false
   },
   "outputs": [
    {
     "output_type": "error",
     "ename": "TypeError",
     "evalue": "cannot unpack non-iterable NoneType object",
     "traceback": [
      "\u001b[0;31m---------------------------------------------------------------------------\u001b[0m",
      "\u001b[0;31mTypeError\u001b[0m                                 Traceback (most recent call last)",
      "\u001b[0;32m<ipython-input-180-79d8354e3077>\u001b[0m in \u001b[0;36m<module>\u001b[0;34m\u001b[0m\n\u001b[1;32m      7\u001b[0m     \u001b[0mplt\u001b[0m\u001b[0;34m.\u001b[0m\u001b[0mtitle\u001b[0m\u001b[0;34m(\u001b[0m\u001b[0;34m'Hidden Layer of size %d'\u001b[0m \u001b[0;34m%\u001b[0m \u001b[0mn_h\u001b[0m\u001b[0;34m)\u001b[0m\u001b[0;34m\u001b[0m\u001b[0;34m\u001b[0m\u001b[0m\n\u001b[1;32m      8\u001b[0m     \u001b[0mparameters\u001b[0m \u001b[0;34m=\u001b[0m \u001b[0mnn_model\u001b[0m\u001b[0;34m(\u001b[0m\u001b[0mX\u001b[0m\u001b[0;34m,\u001b[0m \u001b[0mY\u001b[0m\u001b[0;34m,\u001b[0m \u001b[0mn_h\u001b[0m\u001b[0;34m,\u001b[0m \u001b[0mnum_iterations\u001b[0m \u001b[0;34m=\u001b[0m \u001b[0;36m5000\u001b[0m\u001b[0;34m)\u001b[0m\u001b[0;34m\u001b[0m\u001b[0;34m\u001b[0m\u001b[0m\n\u001b[0;32m----> 9\u001b[0;31m     \u001b[0mplot_decision_boundary\u001b[0m\u001b[0;34m(\u001b[0m\u001b[0;32mlambda\u001b[0m \u001b[0mx\u001b[0m\u001b[0;34m:\u001b[0m \u001b[0mpredict\u001b[0m\u001b[0;34m(\u001b[0m\u001b[0mparameters\u001b[0m\u001b[0;34m,\u001b[0m \u001b[0mx\u001b[0m\u001b[0;34m.\u001b[0m\u001b[0mT\u001b[0m\u001b[0;34m)\u001b[0m\u001b[0;34m,\u001b[0m \u001b[0mX\u001b[0m\u001b[0;34m,\u001b[0m \u001b[0mY\u001b[0m\u001b[0;34m)\u001b[0m\u001b[0;34m\u001b[0m\u001b[0;34m\u001b[0m\u001b[0m\n\u001b[0m\u001b[1;32m     10\u001b[0m     \u001b[0mpredictions\u001b[0m \u001b[0;34m=\u001b[0m \u001b[0mpredict\u001b[0m\u001b[0;34m(\u001b[0m\u001b[0mparameters\u001b[0m\u001b[0;34m,\u001b[0m \u001b[0mX\u001b[0m\u001b[0;34m)\u001b[0m\u001b[0;34m\u001b[0m\u001b[0;34m\u001b[0m\u001b[0m\n\u001b[1;32m     11\u001b[0m     \u001b[0maccuracy\u001b[0m \u001b[0;34m=\u001b[0m \u001b[0mfloat\u001b[0m\u001b[0;34m(\u001b[0m\u001b[0;34m(\u001b[0m\u001b[0mnp\u001b[0m\u001b[0;34m.\u001b[0m\u001b[0mdot\u001b[0m\u001b[0;34m(\u001b[0m\u001b[0mY\u001b[0m\u001b[0;34m,\u001b[0m\u001b[0mpredictions\u001b[0m\u001b[0;34m.\u001b[0m\u001b[0mT\u001b[0m\u001b[0;34m)\u001b[0m \u001b[0;34m+\u001b[0m \u001b[0mnp\u001b[0m\u001b[0;34m.\u001b[0m\u001b[0mdot\u001b[0m\u001b[0;34m(\u001b[0m\u001b[0;36m1\u001b[0m\u001b[0;34m-\u001b[0m\u001b[0mY\u001b[0m\u001b[0;34m,\u001b[0m\u001b[0;36m1\u001b[0m\u001b[0;34m-\u001b[0m\u001b[0mpredictions\u001b[0m\u001b[0;34m.\u001b[0m\u001b[0mT\u001b[0m\u001b[0;34m)\u001b[0m\u001b[0;34m)\u001b[0m\u001b[0;34m/\u001b[0m\u001b[0mfloat\u001b[0m\u001b[0;34m(\u001b[0m\u001b[0mY\u001b[0m\u001b[0;34m.\u001b[0m\u001b[0msize\u001b[0m\u001b[0;34m)\u001b[0m\u001b[0;34m*\u001b[0m\u001b[0;36m100\u001b[0m\u001b[0;34m)\u001b[0m\u001b[0;34m\u001b[0m\u001b[0;34m\u001b[0m\u001b[0m\n",
      "\u001b[0;32m/mnt/c/Users/Brandon/Documents/Jupyter/mini_projects/Mini-project2/planar_utils.py\u001b[0m in \u001b[0;36mplot_decision_boundary\u001b[0;34m(model, X, y)\u001b[0m\n\u001b[1;32m     13\u001b[0m     \u001b[0mxx\u001b[0m\u001b[0;34m,\u001b[0m \u001b[0myy\u001b[0m \u001b[0;34m=\u001b[0m \u001b[0mnp\u001b[0m\u001b[0;34m.\u001b[0m\u001b[0mmeshgrid\u001b[0m\u001b[0;34m(\u001b[0m\u001b[0mnp\u001b[0m\u001b[0;34m.\u001b[0m\u001b[0marange\u001b[0m\u001b[0;34m(\u001b[0m\u001b[0mx_min\u001b[0m\u001b[0;34m,\u001b[0m \u001b[0mx_max\u001b[0m\u001b[0;34m,\u001b[0m \u001b[0mh\u001b[0m\u001b[0;34m)\u001b[0m\u001b[0;34m,\u001b[0m \u001b[0mnp\u001b[0m\u001b[0;34m.\u001b[0m\u001b[0marange\u001b[0m\u001b[0;34m(\u001b[0m\u001b[0my_min\u001b[0m\u001b[0;34m,\u001b[0m \u001b[0my_max\u001b[0m\u001b[0;34m,\u001b[0m \u001b[0mh\u001b[0m\u001b[0;34m)\u001b[0m\u001b[0;34m)\u001b[0m\u001b[0;34m\u001b[0m\u001b[0;34m\u001b[0m\u001b[0m\n\u001b[1;32m     14\u001b[0m     \u001b[0;31m# Predict the function value for the whole grid\u001b[0m\u001b[0;34m\u001b[0m\u001b[0;34m\u001b[0m\u001b[0;34m\u001b[0m\u001b[0m\n\u001b[0;32m---> 15\u001b[0;31m     \u001b[0mZ\u001b[0m \u001b[0;34m=\u001b[0m \u001b[0mmodel\u001b[0m\u001b[0;34m(\u001b[0m\u001b[0mnp\u001b[0m\u001b[0;34m.\u001b[0m\u001b[0mc_\u001b[0m\u001b[0;34m[\u001b[0m\u001b[0mxx\u001b[0m\u001b[0;34m.\u001b[0m\u001b[0mravel\u001b[0m\u001b[0;34m(\u001b[0m\u001b[0;34m)\u001b[0m\u001b[0;34m,\u001b[0m \u001b[0myy\u001b[0m\u001b[0;34m.\u001b[0m\u001b[0mravel\u001b[0m\u001b[0;34m(\u001b[0m\u001b[0;34m)\u001b[0m\u001b[0;34m]\u001b[0m\u001b[0;34m)\u001b[0m\u001b[0;34m\u001b[0m\u001b[0;34m\u001b[0m\u001b[0m\n\u001b[0m\u001b[1;32m     16\u001b[0m     \u001b[0mZ\u001b[0m \u001b[0;34m=\u001b[0m \u001b[0mZ\u001b[0m\u001b[0;34m.\u001b[0m\u001b[0mreshape\u001b[0m\u001b[0;34m(\u001b[0m\u001b[0mxx\u001b[0m\u001b[0;34m.\u001b[0m\u001b[0mshape\u001b[0m\u001b[0;34m)\u001b[0m\u001b[0;34m\u001b[0m\u001b[0;34m\u001b[0m\u001b[0m\n\u001b[1;32m     17\u001b[0m     \u001b[0;31m# Plot the contour and training examples\u001b[0m\u001b[0;34m\u001b[0m\u001b[0;34m\u001b[0m\u001b[0;34m\u001b[0m\u001b[0m\n",
      "\u001b[0;32m<ipython-input-180-79d8354e3077>\u001b[0m in \u001b[0;36m<lambda>\u001b[0;34m(x)\u001b[0m\n\u001b[1;32m      7\u001b[0m     \u001b[0mplt\u001b[0m\u001b[0;34m.\u001b[0m\u001b[0mtitle\u001b[0m\u001b[0;34m(\u001b[0m\u001b[0;34m'Hidden Layer of size %d'\u001b[0m \u001b[0;34m%\u001b[0m \u001b[0mn_h\u001b[0m\u001b[0;34m)\u001b[0m\u001b[0;34m\u001b[0m\u001b[0;34m\u001b[0m\u001b[0m\n\u001b[1;32m      8\u001b[0m     \u001b[0mparameters\u001b[0m \u001b[0;34m=\u001b[0m \u001b[0mnn_model\u001b[0m\u001b[0;34m(\u001b[0m\u001b[0mX\u001b[0m\u001b[0;34m,\u001b[0m \u001b[0mY\u001b[0m\u001b[0;34m,\u001b[0m \u001b[0mn_h\u001b[0m\u001b[0;34m,\u001b[0m \u001b[0mnum_iterations\u001b[0m \u001b[0;34m=\u001b[0m \u001b[0;36m5000\u001b[0m\u001b[0;34m)\u001b[0m\u001b[0;34m\u001b[0m\u001b[0;34m\u001b[0m\u001b[0m\n\u001b[0;32m----> 9\u001b[0;31m     \u001b[0mplot_decision_boundary\u001b[0m\u001b[0;34m(\u001b[0m\u001b[0;32mlambda\u001b[0m \u001b[0mx\u001b[0m\u001b[0;34m:\u001b[0m \u001b[0mpredict\u001b[0m\u001b[0;34m(\u001b[0m\u001b[0mparameters\u001b[0m\u001b[0;34m,\u001b[0m \u001b[0mx\u001b[0m\u001b[0;34m.\u001b[0m\u001b[0mT\u001b[0m\u001b[0;34m)\u001b[0m\u001b[0;34m,\u001b[0m \u001b[0mX\u001b[0m\u001b[0;34m,\u001b[0m \u001b[0mY\u001b[0m\u001b[0;34m)\u001b[0m\u001b[0;34m\u001b[0m\u001b[0;34m\u001b[0m\u001b[0m\n\u001b[0m\u001b[1;32m     10\u001b[0m     \u001b[0mpredictions\u001b[0m \u001b[0;34m=\u001b[0m \u001b[0mpredict\u001b[0m\u001b[0;34m(\u001b[0m\u001b[0mparameters\u001b[0m\u001b[0;34m,\u001b[0m \u001b[0mX\u001b[0m\u001b[0;34m)\u001b[0m\u001b[0;34m\u001b[0m\u001b[0;34m\u001b[0m\u001b[0m\n\u001b[1;32m     11\u001b[0m     \u001b[0maccuracy\u001b[0m \u001b[0;34m=\u001b[0m \u001b[0mfloat\u001b[0m\u001b[0;34m(\u001b[0m\u001b[0;34m(\u001b[0m\u001b[0mnp\u001b[0m\u001b[0;34m.\u001b[0m\u001b[0mdot\u001b[0m\u001b[0;34m(\u001b[0m\u001b[0mY\u001b[0m\u001b[0;34m,\u001b[0m\u001b[0mpredictions\u001b[0m\u001b[0;34m.\u001b[0m\u001b[0mT\u001b[0m\u001b[0;34m)\u001b[0m \u001b[0;34m+\u001b[0m \u001b[0mnp\u001b[0m\u001b[0;34m.\u001b[0m\u001b[0mdot\u001b[0m\u001b[0;34m(\u001b[0m\u001b[0;36m1\u001b[0m\u001b[0;34m-\u001b[0m\u001b[0mY\u001b[0m\u001b[0;34m,\u001b[0m\u001b[0;36m1\u001b[0m\u001b[0;34m-\u001b[0m\u001b[0mpredictions\u001b[0m\u001b[0;34m.\u001b[0m\u001b[0mT\u001b[0m\u001b[0;34m)\u001b[0m\u001b[0;34m)\u001b[0m\u001b[0;34m/\u001b[0m\u001b[0mfloat\u001b[0m\u001b[0;34m(\u001b[0m\u001b[0mY\u001b[0m\u001b[0;34m.\u001b[0m\u001b[0msize\u001b[0m\u001b[0;34m)\u001b[0m\u001b[0;34m*\u001b[0m\u001b[0;36m100\u001b[0m\u001b[0;34m)\u001b[0m\u001b[0;34m\u001b[0m\u001b[0;34m\u001b[0m\u001b[0m\n",
      "\u001b[0;32m<ipython-input-176-23d8e173bb3d>\u001b[0m in \u001b[0;36mpredict\u001b[0;34m(parameters, X)\u001b[0m\n\u001b[1;32m     15\u001b[0m     \u001b[0;31m# Computes probabilities using forward propagation, and classifies to 0/1 using 0.5 as the threshold.\u001b[0m\u001b[0;34m\u001b[0m\u001b[0;34m\u001b[0m\u001b[0;34m\u001b[0m\u001b[0m\n\u001b[1;32m     16\u001b[0m     \u001b[0;31m### START CODE HERE ### (≈ 2 lines of code)\u001b[0m\u001b[0;34m\u001b[0m\u001b[0;34m\u001b[0m\u001b[0;34m\u001b[0m\u001b[0m\n\u001b[0;32m---> 17\u001b[0;31m     \u001b[0mA2\u001b[0m\u001b[0;34m,\u001b[0m \u001b[0mcache\u001b[0m \u001b[0;34m=\u001b[0m \u001b[0;32mNone\u001b[0m\u001b[0;34m\u001b[0m\u001b[0;34m\u001b[0m\u001b[0m\n\u001b[0m\u001b[1;32m     18\u001b[0m     \u001b[0mpredictions\u001b[0m \u001b[0;34m=\u001b[0m \u001b[0;32mNone\u001b[0m\u001b[0;34m\u001b[0m\u001b[0;34m\u001b[0m\u001b[0m\n\u001b[1;32m     19\u001b[0m     \u001b[0;31m### END CODE HERE ###\u001b[0m\u001b[0;34m\u001b[0m\u001b[0;34m\u001b[0m\u001b[0;34m\u001b[0m\u001b[0m\n",
      "\u001b[0;31mTypeError\u001b[0m: cannot unpack non-iterable NoneType object"
     ]
    }
   ],
   "source": [
    "# This may take about 2 minutes to run\n",
    "\n",
    "plt.figure(figsize=(16, 32))\n",
    "hidden_layer_sizes = [1, 2, 3, 4, 5, 20, 50]\n",
    "for i, n_h in enumerate(hidden_layer_sizes):\n",
    "    plt.subplot(5, 2, i+1)\n",
    "    plt.title('Hidden Layer of size %d' % n_h)\n",
    "    parameters = nn_model(X, Y, n_h, num_iterations = 5000)\n",
    "    plot_decision_boundary(lambda x: predict(parameters, x.T), X, Y)\n",
    "    predictions = predict(parameters, X)\n",
    "    accuracy = float((np.dot(Y,predictions.T) + np.dot(1-Y,1-predictions.T))/float(Y.size)*100)\n",
    "    print (\"Accuracy for {} hidden units: {} %\".format(n_h, accuracy))"
   ]
  },
  {
   "cell_type": "markdown",
   "metadata": {},
   "source": [
    "**Interpretation**:\n",
    "- The larger models (with more hidden units) are able to fit the training set better, until eventually the largest models overfit the data. \n",
    "- The best hidden layer size seems to be around n_h = 5. Indeed, a value around here seems to  fits the data well without also incurring noticable overfitting.\n",
    "- You will also learn later about regularization, which lets you use very large models (such as n_h = 50) without much overfitting. "
   ]
  },
  {
   "cell_type": "markdown",
   "metadata": {},
   "source": [
    "<font color='blue'>\n",
    "**You've learnt to:**\n",
    "- Build a complete neural network with a hidden layer\n",
    "- Make a good use of a non-linear unit\n",
    "- Implemented forward propagation and backpropagation, and trained a neural network\n",
    "- See the impact of varying the hidden layer size, including overfitting."
   ]
  },
  {
   "cell_type": "markdown",
   "metadata": {},
   "source": [
    "Congrats on finishing this Programming Assignment!\n",
    "\n",
    "Reference:\n",
    "\n",
    "- http://scs.ryerson.ca/~aharley/neural-networks/  (Read this one is about CNNs step by step)\n",
    "- http://cs231n.github.io/neural-networks-case-study/  (This is good reference too).\n",
    "\n",
    "## Disclosure \n",
    "\n",
    "The author of the original Jupyter Notebook is Andrew Ng. This Notebook has some modification to help students to fully understand the insides of fully connected neural network. In addition, this material is used only with teaching purposes."
   ]
  }
 ],
 "metadata": {
  "coursera": {
   "course_slug": "neural-networks-deep-learning",
   "graded_item_id": "wRuwL",
   "launcher_item_id": "NI888"
  },
  "kernelspec": {
   "display_name": "Python 3",
   "language": "python",
   "name": "python3"
  },
  "language_info": {
   "codemirror_mode": {
    "name": "ipython",
    "version": 3
   },
   "file_extension": ".py",
   "mimetype": "text/x-python",
   "name": "python",
   "nbconvert_exporter": "python",
   "pygments_lexer": "ipython3",
   "version": "3.7.3"
  }
 },
 "nbformat": 4,
 "nbformat_minor": 2
}